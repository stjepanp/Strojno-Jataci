{
 "cells": [
  {
   "cell_type": "markdown",
   "id": "2f5d72db",
   "metadata": {},
   "source": [
    "Download and extract data"
   ]
  },
  {
   "cell_type": "code",
   "execution_count": 1,
   "id": "894d29d7",
   "metadata": {},
   "outputs": [
    {
     "name": "stdout",
     "output_type": "stream",
     "text": [
      "Dataset already downloaded\n",
      "Data size:  127.5914134979248 MB\n"
     ]
    }
   ],
   "source": [
    "import urllib.request\n",
    "import tarfile\n",
    "import os\n",
    "\n",
    "if os.path.isdir('MovieSummaries') == False:\n",
    "    print(\"Downloading and extracting data...\")\n",
    "    data_tar_link = \"http://www.cs.cmu.edu/~ark/personas/data/MovieSummaries.tar.gz\"\n",
    "    ftpstream = urllib.request.urlopen(data_tar_link)\n",
    "\n",
    "    data_tar_file = tarfile.open(fileobj=ftpstream, mode=\"r|gz\")\n",
    "    data_tar_file.extractall()\n",
    "    \n",
    "    print(\"Dataset downloaded and extracted.\")\n",
    "else:\n",
    "    print(\"Dataset already downloaded\")\n",
    "\n",
    "print(\"Data size: \", sum(os.path.getsize(os.path.join('MovieSummaries', f)) / (1024.0*1024.0)\n",
    "          for f in os.listdir('MovieSummaries')\n",
    "          if os.path.isfile(os.path.join('MovieSummaries', f))), \"MB\")\n",
    "# this should take less than two minutes (depends mostly on connection speed), if it takes longer \n",
    "# check if MovieSummaries directory is created in working directory and some files are in it"
   ]
  },
  {
   "cell_type": "code",
   "execution_count": 2,
   "id": "efa2e211",
   "metadata": {},
   "outputs": [],
   "source": [
    "import pandas as pd\n",
    "import numpy as np\n",
    "import matplotlib.pyplot as plt\n",
    "%matplotlib inline"
   ]
  },
  {
   "cell_type": "code",
   "execution_count": 3,
   "id": "cb28a149",
   "metadata": {},
   "outputs": [],
   "source": [
    "header_metadata = ['wikiID', 'freebaseID', 'name', 'release_date', 'box_office', 'runtime', 'language', 'country', 'genre']\n",
    "movie_metadata = pd.read_csv('./MovieSummaries/movie.metadata.tsv', sep='\\t', names=header_metadata)"
   ]
  },
  {
   "cell_type": "code",
   "execution_count": 4,
   "id": "39df57dc",
   "metadata": {},
   "outputs": [
    {
     "name": "stdout",
     "output_type": "stream",
     "text": [
      "81741\n"
     ]
    },
    {
     "data": {
      "text/html": [
       "<div>\n",
       "<style scoped>\n",
       "    .dataframe tbody tr th:only-of-type {\n",
       "        vertical-align: middle;\n",
       "    }\n",
       "\n",
       "    .dataframe tbody tr th {\n",
       "        vertical-align: top;\n",
       "    }\n",
       "\n",
       "    .dataframe thead th {\n",
       "        text-align: right;\n",
       "    }\n",
       "</style>\n",
       "<table border=\"1\" class=\"dataframe\">\n",
       "  <thead>\n",
       "    <tr style=\"text-align: right;\">\n",
       "      <th></th>\n",
       "      <th>wikiID</th>\n",
       "      <th>freebaseID</th>\n",
       "      <th>name</th>\n",
       "      <th>release_date</th>\n",
       "      <th>box_office</th>\n",
       "      <th>runtime</th>\n",
       "      <th>language</th>\n",
       "      <th>country</th>\n",
       "      <th>genre</th>\n",
       "    </tr>\n",
       "  </thead>\n",
       "  <tbody>\n",
       "    <tr>\n",
       "      <th>0</th>\n",
       "      <td>975900</td>\n",
       "      <td>/m/03vyhn</td>\n",
       "      <td>Ghosts of Mars</td>\n",
       "      <td>2001-08-24</td>\n",
       "      <td>14010832.0</td>\n",
       "      <td>98.0</td>\n",
       "      <td>{\"/m/02h40lc\": \"English Language\"}</td>\n",
       "      <td>{\"/m/09c7w0\": \"United States of America\"}</td>\n",
       "      <td>{\"/m/01jfsb\": \"Thriller\", \"/m/06n90\": \"Science...</td>\n",
       "    </tr>\n",
       "    <tr>\n",
       "      <th>1</th>\n",
       "      <td>3196793</td>\n",
       "      <td>/m/08yl5d</td>\n",
       "      <td>Getting Away with Murder: The JonBenét Ramsey ...</td>\n",
       "      <td>2000-02-16</td>\n",
       "      <td>NaN</td>\n",
       "      <td>95.0</td>\n",
       "      <td>{\"/m/02h40lc\": \"English Language\"}</td>\n",
       "      <td>{\"/m/09c7w0\": \"United States of America\"}</td>\n",
       "      <td>{\"/m/02n4kr\": \"Mystery\", \"/m/03bxz7\": \"Biograp...</td>\n",
       "    </tr>\n",
       "    <tr>\n",
       "      <th>2</th>\n",
       "      <td>28463795</td>\n",
       "      <td>/m/0crgdbh</td>\n",
       "      <td>Brun bitter</td>\n",
       "      <td>1988</td>\n",
       "      <td>NaN</td>\n",
       "      <td>83.0</td>\n",
       "      <td>{\"/m/05f_3\": \"Norwegian Language\"}</td>\n",
       "      <td>{\"/m/05b4w\": \"Norway\"}</td>\n",
       "      <td>{\"/m/0lsxr\": \"Crime Fiction\", \"/m/07s9rl0\": \"D...</td>\n",
       "    </tr>\n",
       "    <tr>\n",
       "      <th>3</th>\n",
       "      <td>9363483</td>\n",
       "      <td>/m/0285_cd</td>\n",
       "      <td>White Of The Eye</td>\n",
       "      <td>1987</td>\n",
       "      <td>NaN</td>\n",
       "      <td>110.0</td>\n",
       "      <td>{\"/m/02h40lc\": \"English Language\"}</td>\n",
       "      <td>{\"/m/07ssc\": \"United Kingdom\"}</td>\n",
       "      <td>{\"/m/01jfsb\": \"Thriller\", \"/m/0glj9q\": \"Erotic...</td>\n",
       "    </tr>\n",
       "    <tr>\n",
       "      <th>4</th>\n",
       "      <td>261236</td>\n",
       "      <td>/m/01mrr1</td>\n",
       "      <td>A Woman in Flames</td>\n",
       "      <td>1983</td>\n",
       "      <td>NaN</td>\n",
       "      <td>106.0</td>\n",
       "      <td>{\"/m/04306rv\": \"German Language\"}</td>\n",
       "      <td>{\"/m/0345h\": \"Germany\"}</td>\n",
       "      <td>{\"/m/07s9rl0\": \"Drama\"}</td>\n",
       "    </tr>\n",
       "  </tbody>\n",
       "</table>\n",
       "</div>"
      ],
      "text/plain": [
       "     wikiID  freebaseID                                               name  \\\n",
       "0    975900   /m/03vyhn                                     Ghosts of Mars   \n",
       "1   3196793   /m/08yl5d  Getting Away with Murder: The JonBenét Ramsey ...   \n",
       "2  28463795  /m/0crgdbh                                        Brun bitter   \n",
       "3   9363483  /m/0285_cd                                   White Of The Eye   \n",
       "4    261236   /m/01mrr1                                  A Woman in Flames   \n",
       "\n",
       "  release_date  box_office  runtime                            language  \\\n",
       "0   2001-08-24  14010832.0     98.0  {\"/m/02h40lc\": \"English Language\"}   \n",
       "1   2000-02-16         NaN     95.0  {\"/m/02h40lc\": \"English Language\"}   \n",
       "2         1988         NaN     83.0  {\"/m/05f_3\": \"Norwegian Language\"}   \n",
       "3         1987         NaN    110.0  {\"/m/02h40lc\": \"English Language\"}   \n",
       "4         1983         NaN    106.0   {\"/m/04306rv\": \"German Language\"}   \n",
       "\n",
       "                                     country  \\\n",
       "0  {\"/m/09c7w0\": \"United States of America\"}   \n",
       "1  {\"/m/09c7w0\": \"United States of America\"}   \n",
       "2                     {\"/m/05b4w\": \"Norway\"}   \n",
       "3             {\"/m/07ssc\": \"United Kingdom\"}   \n",
       "4                    {\"/m/0345h\": \"Germany\"}   \n",
       "\n",
       "                                               genre  \n",
       "0  {\"/m/01jfsb\": \"Thriller\", \"/m/06n90\": \"Science...  \n",
       "1  {\"/m/02n4kr\": \"Mystery\", \"/m/03bxz7\": \"Biograp...  \n",
       "2  {\"/m/0lsxr\": \"Crime Fiction\", \"/m/07s9rl0\": \"D...  \n",
       "3  {\"/m/01jfsb\": \"Thriller\", \"/m/0glj9q\": \"Erotic...  \n",
       "4                            {\"/m/07s9rl0\": \"Drama\"}  "
      ]
     },
     "execution_count": 4,
     "metadata": {},
     "output_type": "execute_result"
    }
   ],
   "source": [
    "print(len(movie_metadata))\n",
    "movie_metadata.head()"
   ]
  },
  {
   "cell_type": "markdown",
   "id": "e28e40c4",
   "metadata": {},
   "source": [
    "Maknimo nepotrebne retke"
   ]
  },
  {
   "cell_type": "code",
   "execution_count": 5,
   "id": "203ac27b",
   "metadata": {},
   "outputs": [],
   "source": [
    "movie_metadata = movie_metadata.drop(\n",
    "    columns=['freebaseID', 'release_date', 'box_office', 'runtime', 'country', 'language'])"
   ]
  },
  {
   "cell_type": "code",
   "execution_count": 6,
   "id": "294dc203",
   "metadata": {},
   "outputs": [
    {
     "data": {
      "text/html": [
       "<div>\n",
       "<style scoped>\n",
       "    .dataframe tbody tr th:only-of-type {\n",
       "        vertical-align: middle;\n",
       "    }\n",
       "\n",
       "    .dataframe tbody tr th {\n",
       "        vertical-align: top;\n",
       "    }\n",
       "\n",
       "    .dataframe thead th {\n",
       "        text-align: right;\n",
       "    }\n",
       "</style>\n",
       "<table border=\"1\" class=\"dataframe\">\n",
       "  <thead>\n",
       "    <tr style=\"text-align: right;\">\n",
       "      <th></th>\n",
       "      <th>wikiID</th>\n",
       "      <th>name</th>\n",
       "      <th>genre</th>\n",
       "    </tr>\n",
       "  </thead>\n",
       "  <tbody>\n",
       "    <tr>\n",
       "      <th>0</th>\n",
       "      <td>975900</td>\n",
       "      <td>Ghosts of Mars</td>\n",
       "      <td>{\"/m/01jfsb\": \"Thriller\", \"/m/06n90\": \"Science...</td>\n",
       "    </tr>\n",
       "    <tr>\n",
       "      <th>1</th>\n",
       "      <td>3196793</td>\n",
       "      <td>Getting Away with Murder: The JonBenét Ramsey ...</td>\n",
       "      <td>{\"/m/02n4kr\": \"Mystery\", \"/m/03bxz7\": \"Biograp...</td>\n",
       "    </tr>\n",
       "    <tr>\n",
       "      <th>2</th>\n",
       "      <td>28463795</td>\n",
       "      <td>Brun bitter</td>\n",
       "      <td>{\"/m/0lsxr\": \"Crime Fiction\", \"/m/07s9rl0\": \"D...</td>\n",
       "    </tr>\n",
       "    <tr>\n",
       "      <th>3</th>\n",
       "      <td>9363483</td>\n",
       "      <td>White Of The Eye</td>\n",
       "      <td>{\"/m/01jfsb\": \"Thriller\", \"/m/0glj9q\": \"Erotic...</td>\n",
       "    </tr>\n",
       "    <tr>\n",
       "      <th>4</th>\n",
       "      <td>261236</td>\n",
       "      <td>A Woman in Flames</td>\n",
       "      <td>{\"/m/07s9rl0\": \"Drama\"}</td>\n",
       "    </tr>\n",
       "    <tr>\n",
       "      <th>5</th>\n",
       "      <td>13696889</td>\n",
       "      <td>The Gangsters</td>\n",
       "      <td>{\"/m/02hmvc\": \"Short Film\", \"/m/06ppq\": \"Silen...</td>\n",
       "    </tr>\n",
       "    <tr>\n",
       "      <th>6</th>\n",
       "      <td>18998739</td>\n",
       "      <td>The Sorcerer's Apprentice</td>\n",
       "      <td>{\"/m/0hqxf\": \"Family Film\", \"/m/01hmnh\": \"Fant...</td>\n",
       "    </tr>\n",
       "    <tr>\n",
       "      <th>7</th>\n",
       "      <td>10408933</td>\n",
       "      <td>Alexander's Ragtime Band</td>\n",
       "      <td>{\"/m/04t36\": \"Musical\", \"/m/01z4y\": \"Comedy\", ...</td>\n",
       "    </tr>\n",
       "    <tr>\n",
       "      <th>8</th>\n",
       "      <td>9997961</td>\n",
       "      <td>Contigo y aquí</td>\n",
       "      <td>{\"/m/04t36\": \"Musical\", \"/m/07s9rl0\": \"Drama\",...</td>\n",
       "    </tr>\n",
       "    <tr>\n",
       "      <th>9</th>\n",
       "      <td>2345652</td>\n",
       "      <td>City of the Dead</td>\n",
       "      <td>{\"/m/03npn\": \"Horror\", \"/m/0fdjb\": \"Supernatur...</td>\n",
       "    </tr>\n",
       "    <tr>\n",
       "      <th>10</th>\n",
       "      <td>175026</td>\n",
       "      <td>Sarah and Son</td>\n",
       "      <td>{\"/m/07s9rl0\": \"Drama\", \"/m/01g6gs\": \"Black-an...</td>\n",
       "    </tr>\n",
       "    <tr>\n",
       "      <th>11</th>\n",
       "      <td>24229100</td>\n",
       "      <td>Lady Snowblood 2: Love Song of Vengeance</td>\n",
       "      <td>{\"/m/0lsxr\": \"Crime Fiction\", \"/m/01jfsb\": \"Th...</td>\n",
       "    </tr>\n",
       "    <tr>\n",
       "      <th>12</th>\n",
       "      <td>6631279</td>\n",
       "      <td>Little city</td>\n",
       "      <td>{\"/m/06cvj\": \"Romantic comedy\", \"/m/0hj3n0w\": ...</td>\n",
       "    </tr>\n",
       "    <tr>\n",
       "      <th>13</th>\n",
       "      <td>171005</td>\n",
       "      <td>Henry V</td>\n",
       "      <td>{\"/m/04xvh5\": \"Costume drama\", \"/m/082gq\": \"Wa...</td>\n",
       "    </tr>\n",
       "    <tr>\n",
       "      <th>14</th>\n",
       "      <td>18296435</td>\n",
       "      <td>Aaah Belinda</td>\n",
       "      <td>{\"/m/01z4y\": \"Comedy\"}</td>\n",
       "    </tr>\n",
       "    <tr>\n",
       "      <th>15</th>\n",
       "      <td>11250635</td>\n",
       "      <td>The Mechanical Monsters</td>\n",
       "      <td>{\"/m/06n90\": \"Science Fiction\", \"/m/03k9fj\": \"...</td>\n",
       "    </tr>\n",
       "    <tr>\n",
       "      <th>16</th>\n",
       "      <td>30388930</td>\n",
       "      <td>1919</td>\n",
       "      <td>{\"/m/07s9rl0\": \"Drama\"}</td>\n",
       "    </tr>\n",
       "    <tr>\n",
       "      <th>17</th>\n",
       "      <td>77856</td>\n",
       "      <td>Mary Poppins</td>\n",
       "      <td>{\"/m/0hj3myq\": \"Children's/Family\", \"/m/04t36\"...</td>\n",
       "    </tr>\n",
       "    <tr>\n",
       "      <th>18</th>\n",
       "      <td>32456683</td>\n",
       "      <td>Die Fahne von Kriwoj Rog</td>\n",
       "      <td>{}</td>\n",
       "    </tr>\n",
       "    <tr>\n",
       "      <th>19</th>\n",
       "      <td>33420460</td>\n",
       "      <td>Keep the Change</td>\n",
       "      <td>{\"/m/07s9rl0\": \"Drama\"}</td>\n",
       "    </tr>\n",
       "  </tbody>\n",
       "</table>\n",
       "</div>"
      ],
      "text/plain": [
       "      wikiID                                               name  \\\n",
       "0     975900                                     Ghosts of Mars   \n",
       "1    3196793  Getting Away with Murder: The JonBenét Ramsey ...   \n",
       "2   28463795                                        Brun bitter   \n",
       "3    9363483                                   White Of The Eye   \n",
       "4     261236                                  A Woman in Flames   \n",
       "5   13696889                                      The Gangsters   \n",
       "6   18998739                          The Sorcerer's Apprentice   \n",
       "7   10408933                           Alexander's Ragtime Band   \n",
       "8    9997961                                     Contigo y aquí   \n",
       "9    2345652                                   City of the Dead   \n",
       "10    175026                                      Sarah and Son   \n",
       "11  24229100           Lady Snowblood 2: Love Song of Vengeance   \n",
       "12   6631279                                        Little city   \n",
       "13    171005                                            Henry V   \n",
       "14  18296435                                       Aaah Belinda   \n",
       "15  11250635                            The Mechanical Monsters   \n",
       "16  30388930                                               1919   \n",
       "17     77856                                       Mary Poppins   \n",
       "18  32456683                           Die Fahne von Kriwoj Rog   \n",
       "19  33420460                                    Keep the Change   \n",
       "\n",
       "                                                genre  \n",
       "0   {\"/m/01jfsb\": \"Thriller\", \"/m/06n90\": \"Science...  \n",
       "1   {\"/m/02n4kr\": \"Mystery\", \"/m/03bxz7\": \"Biograp...  \n",
       "2   {\"/m/0lsxr\": \"Crime Fiction\", \"/m/07s9rl0\": \"D...  \n",
       "3   {\"/m/01jfsb\": \"Thriller\", \"/m/0glj9q\": \"Erotic...  \n",
       "4                             {\"/m/07s9rl0\": \"Drama\"}  \n",
       "5   {\"/m/02hmvc\": \"Short Film\", \"/m/06ppq\": \"Silen...  \n",
       "6   {\"/m/0hqxf\": \"Family Film\", \"/m/01hmnh\": \"Fant...  \n",
       "7   {\"/m/04t36\": \"Musical\", \"/m/01z4y\": \"Comedy\", ...  \n",
       "8   {\"/m/04t36\": \"Musical\", \"/m/07s9rl0\": \"Drama\",...  \n",
       "9   {\"/m/03npn\": \"Horror\", \"/m/0fdjb\": \"Supernatur...  \n",
       "10  {\"/m/07s9rl0\": \"Drama\", \"/m/01g6gs\": \"Black-an...  \n",
       "11  {\"/m/0lsxr\": \"Crime Fiction\", \"/m/01jfsb\": \"Th...  \n",
       "12  {\"/m/06cvj\": \"Romantic comedy\", \"/m/0hj3n0w\": ...  \n",
       "13  {\"/m/04xvh5\": \"Costume drama\", \"/m/082gq\": \"Wa...  \n",
       "14                             {\"/m/01z4y\": \"Comedy\"}  \n",
       "15  {\"/m/06n90\": \"Science Fiction\", \"/m/03k9fj\": \"...  \n",
       "16                            {\"/m/07s9rl0\": \"Drama\"}  \n",
       "17  {\"/m/0hj3myq\": \"Children's/Family\", \"/m/04t36\"...  \n",
       "18                                                 {}  \n",
       "19                            {\"/m/07s9rl0\": \"Drama\"}  "
      ]
     },
     "execution_count": 6,
     "metadata": {},
     "output_type": "execute_result"
    }
   ],
   "source": [
    "movie_metadata.head(20)"
   ]
  },
  {
   "cell_type": "markdown",
   "id": "808d41f8",
   "metadata": {},
   "source": [
    "Pretvorimo genre stupac tako da mu elementi sadrze skupove zanrova, a ne json format s IDevima"
   ]
  },
  {
   "cell_type": "code",
   "execution_count": 7,
   "id": "6b04d45d",
   "metadata": {},
   "outputs": [
    {
     "data": {
      "text/plain": [
       "{'Action',\n",
       " 'Adventure',\n",
       " 'Horror',\n",
       " 'Science Fiction',\n",
       " 'Space western',\n",
       " 'Supernatural',\n",
       " 'Thriller'}"
      ]
     },
     "execution_count": 7,
     "metadata": {},
     "output_type": "execute_result"
    }
   ],
   "source": [
    "import json\n",
    "\n",
    "set(json.loads(movie_metadata['genre'][0]).values())"
   ]
  },
  {
   "cell_type": "code",
   "execution_count": 8,
   "id": "c969379b",
   "metadata": {},
   "outputs": [],
   "source": [
    "movie_metadata['genre'] = movie_metadata['genre'].apply(lambda x: set(json.loads(x).values()))"
   ]
  },
  {
   "cell_type": "code",
   "execution_count": 9,
   "id": "d240bf48",
   "metadata": {},
   "outputs": [
    {
     "data": {
      "text/html": [
       "<div>\n",
       "<style scoped>\n",
       "    .dataframe tbody tr th:only-of-type {\n",
       "        vertical-align: middle;\n",
       "    }\n",
       "\n",
       "    .dataframe tbody tr th {\n",
       "        vertical-align: top;\n",
       "    }\n",
       "\n",
       "    .dataframe thead th {\n",
       "        text-align: right;\n",
       "    }\n",
       "</style>\n",
       "<table border=\"1\" class=\"dataframe\">\n",
       "  <thead>\n",
       "    <tr style=\"text-align: right;\">\n",
       "      <th></th>\n",
       "      <th>wikiID</th>\n",
       "      <th>name</th>\n",
       "      <th>genre</th>\n",
       "    </tr>\n",
       "  </thead>\n",
       "  <tbody>\n",
       "    <tr>\n",
       "      <th>0</th>\n",
       "      <td>975900</td>\n",
       "      <td>Ghosts of Mars</td>\n",
       "      <td>{Supernatural, Horror, Thriller, Science Ficti...</td>\n",
       "    </tr>\n",
       "    <tr>\n",
       "      <th>1</th>\n",
       "      <td>3196793</td>\n",
       "      <td>Getting Away with Murder: The JonBenét Ramsey ...</td>\n",
       "      <td>{Drama, Biographical film, Mystery, Crime Drama}</td>\n",
       "    </tr>\n",
       "    <tr>\n",
       "      <th>2</th>\n",
       "      <td>28463795</td>\n",
       "      <td>Brun bitter</td>\n",
       "      <td>{Drama, Crime Fiction}</td>\n",
       "    </tr>\n",
       "    <tr>\n",
       "      <th>3</th>\n",
       "      <td>9363483</td>\n",
       "      <td>White Of The Eye</td>\n",
       "      <td>{Psychological thriller, Erotic thriller, Thri...</td>\n",
       "    </tr>\n",
       "    <tr>\n",
       "      <th>4</th>\n",
       "      <td>261236</td>\n",
       "      <td>A Woman in Flames</td>\n",
       "      <td>{Drama}</td>\n",
       "    </tr>\n",
       "  </tbody>\n",
       "</table>\n",
       "</div>"
      ],
      "text/plain": [
       "     wikiID                                               name  \\\n",
       "0    975900                                     Ghosts of Mars   \n",
       "1   3196793  Getting Away with Murder: The JonBenét Ramsey ...   \n",
       "2  28463795                                        Brun bitter   \n",
       "3   9363483                                   White Of The Eye   \n",
       "4    261236                                  A Woman in Flames   \n",
       "\n",
       "                                               genre  \n",
       "0  {Supernatural, Horror, Thriller, Science Ficti...  \n",
       "1   {Drama, Biographical film, Mystery, Crime Drama}  \n",
       "2                             {Drama, Crime Fiction}  \n",
       "3  {Psychological thriller, Erotic thriller, Thri...  \n",
       "4                                            {Drama}  "
      ]
     },
     "execution_count": 9,
     "metadata": {},
     "output_type": "execute_result"
    }
   ],
   "source": [
    "movie_metadata.head()"
   ]
  },
  {
   "cell_type": "code",
   "execution_count": 10,
   "id": "1cdea353",
   "metadata": {},
   "outputs": [
    {
     "data": {
      "text/plain": [
       "81741"
      ]
     },
     "execution_count": 10,
     "metadata": {},
     "output_type": "execute_result"
    }
   ],
   "source": [
    "len(movie_metadata)"
   ]
  },
  {
   "cell_type": "markdown",
   "id": "963d9f91",
   "metadata": {},
   "source": [
    "Postoje filmovi na raznim jezicima, ali su sazetci radnje filma preuzeti s engleske wikipedije stoga je to OK."
   ]
  },
  {
   "cell_type": "markdown",
   "id": "57966648",
   "metadata": {},
   "source": [
    "Pogledajmo kakvi sve zanrovi filmova postoje u datasetu"
   ]
  },
  {
   "cell_type": "code",
   "execution_count": 11,
   "id": "465cc167",
   "metadata": {},
   "outputs": [],
   "source": [
    "all_genres = {genre for genre_set in movie_metadata['genre'] for genre in genre_set}"
   ]
  },
  {
   "cell_type": "code",
   "execution_count": 12,
   "id": "1f538870",
   "metadata": {},
   "outputs": [
    {
     "data": {
      "text/plain": [
       "363"
      ]
     },
     "execution_count": 12,
     "metadata": {},
     "output_type": "execute_result"
    }
   ],
   "source": [
    "len(all_genres)"
   ]
  },
  {
   "cell_type": "code",
   "execution_count": 13,
   "id": "4bdd312e",
   "metadata": {},
   "outputs": [],
   "source": [
    "from collections import Counter\n",
    "\n",
    "count_genres = Counter([genre for genre_set in movie_metadata['genre'] for genre in genre_set])"
   ]
  },
  {
   "cell_type": "code",
   "execution_count": 14,
   "id": "f98abedf",
   "metadata": {},
   "outputs": [
    {
     "name": "stdout",
     "output_type": "stream",
     "text": [
      "13741\n",
      "229587\n",
      "0.0564711007364545\n"
     ]
    }
   ],
   "source": [
    "hard_limit = 100\n",
    "\n",
    "print(sum(x[1] for x in count_genres.most_common(363)[hard_limit:]))\n",
    "print(sum(x[1] for x in count_genres.most_common(363)[:hard_limit]))\n",
    "\n",
    "print(sum(x[1] for x in count_genres.most_common(363)[hard_limit:]) / \n",
    "     sum(x[1] for x in count_genres.most_common(363)))"
   ]
  },
  {
   "cell_type": "code",
   "execution_count": 15,
   "id": "f6d557b5",
   "metadata": {},
   "outputs": [
    {
     "data": {
      "text/plain": [
       "[('Drama', 34007),\n",
       " ('Comedy', 16349),\n",
       " ('Romance Film', 10234),\n",
       " ('Black-and-white', 9094),\n",
       " ('Action', 8798),\n",
       " ('Thriller', 8744),\n",
       " ('Short Film', 8141),\n",
       " ('World cinema', 7155),\n",
       " ('Crime Fiction', 6948),\n",
       " ('Indie', 6897),\n",
       " ('Documentary', 5630),\n",
       " ('Horror', 5280),\n",
       " ('Silent film', 5250),\n",
       " ('Adventure', 4963),\n",
       " ('Family Film', 4598),\n",
       " ('Action/Adventure', 4561),\n",
       " ('Comedy film', 4362),\n",
       " ('Musical', 4160),\n",
       " ('Animation', 3534),\n",
       " ('Romantic drama', 3372),\n",
       " ('Mystery', 3195),\n",
       " ('Science Fiction', 3052),\n",
       " ('Fantasy', 2820),\n",
       " ('Romantic comedy', 2680),\n",
       " ('War film', 2652),\n",
       " ('Japanese Movies', 2322),\n",
       " ('Western', 2225),\n",
       " ('Crime Thriller', 2122),\n",
       " ('Period piece', 1758),\n",
       " ('Comedy-drama', 1720),\n",
       " ('Film adaptation', 1531),\n",
       " ('Chinese Movies', 1525),\n",
       " ('Biography', 1392),\n",
       " ('Psychological thriller', 1331),\n",
       " ('Bollywood', 1321),\n",
       " ('Sports', 1206),\n",
       " ('Biographical film', 1198),\n",
       " ('LGBT', 1163),\n",
       " ('Music', 1088),\n",
       " ('Family Drama', 1043),\n",
       " ('Black comedy', 1025),\n",
       " ('Parody', 999),\n",
       " ('Television movie', 972),\n",
       " ('Martial Arts Film', 928),\n",
       " (\"Children's/Family\", 926),\n",
       " ('Teen', 925),\n",
       " ('Coming of age', 910),\n",
       " ('History', 888),\n",
       " ('Political drama', 799),\n",
       " ('Slasher', 768),\n",
       " ('Suspense', 759),\n",
       " ('Cult', 759),\n",
       " ('Culture & Society', 751),\n",
       " ('Melodrama', 721),\n",
       " ('Satire', 704),\n",
       " ('Supernatural', 641),\n",
       " ('Biopic [feature]', 635),\n",
       " ('Film noir', 622),\n",
       " ('Slapstick', 617),\n",
       " ('Historical fiction', 606),\n",
       " ('Crime Drama', 563),\n",
       " ('Action Thrillers', 516),\n",
       " (\"Children's\", 508),\n",
       " ('B-movie', 493),\n",
       " ('Costume drama', 485),\n",
       " ('Spy', 474),\n",
       " ('Art film', 464),\n",
       " ('Ensemble Film', 453),\n",
       " ('Anime', 445),\n",
       " ('Gangster Film', 428),\n",
       " ('Docudrama', 420),\n",
       " ('Political cinema', 415),\n",
       " ('Detective', 405),\n",
       " ('Creature Film', 387),\n",
       " ('Buddy film', 372),\n",
       " ('Gay Themed', 357),\n",
       " ('Filipino Movies', 346),\n",
       " ('Road movie', 343),\n",
       " ('Detective fiction', 340),\n",
       " ('Sex comedy', 323),\n",
       " ('Social issues', 320),\n",
       " ('Historical drama', 317),\n",
       " ('Pornographic movie', 317),\n",
       " ('Erotica', 316),\n",
       " ('Crime Comedy', 307),\n",
       " ('Superhero movie', 302),\n",
       " ('Concert film', 301),\n",
       " ('Screwball comedy', 299),\n",
       " ('Gay', 289),\n",
       " ('Disaster', 287),\n",
       " ('Gay Interest', 287),\n",
       " (\"Children's Fantasy\", 280),\n",
       " ('Epic', 278),\n",
       " ('Zombie Film', 274),\n",
       " ('Comedy of manners', 273),\n",
       " ('Experimental film', 258),\n",
       " ('Family-Oriented Adventure', 244),\n",
       " ('Courtroom Drama', 242),\n",
       " ('Political thriller', 242),\n",
       " ('Horror Comedy', 241)]"
      ]
     },
     "execution_count": 15,
     "metadata": {},
     "output_type": "execute_result"
    }
   ],
   "source": [
    "count_genres.most_common(hard_limit)"
   ]
  },
  {
   "cell_type": "code",
   "execution_count": 16,
   "id": "ace8a69c",
   "metadata": {},
   "outputs": [],
   "source": [
    "genre_transform = {\n",
    "    'Romance film': ['Romance'],\n",
    "    'Family Film': ['Family'],\n",
    "    'Action/Adventure': ['Action', 'Adventure'],\n",
    "    'Romantic drama': ['Romance', 'Drama'],\n",
    "    'Romantic comedy': ['Romance', 'Comedy'],\n",
    "    'Crime Thriller': ['Crime', 'Thriller'],\n",
    "    'Crime Fiction': ['Crime', 'Fiction'],\n",
    "    'Comedy-drama': ['Comedy', 'Drama'],\n",
    "    'Psychological thriller': ['Psychological', 'Thriller'],\n",
    "    'Biographical film': ['Biographical'],\n",
    "    'Family Drama': ['Family', 'Drama'],\n",
    "    'Children\\'s/Family': ['Children\\'s'],\n",
    "    'Political drama': ['Political', 'Drama'],\n",
    "    'Historical fiction': ['History', 'Fiction'],\n",
    "    'Crime Drama': ['Crime', 'Drama'],\n",
    "    'Action Thrillers': ['Action', 'Thriller'],\n",
    "    'Docudrama': ['Documentary', 'Drama'],\n",
    "    'Political cinema': ['Political'],\n",
    "    'Detective fiction': ['Detective', 'Fiction'],\n",
    "    'Historical drama': ['History', 'Drama'],\n",
    "    'Crime Comedy': ['Crime', 'Comedy'],\n",
    "    'Children\\'s Fantasy': ['Children\\'s', 'Fantasy'],\n",
    "    'Family-Oriented Adventure': ['Family', 'Adventure'],\n",
    "    'Courtroom Drama': ['Crime', 'Drama'],\n",
    "    'Political thriller': ['Political', 'Thriller'],\n",
    "    'Horror Comedy': ['Horror', 'Comedy']\n",
    "}\n",
    "\n",
    "genre_drop = {'Black-and-white', 'Short Film', 'Silent film', 'Indie', 'World cinema',\n",
    "             'Japanese Movies', 'Chinese Movies', 'Film adaptation', 'B-movie', 'Ensemble Film'}\n",
    "\n",
    "genre_drop = genre_drop.union({x[0] for x in count_genres.most_common(363)[hard_limit:]})\n",
    "\n",
    "def standardize_genres(genre_set, genre_transform=genre_transform, genre_drop=genre_drop):\n",
    "    genre_set = genre_set.difference(genre_drop)\n",
    "    \n",
    "    for old_genre, new_genre in genre_transform.items():\n",
    "        if old_genre not in genre_set:\n",
    "            continue\n",
    "\n",
    "        genre_set = genre_set.union(new_genre).difference({old_genre})\n",
    "        \n",
    "    return genre_set"
   ]
  },
  {
   "cell_type": "code",
   "execution_count": 17,
   "id": "033f4b57",
   "metadata": {},
   "outputs": [
    {
     "name": "stdout",
     "output_type": "stream",
     "text": [
      "{'Supernatural', 'Horror', 'Thriller', 'Science Fiction', 'Action', 'Space western', 'Adventure'}\n",
      "{'Drama', 'Biographical film', 'Mystery', 'Crime Drama'}\n",
      "{'Drama', 'Crime Fiction'}\n",
      "{'Psychological thriller', 'Erotic thriller', 'Thriller'}\n",
      "{'Drama'}\n",
      "{'Short Film', 'Black-and-white', 'Silent film', 'Indie', 'Comedy'}\n",
      "{'Family Film', 'World cinema', 'Fantasy', 'Adventure'}\n",
      "{'Musical', 'Black-and-white', 'Comedy'}\n",
      "{'Musical', 'Drama', 'Comedy'}\n",
      "{'Horror', 'Supernatural'}\n",
      "{'Drama', 'Black-and-white'}\n",
      "{'Action/Adventure', 'Crime Fiction', 'Japanese Movies', 'Thriller', 'World cinema'}\n",
      "{'Comedy-drama', 'Romance Film', 'Romantic comedy', 'Romantic drama', 'Comedy', 'Drama', 'Ensemble Film'}\n",
      "{'Costume drama', 'Period piece', 'War film', 'Film adaptation', 'Drama', 'Epic'}\n",
      "{'Comedy'}\n",
      "{'Short Film', 'Animation', 'Fantasy', 'Family Film', 'Science Fiction', 'Action', 'Adventure'}\n",
      "{'Drama'}\n",
      "{\"Children's Fantasy\", 'Fantasy', 'Family Film', 'Comedy', 'Drama', 'Musical', \"Children's/Family\"}\n",
      "set()\n",
      "{'Drama'}\n"
     ]
    }
   ],
   "source": [
    "for value in movie_metadata['genre'].head(20):\n",
    "    print(value)"
   ]
  },
  {
   "cell_type": "code",
   "execution_count": 18,
   "id": "ee39d44f",
   "metadata": {},
   "outputs": [
    {
     "name": "stdout",
     "output_type": "stream",
     "text": [
      "{'Supernatural', 'Thriller', 'Horror', 'Action', 'Adventure', 'Science Fiction'}\n",
      "{'Drama', 'Crime', 'Mystery', 'Biographical'}\n",
      "{'Fiction', 'Drama', 'Crime'}\n",
      "{'Psychological', 'Thriller'}\n",
      "{'Drama'}\n",
      "{'Comedy'}\n",
      "{'Family', 'Fantasy', 'Adventure'}\n",
      "{'Musical', 'Comedy'}\n",
      "{'Musical', 'Drama', 'Comedy'}\n",
      "{'Horror', 'Supernatural'}\n",
      "{'Drama'}\n",
      "{'Thriller', 'Action', 'Fiction', 'Crime', 'Adventure'}\n",
      "{'Comedy', 'Drama', 'Romance', 'Romance Film'}\n",
      "{'Costume drama', 'Period piece', 'War film', 'Drama', 'Epic'}\n",
      "{'Comedy'}\n",
      "{'Animation', 'Family', 'Fantasy', 'Action', 'Adventure', 'Science Fiction'}\n",
      "{'Drama'}\n",
      "{'Family', 'Fantasy', 'Comedy', 'Drama', \"Children's\", 'Musical'}\n",
      "set()\n",
      "{'Drama'}\n"
     ]
    }
   ],
   "source": [
    "for value in movie_metadata['genre'].head(20).apply(standardize_genres):\n",
    "    print(value)"
   ]
  },
  {
   "cell_type": "code",
   "execution_count": 19,
   "id": "3dd701b4",
   "metadata": {},
   "outputs": [],
   "source": [
    "movie_metadata['standard_genre'] = movie_metadata['genre'].apply(standardize_genres)"
   ]
  },
  {
   "cell_type": "code",
   "execution_count": 20,
   "id": "8f902dc6",
   "metadata": {},
   "outputs": [
    {
     "name": "stdout",
     "output_type": "stream",
     "text": [
      "7358\n",
      "81741\n",
      "0.09001602622918731\n"
     ]
    }
   ],
   "source": [
    "print(len(movie_metadata[movie_metadata['standard_genre'] == set()]))\n",
    "print(len(movie_metadata))\n",
    "print(len(movie_metadata[movie_metadata['standard_genre'] == set()]) / len(movie_metadata))"
   ]
  },
  {
   "cell_type": "code",
   "execution_count": 21,
   "id": "f9834d58",
   "metadata": {},
   "outputs": [],
   "source": [
    "movie_metadata = movie_metadata[movie_metadata['standard_genre'] != set()]"
   ]
  },
  {
   "cell_type": "code",
   "execution_count": 22,
   "id": "a845cdeb",
   "metadata": {},
   "outputs": [
    {
     "data": {
      "text/plain": [
       "74383"
      ]
     },
     "execution_count": 22,
     "metadata": {},
     "output_type": "execute_result"
    }
   ],
   "source": [
    "len(movie_metadata)"
   ]
  },
  {
   "cell_type": "code",
   "execution_count": 23,
   "id": "157a3458",
   "metadata": {},
   "outputs": [
    {
     "data": {
      "text/plain": [
       "72"
      ]
     },
     "execution_count": 23,
     "metadata": {},
     "output_type": "execute_result"
    }
   ],
   "source": [
    "count_genres = Counter([genre for genre_set in movie_metadata['standard_genre'] for genre in genre_set])\n",
    "\n",
    "len(count_genres)"
   ]
  },
  {
   "cell_type": "markdown",
   "id": "1be5a2f9",
   "metadata": {},
   "source": [
    "Pogledajmo razne distribucije zanrova"
   ]
  },
  {
   "cell_type": "code",
   "execution_count": 24,
   "id": "fa61a95a",
   "metadata": {},
   "outputs": [
    {
     "name": "stderr",
     "output_type": "stream",
     "text": [
      "/home/ltomic/anaconda3/envs/strojno/lib/python3.6/site-packages/ipykernel_launcher.py:9: UserWarning: FixedFormatter should only be used together with FixedLocator\n",
      "  if __name__ == '__main__':\n"
     ]
    },
    {
     "data": {
      "image/png": "[encoded data removed]",
      "text/plain": [
       "<Figure size 1200x560 with 1 Axes>"
      ]
     },
     "metadata": {
      "needs_background": "light"
     },
     "output_type": "display_data"
    }
   ],
   "source": [
    "plt.figure(figsize=(15, 7), dpi=80)\n",
    "plt.bar([x[0] for x in count_genres.most_common()], [x[1] for x in count_genres.most_common()])\n",
    "\n",
    "plt.xlabel(\"Zanrovi\")\n",
    "plt.ylabel(\"Frekvencija\")\n",
    "plt.title('Frekvencija svih zanrova')\n",
    "\n",
    "ax = plt.gca()\n",
    "ax.set_xticklabels([x[0] for x in count_genres.most_common()], rotation = 90)\n",
    "\n",
    "plt.show()"
   ]
  },
  {
   "cell_type": "markdown",
   "id": "144f6a74",
   "metadata": {},
   "source": [
    "Dva zanra dominiraju skupom"
   ]
  },
  {
   "cell_type": "code",
   "execution_count": 25,
   "id": "0ff3125a",
   "metadata": {},
   "outputs": [
    {
     "name": "stderr",
     "output_type": "stream",
     "text": [
      "/home/ltomic/anaconda3/envs/strojno/lib/python3.6/site-packages/ipykernel_launcher.py:12: UserWarning: FixedFormatter should only be used together with FixedLocator\n",
      "  if sys.path[0] == '':\n"
     ]
    },
    {
     "data": {
      "image/png": "[encoded data removed]",
      "text/plain": [
       "<Figure size 1200x560 with 1 Axes>"
      ]
     },
     "metadata": {
      "needs_background": "light"
     },
     "output_type": "display_data"
    }
   ],
   "source": [
    "n = 30\n",
    "\n",
    "plt.figure(figsize=(15, 7), dpi=80)\n",
    "plt.bar([x[0] for x in count_genres.most_common(n)], [x[1] for x in count_genres.most_common(n)])\n",
    "\n",
    "plt.xlabel(\"Zanrovi\")\n",
    "plt.ylabel(\"Frekvencija\")\n",
    "\n",
    "plt.title('Frekvencija {} najcescih zanrova'.format(n))\n",
    "\n",
    "ax = plt.gca()\n",
    "ax.set_xticklabels([x[0] for x in count_genres.most_common(n)], rotation=60)\n",
    "\n",
    "plt.show()"
   ]
  },
  {
   "cell_type": "markdown",
   "id": "487c6e88",
   "metadata": {},
   "source": [
    "Pogledajmo distribuciju broja zanrova po filmu"
   ]
  },
  {
   "cell_type": "code",
   "execution_count": 26,
   "id": "53d46031",
   "metadata": {},
   "outputs": [
    {
     "data": {
      "image/png": "[encoded data removed]",
      "text/plain": [
       "<Figure size 1080x504 with 1 Axes>"
      ]
     },
     "metadata": {
      "needs_background": "light"
     },
     "output_type": "display_data"
    }
   ],
   "source": [
    "plt.figure(figsize=(15, 7))\n",
    "\n",
    "genre_per_movie_counts = movie_metadata['standard_genre'].apply(len).value_counts()\n",
    "\n",
    "plt.bar(x=genre_per_movie_counts.index, \n",
    "        height=genre_per_movie_counts / sum(genre_per_movie_counts),\n",
    "       tick_label=genre_per_movie_counts.index)\n",
    "\n",
    "plt.show()"
   ]
  },
  {
   "cell_type": "code",
   "execution_count": null,
   "id": "48eee5c2",
   "metadata": {},
   "outputs": [],
   "source": []
  }
 ],
 "metadata": {
  "kernelspec": {
   "display_name": "Python 3",
   "language": "python",
   "name": "python3"
  },
  "language_info": {
   "codemirror_mode": {
    "name": "ipython",
    "version": 3
   },
   "file_extension": ".py",
   "mimetype": "text/x-python",
   "name": "python",
   "nbconvert_exporter": "python",
   "pygments_lexer": "ipython3",
   "version": "3.6.13"
  }
 },
 "nbformat": 4,
 "nbformat_minor": 5
}
