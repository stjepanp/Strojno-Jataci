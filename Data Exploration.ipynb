{
 "cells": [
  {
   "cell_type": "markdown",
   "id": "a78313fa",
   "metadata": {},
   "source": [
    "Download and extract data"
   ]
  },
  {
   "cell_type": "code",
   "execution_count": 24,
   "id": "ce1677f2",
   "metadata": {},
   "outputs": [
    {
     "name": "stdout",
     "output_type": "stream",
     "text": [
      "Downloading and extracting data...\n",
      "Dataset downloaded and extracted.\n",
      "Data size:  127.5914134979248 MB\n"
     ]
    }
   ],
   "source": [
    "import urllib.request\n",
    "import tarfile\n",
    "import os\n",
    "\n",
    "if os.path.isdir('MovieSummaries') == False:\n",
    "    print(\"Downloading and extracting data...\")\n",
    "    data_tar_link = \"http://www.cs.cmu.edu/~ark/personas/data/MovieSummaries.tar.gz\"\n",
    "    ftpstream = urllib.request.urlopen(data_tar_link)\n",
    "\n",
    "    data_tar_file = tarfile.open(fileobj=ftpstream, mode=\"r|gz\")\n",
    "    data_tar_file.extractall()\n",
    "    \n",
    "    print(\"Dataset downloaded and extracted.\")\n",
    "else:\n",
    "    print(\"Dataset already downloaded\")\n",
    "\n",
    "print(\"Data size: \", sum(os.path.getsize(os.path.join('MovieSummaries', f)) / (1024.0*1024.0)\n",
    "          for f in os.listdir('MovieSummaries')\n",
    "          if os.path.isfile(os.path.join('MovieSummaries', f))), \"MB\")\n",
    "# this should take less than two minutes (depends mostly on connection speed), if it takes longer \n",
    "# check if MovieSummaries directory is created in working directory and some files are in it"
   ]
  },
  {
   "cell_type": "code",
   "execution_count": 25,
   "id": "efa2e211",
   "metadata": {},
   "outputs": [],
   "source": [
    "import pandas as pd\n",
    "import numpy as np\n",
    "import matplotlib.pyplot as plt\n",
    "%matplotlib inline"
   ]
  },
  {
   "cell_type": "code",
   "execution_count": 26,
   "id": "cb28a149",
   "metadata": {},
   "outputs": [],
   "source": [
    "header_metadata = ['wikiID', 'freebaseID', 'name', 'release_date', 'box_office', 'runtime', 'language', 'country', 'genre']\n",
    "movie_metadata = pd.read_csv('./MovieSummaries/movie.metadata.tsv', sep='\\t', names=header_metadata)"
   ]
  },
  {
   "cell_type": "code",
   "execution_count": 27,
   "id": "39df57dc",
   "metadata": {},
   "outputs": [
    {
     "data": {
      "text/html": [
       "<div>\n",
       "<style scoped>\n",
       "    .dataframe tbody tr th:only-of-type {\n",
       "        vertical-align: middle;\n",
       "    }\n",
       "\n",
       "    .dataframe tbody tr th {\n",
       "        vertical-align: top;\n",
       "    }\n",
       "\n",
       "    .dataframe thead th {\n",
       "        text-align: right;\n",
       "    }\n",
       "</style>\n",
       "<table border=\"1\" class=\"dataframe\">\n",
       "  <thead>\n",
       "    <tr style=\"text-align: right;\">\n",
       "      <th></th>\n",
       "      <th>wikiID</th>\n",
       "      <th>freebaseID</th>\n",
       "      <th>name</th>\n",
       "      <th>release_date</th>\n",
       "      <th>box_office</th>\n",
       "      <th>runtime</th>\n",
       "      <th>language</th>\n",
       "      <th>country</th>\n",
       "      <th>genre</th>\n",
       "    </tr>\n",
       "  </thead>\n",
       "  <tbody>\n",
       "    <tr>\n",
       "      <th>0</th>\n",
       "      <td>975900</td>\n",
       "      <td>/m/03vyhn</td>\n",
       "      <td>Ghosts of Mars</td>\n",
       "      <td>2001-08-24</td>\n",
       "      <td>14010832.0</td>\n",
       "      <td>98.0</td>\n",
       "      <td>{\"/m/02h40lc\": \"English Language\"}</td>\n",
       "      <td>{\"/m/09c7w0\": \"United States of America\"}</td>\n",
       "      <td>{\"/m/01jfsb\": \"Thriller\", \"/m/06n90\": \"Science...</td>\n",
       "    </tr>\n",
       "    <tr>\n",
       "      <th>1</th>\n",
       "      <td>3196793</td>\n",
       "      <td>/m/08yl5d</td>\n",
       "      <td>Getting Away with Murder: The JonBenét Ramsey ...</td>\n",
       "      <td>2000-02-16</td>\n",
       "      <td>NaN</td>\n",
       "      <td>95.0</td>\n",
       "      <td>{\"/m/02h40lc\": \"English Language\"}</td>\n",
       "      <td>{\"/m/09c7w0\": \"United States of America\"}</td>\n",
       "      <td>{\"/m/02n4kr\": \"Mystery\", \"/m/03bxz7\": \"Biograp...</td>\n",
       "    </tr>\n",
       "    <tr>\n",
       "      <th>2</th>\n",
       "      <td>28463795</td>\n",
       "      <td>/m/0crgdbh</td>\n",
       "      <td>Brun bitter</td>\n",
       "      <td>1988</td>\n",
       "      <td>NaN</td>\n",
       "      <td>83.0</td>\n",
       "      <td>{\"/m/05f_3\": \"Norwegian Language\"}</td>\n",
       "      <td>{\"/m/05b4w\": \"Norway\"}</td>\n",
       "      <td>{\"/m/0lsxr\": \"Crime Fiction\", \"/m/07s9rl0\": \"D...</td>\n",
       "    </tr>\n",
       "    <tr>\n",
       "      <th>3</th>\n",
       "      <td>9363483</td>\n",
       "      <td>/m/0285_cd</td>\n",
       "      <td>White Of The Eye</td>\n",
       "      <td>1987</td>\n",
       "      <td>NaN</td>\n",
       "      <td>110.0</td>\n",
       "      <td>{\"/m/02h40lc\": \"English Language\"}</td>\n",
       "      <td>{\"/m/07ssc\": \"United Kingdom\"}</td>\n",
       "      <td>{\"/m/01jfsb\": \"Thriller\", \"/m/0glj9q\": \"Erotic...</td>\n",
       "    </tr>\n",
       "    <tr>\n",
       "      <th>4</th>\n",
       "      <td>261236</td>\n",
       "      <td>/m/01mrr1</td>\n",
       "      <td>A Woman in Flames</td>\n",
       "      <td>1983</td>\n",
       "      <td>NaN</td>\n",
       "      <td>106.0</td>\n",
       "      <td>{\"/m/04306rv\": \"German Language\"}</td>\n",
       "      <td>{\"/m/0345h\": \"Germany\"}</td>\n",
       "      <td>{\"/m/07s9rl0\": \"Drama\"}</td>\n",
       "    </tr>\n",
       "  </tbody>\n",
       "</table>\n",
       "</div>"
      ],
      "text/plain": [
       "     wikiID  freebaseID                                               name  \\\n",
       "0    975900   /m/03vyhn                                     Ghosts of Mars   \n",
       "1   3196793   /m/08yl5d  Getting Away with Murder: The JonBenét Ramsey ...   \n",
       "2  28463795  /m/0crgdbh                                        Brun bitter   \n",
       "3   9363483  /m/0285_cd                                   White Of The Eye   \n",
       "4    261236   /m/01mrr1                                  A Woman in Flames   \n",
       "\n",
       "  release_date  box_office  runtime                            language  \\\n",
       "0   2001-08-24  14010832.0     98.0  {\"/m/02h40lc\": \"English Language\"}   \n",
       "1   2000-02-16         NaN     95.0  {\"/m/02h40lc\": \"English Language\"}   \n",
       "2         1988         NaN     83.0  {\"/m/05f_3\": \"Norwegian Language\"}   \n",
       "3         1987         NaN    110.0  {\"/m/02h40lc\": \"English Language\"}   \n",
       "4         1983         NaN    106.0   {\"/m/04306rv\": \"German Language\"}   \n",
       "\n",
       "                                     country  \\\n",
       "0  {\"/m/09c7w0\": \"United States of America\"}   \n",
       "1  {\"/m/09c7w0\": \"United States of America\"}   \n",
       "2                     {\"/m/05b4w\": \"Norway\"}   \n",
       "3             {\"/m/07ssc\": \"United Kingdom\"}   \n",
       "4                    {\"/m/0345h\": \"Germany\"}   \n",
       "\n",
       "                                               genre  \n",
       "0  {\"/m/01jfsb\": \"Thriller\", \"/m/06n90\": \"Science...  \n",
       "1  {\"/m/02n4kr\": \"Mystery\", \"/m/03bxz7\": \"Biograp...  \n",
       "2  {\"/m/0lsxr\": \"Crime Fiction\", \"/m/07s9rl0\": \"D...  \n",
       "3  {\"/m/01jfsb\": \"Thriller\", \"/m/0glj9q\": \"Erotic...  \n",
       "4                            {\"/m/07s9rl0\": \"Drama\"}  "
      ]
     },
     "execution_count": 27,
     "metadata": {},
     "output_type": "execute_result"
    }
   ],
   "source": [
    "movie_metadata.head()"
   ]
  },
  {
   "cell_type": "markdown",
   "id": "e28e40c4",
   "metadata": {},
   "source": [
    "Maknimo nepotrebne retke"
   ]
  },
  {
   "cell_type": "code",
   "execution_count": 28,
   "id": "203ac27b",
   "metadata": {},
   "outputs": [],
   "source": [
    "movie_metadata = movie_metadata.drop(columns=['freebaseID', 'release_date', 'box_office', 'runtime', 'country'])"
   ]
  },
  {
   "cell_type": "code",
   "execution_count": 29,
   "id": "294dc203",
   "metadata": {},
   "outputs": [
    {
     "data": {
      "text/html": [
       "<div>\n",
       "<style scoped>\n",
       "    .dataframe tbody tr th:only-of-type {\n",
       "        vertical-align: middle;\n",
       "    }\n",
       "\n",
       "    .dataframe tbody tr th {\n",
       "        vertical-align: top;\n",
       "    }\n",
       "\n",
       "    .dataframe thead th {\n",
       "        text-align: right;\n",
       "    }\n",
       "</style>\n",
       "<table border=\"1\" class=\"dataframe\">\n",
       "  <thead>\n",
       "    <tr style=\"text-align: right;\">\n",
       "      <th></th>\n",
       "      <th>wikiID</th>\n",
       "      <th>name</th>\n",
       "      <th>language</th>\n",
       "      <th>genre</th>\n",
       "    </tr>\n",
       "  </thead>\n",
       "  <tbody>\n",
       "    <tr>\n",
       "      <th>0</th>\n",
       "      <td>975900</td>\n",
       "      <td>Ghosts of Mars</td>\n",
       "      <td>{\"/m/02h40lc\": \"English Language\"}</td>\n",
       "      <td>{\"/m/01jfsb\": \"Thriller\", \"/m/06n90\": \"Science...</td>\n",
       "    </tr>\n",
       "    <tr>\n",
       "      <th>1</th>\n",
       "      <td>3196793</td>\n",
       "      <td>Getting Away with Murder: The JonBenét Ramsey ...</td>\n",
       "      <td>{\"/m/02h40lc\": \"English Language\"}</td>\n",
       "      <td>{\"/m/02n4kr\": \"Mystery\", \"/m/03bxz7\": \"Biograp...</td>\n",
       "    </tr>\n",
       "    <tr>\n",
       "      <th>2</th>\n",
       "      <td>28463795</td>\n",
       "      <td>Brun bitter</td>\n",
       "      <td>{\"/m/05f_3\": \"Norwegian Language\"}</td>\n",
       "      <td>{\"/m/0lsxr\": \"Crime Fiction\", \"/m/07s9rl0\": \"D...</td>\n",
       "    </tr>\n",
       "    <tr>\n",
       "      <th>3</th>\n",
       "      <td>9363483</td>\n",
       "      <td>White Of The Eye</td>\n",
       "      <td>{\"/m/02h40lc\": \"English Language\"}</td>\n",
       "      <td>{\"/m/01jfsb\": \"Thriller\", \"/m/0glj9q\": \"Erotic...</td>\n",
       "    </tr>\n",
       "    <tr>\n",
       "      <th>4</th>\n",
       "      <td>261236</td>\n",
       "      <td>A Woman in Flames</td>\n",
       "      <td>{\"/m/04306rv\": \"German Language\"}</td>\n",
       "      <td>{\"/m/07s9rl0\": \"Drama\"}</td>\n",
       "    </tr>\n",
       "  </tbody>\n",
       "</table>\n",
       "</div>"
      ],
      "text/plain": [
       "     wikiID                                               name  \\\n",
       "0    975900                                     Ghosts of Mars   \n",
       "1   3196793  Getting Away with Murder: The JonBenét Ramsey ...   \n",
       "2  28463795                                        Brun bitter   \n",
       "3   9363483                                   White Of The Eye   \n",
       "4    261236                                  A Woman in Flames   \n",
       "\n",
       "                             language  \\\n",
       "0  {\"/m/02h40lc\": \"English Language\"}   \n",
       "1  {\"/m/02h40lc\": \"English Language\"}   \n",
       "2  {\"/m/05f_3\": \"Norwegian Language\"}   \n",
       "3  {\"/m/02h40lc\": \"English Language\"}   \n",
       "4   {\"/m/04306rv\": \"German Language\"}   \n",
       "\n",
       "                                               genre  \n",
       "0  {\"/m/01jfsb\": \"Thriller\", \"/m/06n90\": \"Science...  \n",
       "1  {\"/m/02n4kr\": \"Mystery\", \"/m/03bxz7\": \"Biograp...  \n",
       "2  {\"/m/0lsxr\": \"Crime Fiction\", \"/m/07s9rl0\": \"D...  \n",
       "3  {\"/m/01jfsb\": \"Thriller\", \"/m/0glj9q\": \"Erotic...  \n",
       "4                            {\"/m/07s9rl0\": \"Drama\"}  "
      ]
     },
     "execution_count": 29,
     "metadata": {},
     "output_type": "execute_result"
    }
   ],
   "source": [
    "movie_metadata.head()"
   ]
  },
  {
   "cell_type": "markdown",
   "id": "808d41f8",
   "metadata": {},
   "source": [
    "Pretvorimo genre stupac tako da mu elementi sadrze skupove zanrova, a ne json format s IDevima"
   ]
  },
  {
   "cell_type": "code",
   "execution_count": 30,
   "id": "6b04d45d",
   "metadata": {},
   "outputs": [
    {
     "data": {
      "text/plain": [
       "{'Action',\n",
       " 'Adventure',\n",
       " 'Horror',\n",
       " 'Science Fiction',\n",
       " 'Space western',\n",
       " 'Supernatural',\n",
       " 'Thriller'}"
      ]
     },
     "execution_count": 30,
     "metadata": {},
     "output_type": "execute_result"
    }
   ],
   "source": [
    "import json\n",
    "\n",
    "set(json.loads(movie_metadata['genre'][0]).values())"
   ]
  },
  {
   "cell_type": "code",
   "execution_count": 31,
   "id": "c969379b",
   "metadata": {},
   "outputs": [],
   "source": [
    "movie_metadata['genre'] = movie_metadata['genre'].apply(lambda x: set(json.loads(x).values()))"
   ]
  },
  {
   "cell_type": "code",
   "execution_count": 32,
   "id": "d240bf48",
   "metadata": {},
   "outputs": [
    {
     "data": {
      "text/html": [
       "<div>\n",
       "<style scoped>\n",
       "    .dataframe tbody tr th:only-of-type {\n",
       "        vertical-align: middle;\n",
       "    }\n",
       "\n",
       "    .dataframe tbody tr th {\n",
       "        vertical-align: top;\n",
       "    }\n",
       "\n",
       "    .dataframe thead th {\n",
       "        text-align: right;\n",
       "    }\n",
       "</style>\n",
       "<table border=\"1\" class=\"dataframe\">\n",
       "  <thead>\n",
       "    <tr style=\"text-align: right;\">\n",
       "      <th></th>\n",
       "      <th>wikiID</th>\n",
       "      <th>name</th>\n",
       "      <th>language</th>\n",
       "      <th>genre</th>\n",
       "    </tr>\n",
       "  </thead>\n",
       "  <tbody>\n",
       "    <tr>\n",
       "      <th>0</th>\n",
       "      <td>975900</td>\n",
       "      <td>Ghosts of Mars</td>\n",
       "      <td>{\"/m/02h40lc\": \"English Language\"}</td>\n",
       "      <td>{Thriller, Supernatural, Science Fiction, Horr...</td>\n",
       "    </tr>\n",
       "    <tr>\n",
       "      <th>1</th>\n",
       "      <td>3196793</td>\n",
       "      <td>Getting Away with Murder: The JonBenét Ramsey ...</td>\n",
       "      <td>{\"/m/02h40lc\": \"English Language\"}</td>\n",
       "      <td>{Drama, Crime Drama, Mystery, Biographical film}</td>\n",
       "    </tr>\n",
       "    <tr>\n",
       "      <th>2</th>\n",
       "      <td>28463795</td>\n",
       "      <td>Brun bitter</td>\n",
       "      <td>{\"/m/05f_3\": \"Norwegian Language\"}</td>\n",
       "      <td>{Drama, Crime Fiction}</td>\n",
       "    </tr>\n",
       "    <tr>\n",
       "      <th>3</th>\n",
       "      <td>9363483</td>\n",
       "      <td>White Of The Eye</td>\n",
       "      <td>{\"/m/02h40lc\": \"English Language\"}</td>\n",
       "      <td>{Erotic thriller, Psychological thriller, Thri...</td>\n",
       "    </tr>\n",
       "    <tr>\n",
       "      <th>4</th>\n",
       "      <td>261236</td>\n",
       "      <td>A Woman in Flames</td>\n",
       "      <td>{\"/m/04306rv\": \"German Language\"}</td>\n",
       "      <td>{Drama}</td>\n",
       "    </tr>\n",
       "  </tbody>\n",
       "</table>\n",
       "</div>"
      ],
      "text/plain": [
       "     wikiID                                               name  \\\n",
       "0    975900                                     Ghosts of Mars   \n",
       "1   3196793  Getting Away with Murder: The JonBenét Ramsey ...   \n",
       "2  28463795                                        Brun bitter   \n",
       "3   9363483                                   White Of The Eye   \n",
       "4    261236                                  A Woman in Flames   \n",
       "\n",
       "                             language  \\\n",
       "0  {\"/m/02h40lc\": \"English Language\"}   \n",
       "1  {\"/m/02h40lc\": \"English Language\"}   \n",
       "2  {\"/m/05f_3\": \"Norwegian Language\"}   \n",
       "3  {\"/m/02h40lc\": \"English Language\"}   \n",
       "4   {\"/m/04306rv\": \"German Language\"}   \n",
       "\n",
       "                                               genre  \n",
       "0  {Thriller, Supernatural, Science Fiction, Horr...  \n",
       "1   {Drama, Crime Drama, Mystery, Biographical film}  \n",
       "2                             {Drama, Crime Fiction}  \n",
       "3  {Erotic thriller, Psychological thriller, Thri...  \n",
       "4                                            {Drama}  "
      ]
     },
     "execution_count": 32,
     "metadata": {},
     "output_type": "execute_result"
    }
   ],
   "source": [
    "movie_metadata.head()"
   ]
  },
  {
   "cell_type": "markdown",
   "id": "963d9f91",
   "metadata": {},
   "source": [
    "Postoje filmovi na raznim jezicima, ali su sazetci radnje filma preuzeti s engleske wikipedije stoga je to OK."
   ]
  },
  {
   "cell_type": "markdown",
   "id": "57966648",
   "metadata": {},
   "source": [
    "Pogledajmo kakvi sve zanrovi filmova postoje u datasetu"
   ]
  },
  {
   "cell_type": "code",
   "execution_count": 33,
   "id": "465cc167",
   "metadata": {},
   "outputs": [],
   "source": [
    "all_genres = {genre for genre_set in movie_metadata['genre'] for genre in genre_set}"
   ]
  },
  {
   "cell_type": "code",
   "execution_count": 34,
   "id": "1f538870",
   "metadata": {},
   "outputs": [
    {
     "data": {
      "text/plain": [
       "363"
      ]
     },
     "execution_count": 34,
     "metadata": {},
     "output_type": "execute_result"
    }
   ],
   "source": [
    "len(all_genres)"
   ]
  },
  {
   "cell_type": "code",
   "execution_count": 35,
   "id": "4bdd312e",
   "metadata": {},
   "outputs": [],
   "source": [
    "from collections import Counter\n",
    "\n",
    "count_genres = Counter([genre for genre_set in movie_metadata['genre'] for genre in genre_set])"
   ]
  },
  {
   "cell_type": "code",
   "execution_count": 36,
   "id": "f98abedf",
   "metadata": {},
   "outputs": [
    {
     "data": {
      "text/plain": [
       "[('Drama', 34007),\n",
       " ('Comedy', 16349),\n",
       " ('Romance Film', 10234),\n",
       " ('Black-and-white', 9094),\n",
       " ('Action', 8798),\n",
       " ('Thriller', 8744),\n",
       " ('Short Film', 8141),\n",
       " ('World cinema', 7155),\n",
       " ('Crime Fiction', 6948),\n",
       " ('Indie', 6897),\n",
       " ('Documentary', 5630),\n",
       " ('Horror', 5280),\n",
       " ('Silent film', 5250),\n",
       " ('Adventure', 4963),\n",
       " ('Family Film', 4598),\n",
       " ('Action/Adventure', 4561),\n",
       " ('Comedy film', 4362),\n",
       " ('Musical', 4160),\n",
       " ('Animation', 3534),\n",
       " ('Romantic drama', 3372),\n",
       " ('Mystery', 3195),\n",
       " ('Science Fiction', 3052),\n",
       " ('Fantasy', 2820),\n",
       " ('Romantic comedy', 2680),\n",
       " ('War film', 2652),\n",
       " ('Japanese Movies', 2322),\n",
       " ('Western', 2225),\n",
       " ('Crime Thriller', 2122),\n",
       " ('Period piece', 1758),\n",
       " ('Comedy-drama', 1720),\n",
       " ('Film adaptation', 1531),\n",
       " ('Chinese Movies', 1525),\n",
       " ('Biography', 1392),\n",
       " ('Psychological thriller', 1331),\n",
       " ('Bollywood', 1321),\n",
       " ('Sports', 1206),\n",
       " ('Biographical film', 1198),\n",
       " ('LGBT', 1163),\n",
       " ('Music', 1088),\n",
       " ('Family Drama', 1043),\n",
       " ('Black comedy', 1025),\n",
       " ('Parody', 999),\n",
       " ('Television movie', 972),\n",
       " ('Martial Arts Film', 928),\n",
       " (\"Children's/Family\", 926),\n",
       " ('Teen', 925),\n",
       " ('Coming of age', 910),\n",
       " ('History', 888),\n",
       " ('Political drama', 799),\n",
       " ('Slasher', 768)]"
      ]
     },
     "execution_count": 36,
     "metadata": {},
     "output_type": "execute_result"
    }
   ],
   "source": [
    "count_genres.most_common(50)"
   ]
  },
  {
   "cell_type": "code",
   "execution_count": null,
   "id": "fe661730",
   "metadata": {},
   "outputs": [],
   "source": []
  }
 ],
 "metadata": {
  "kernelspec": {
   "display_name": "Python 3",
   "language": "python",
   "name": "python3"
  },
  "language_info": {
   "codemirror_mode": {
    "name": "ipython",
    "version": 3
   },
   "file_extension": ".py",
   "mimetype": "text/x-python",
   "name": "python",
   "nbconvert_exporter": "python",
   "pygments_lexer": "ipython3",
   "version": "3.6.13"
  }
 },
 "nbformat": 4,
 "nbformat_minor": 5
}
