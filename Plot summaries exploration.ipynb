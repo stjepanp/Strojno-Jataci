{
 "cells": [
  {
   "cell_type": "markdown",
   "id": "56217e25",
   "metadata": {},
   "source": [
    "Download and extract data"
   ]
  },
  {
   "cell_type": "code",
   "execution_count": 16,
   "id": "18b881c1",
   "metadata": {},
   "outputs": [
    {
     "name": "stdout",
     "output_type": "stream",
     "text": [
      "Dataset already downloaded\n",
      "Data size:  127.5914134979248 MB\n"
     ]
    }
   ],
   "source": [
    "import urllib.request\n",
    "import tarfile\n",
    "import os\n",
    "\n",
    "if os.path.isdir('MovieSummaries') == False:\n",
    "    print(\"Downloading and extracting data...\")\n",
    "    data_tar_link = \"http://www.cs.cmu.edu/~ark/personas/data/MovieSummaries.tar.gz\"\n",
    "    ftpstream = urllib.request.urlopen(data_tar_link)\n",
    "\n",
    "    data_tar_file = tarfile.open(fileobj=ftpstream, mode=\"r|gz\")\n",
    "    data_tar_file.extractall()\n",
    "    \n",
    "    print(\"Dataset downloaded and extracted.\")\n",
    "else:\n",
    "    print(\"Dataset already downloaded\")\n",
    "\n",
    "print(\"Data size: \", sum(os.path.getsize(os.path.join('MovieSummaries', f)) / (1024.0*1024.0)\n",
    "          for f in os.listdir('MovieSummaries')\n",
    "          if os.path.isfile(os.path.join('MovieSummaries', f))), \"MB\")\n",
    "# this should take less than two minutes (depends mostly on connection speed), if it takes longer \n",
    "# check if MovieSummaries directory is created in working directory and some files are in it"
   ]
  },
  {
   "cell_type": "code",
   "execution_count": 17,
   "id": "135eca5d",
   "metadata": {},
   "outputs": [
    {
     "name": "stdout",
     "output_type": "stream",
     "text": [
      "42306\n"
     ]
    }
   ],
   "source": [
    "movie_summaries = []\n",
    "\n",
    "with open('MovieSummaries/plot_summaries.txt') as movie_summaries_file:\n",
    "    for line in movie_summaries_file.readlines():\n",
    "        splitted_line = line.split('\\t', 1)\n",
    "        movie_summaries.append((int(splitted_line[0]), splitted_line[1]))\n",
    "        \n",
    "print(len(movie_summaries))"
   ]
  },
  {
   "cell_type": "markdown",
   "id": "88869bf1",
   "metadata": {},
   "source": [
    "Ima manje opisa filmova nego filmova u movie.metadata.tsv ?"
   ]
  },
  {
   "cell_type": "code",
   "execution_count": 18,
   "id": "b020d51d",
   "metadata": {},
   "outputs": [],
   "source": [
    "import pandas as pd\n",
    "import numpy as np\n",
    "import matplotlib.pyplot as plt\n",
    "%matplotlib inline\n",
    "\n",
    "movie_metadata = pd.read_pickle('movie_metadata.pkl')"
   ]
  },
  {
   "cell_type": "code",
   "execution_count": 19,
   "id": "cd9285f0",
   "metadata": {},
   "outputs": [
    {
     "data": {
      "text/html": [
       "<div>\n",
       "<style scoped>\n",
       "    .dataframe tbody tr th:only-of-type {\n",
       "        vertical-align: middle;\n",
       "    }\n",
       "\n",
       "    .dataframe tbody tr th {\n",
       "        vertical-align: top;\n",
       "    }\n",
       "\n",
       "    .dataframe thead th {\n",
       "        text-align: right;\n",
       "    }\n",
       "</style>\n",
       "<table border=\"1\" class=\"dataframe\">\n",
       "  <thead>\n",
       "    <tr style=\"text-align: right;\">\n",
       "      <th></th>\n",
       "      <th>wikiID</th>\n",
       "      <th>name</th>\n",
       "      <th>standard_genre</th>\n",
       "    </tr>\n",
       "  </thead>\n",
       "  <tbody>\n",
       "    <tr>\n",
       "      <th>0</th>\n",
       "      <td>975900</td>\n",
       "      <td>Ghosts of Mars</td>\n",
       "      <td>{Adventure, Horror, Science Fiction, Thriller,...</td>\n",
       "    </tr>\n",
       "    <tr>\n",
       "      <th>1</th>\n",
       "      <td>3196793</td>\n",
       "      <td>Getting Away with Murder: The JonBenét Ramsey ...</td>\n",
       "      <td>{Drama, Mystery, Biographical, Crime}</td>\n",
       "    </tr>\n",
       "    <tr>\n",
       "      <th>2</th>\n",
       "      <td>28463795</td>\n",
       "      <td>Brun bitter</td>\n",
       "      <td>{Drama, Fiction, Crime}</td>\n",
       "    </tr>\n",
       "    <tr>\n",
       "      <th>3</th>\n",
       "      <td>9363483</td>\n",
       "      <td>White Of The Eye</td>\n",
       "      <td>{Psychological, Thriller}</td>\n",
       "    </tr>\n",
       "    <tr>\n",
       "      <th>4</th>\n",
       "      <td>261236</td>\n",
       "      <td>A Woman in Flames</td>\n",
       "      <td>{Drama}</td>\n",
       "    </tr>\n",
       "  </tbody>\n",
       "</table>\n",
       "</div>"
      ],
      "text/plain": [
       "     wikiID                                               name  \\\n",
       "0    975900                                     Ghosts of Mars   \n",
       "1   3196793  Getting Away with Murder: The JonBenét Ramsey ...   \n",
       "2  28463795                                        Brun bitter   \n",
       "3   9363483                                   White Of The Eye   \n",
       "4    261236                                  A Woman in Flames   \n",
       "\n",
       "                                      standard_genre  \n",
       "0  {Adventure, Horror, Science Fiction, Thriller,...  \n",
       "1              {Drama, Mystery, Biographical, Crime}  \n",
       "2                            {Drama, Fiction, Crime}  \n",
       "3                          {Psychological, Thriller}  \n",
       "4                                            {Drama}  "
      ]
     },
     "execution_count": 19,
     "metadata": {},
     "output_type": "execute_result"
    }
   ],
   "source": [
    "movie_metadata.head()"
   ]
  },
  {
   "cell_type": "code",
   "execution_count": 20,
   "id": "44e71308",
   "metadata": {},
   "outputs": [],
   "source": [
    "movie_metadata['summary'] = \"\""
   ]
  },
  {
   "cell_type": "code",
   "execution_count": 21,
   "id": "2d6a807d",
   "metadata": {},
   "outputs": [
    {
     "data": {
      "text/html": [
       "<div>\n",
       "<style scoped>\n",
       "    .dataframe tbody tr th:only-of-type {\n",
       "        vertical-align: middle;\n",
       "    }\n",
       "\n",
       "    .dataframe tbody tr th {\n",
       "        vertical-align: top;\n",
       "    }\n",
       "\n",
       "    .dataframe thead th {\n",
       "        text-align: right;\n",
       "    }\n",
       "</style>\n",
       "<table border=\"1\" class=\"dataframe\">\n",
       "  <thead>\n",
       "    <tr style=\"text-align: right;\">\n",
       "      <th></th>\n",
       "      <th>name</th>\n",
       "      <th>standard_genre</th>\n",
       "      <th>summary</th>\n",
       "    </tr>\n",
       "    <tr>\n",
       "      <th>wikiID</th>\n",
       "      <th></th>\n",
       "      <th></th>\n",
       "      <th></th>\n",
       "    </tr>\n",
       "  </thead>\n",
       "  <tbody>\n",
       "    <tr>\n",
       "      <th>975900</th>\n",
       "      <td>Ghosts of Mars</td>\n",
       "      <td>{Adventure, Horror, Science Fiction, Thriller,...</td>\n",
       "      <td></td>\n",
       "    </tr>\n",
       "    <tr>\n",
       "      <th>3196793</th>\n",
       "      <td>Getting Away with Murder: The JonBenét Ramsey ...</td>\n",
       "      <td>{Drama, Mystery, Biographical, Crime}</td>\n",
       "      <td></td>\n",
       "    </tr>\n",
       "    <tr>\n",
       "      <th>28463795</th>\n",
       "      <td>Brun bitter</td>\n",
       "      <td>{Drama, Fiction, Crime}</td>\n",
       "      <td></td>\n",
       "    </tr>\n",
       "    <tr>\n",
       "      <th>9363483</th>\n",
       "      <td>White Of The Eye</td>\n",
       "      <td>{Psychological, Thriller}</td>\n",
       "      <td></td>\n",
       "    </tr>\n",
       "    <tr>\n",
       "      <th>261236</th>\n",
       "      <td>A Woman in Flames</td>\n",
       "      <td>{Drama}</td>\n",
       "      <td></td>\n",
       "    </tr>\n",
       "  </tbody>\n",
       "</table>\n",
       "</div>"
      ],
      "text/plain": [
       "                                                       name  \\\n",
       "wikiID                                                        \n",
       "975900                                       Ghosts of Mars   \n",
       "3196793   Getting Away with Murder: The JonBenét Ramsey ...   \n",
       "28463795                                        Brun bitter   \n",
       "9363483                                    White Of The Eye   \n",
       "261236                                    A Woman in Flames   \n",
       "\n",
       "                                             standard_genre summary  \n",
       "wikiID                                                               \n",
       "975900    {Adventure, Horror, Science Fiction, Thriller,...          \n",
       "3196793               {Drama, Mystery, Biographical, Crime}          \n",
       "28463795                            {Drama, Fiction, Crime}          \n",
       "9363483                           {Psychological, Thriller}          \n",
       "261236                                              {Drama}          "
      ]
     },
     "execution_count": 21,
     "metadata": {},
     "output_type": "execute_result"
    }
   ],
   "source": [
    "movie_metadata = movie_metadata.set_index('wikiID')\n",
    "movie_metadata.head()"
   ]
  },
  {
   "cell_type": "code",
   "execution_count": 22,
   "id": "b2265321",
   "metadata": {},
   "outputs": [
    {
     "name": "stdout",
     "output_type": "stream",
     "text": [
      "40188\n"
     ]
    }
   ],
   "source": [
    "cnt = 0\n",
    "\n",
    "for movie_id, summary in movie_summaries:\n",
    "    if movie_id not in movie_metadata.index:\n",
    "         continue\n",
    "    \n",
    "    cnt += 1\n",
    "    movie_metadata.at[movie_id, 'summary'] = summary\n",
    "    \n",
    "print(cnt)"
   ]
  },
  {
   "cell_type": "code",
   "execution_count": 26,
   "id": "209ba887",
   "metadata": {},
   "outputs": [
    {
     "name": "stdout",
     "output_type": "stream",
     "text": [
      "34195\n"
     ]
    },
    {
     "data": {
      "text/html": [
       "<div>\n",
       "<style scoped>\n",
       "    .dataframe tbody tr th:only-of-type {\n",
       "        vertical-align: middle;\n",
       "    }\n",
       "\n",
       "    .dataframe tbody tr th {\n",
       "        vertical-align: top;\n",
       "    }\n",
       "\n",
       "    .dataframe thead th {\n",
       "        text-align: right;\n",
       "    }\n",
       "</style>\n",
       "<table border=\"1\" class=\"dataframe\">\n",
       "  <thead>\n",
       "    <tr style=\"text-align: right;\">\n",
       "      <th></th>\n",
       "      <th>name</th>\n",
       "      <th>standard_genre</th>\n",
       "      <th>summary</th>\n",
       "    </tr>\n",
       "    <tr>\n",
       "      <th>wikiID</th>\n",
       "      <th></th>\n",
       "      <th></th>\n",
       "      <th></th>\n",
       "    </tr>\n",
       "  </thead>\n",
       "  <tbody>\n",
       "    <tr>\n",
       "      <th>3196793</th>\n",
       "      <td>Getting Away with Murder: The JonBenét Ramsey ...</td>\n",
       "      <td>{Drama, Mystery, Biographical, Crime}</td>\n",
       "      <td></td>\n",
       "    </tr>\n",
       "    <tr>\n",
       "      <th>28463795</th>\n",
       "      <td>Brun bitter</td>\n",
       "      <td>{Drama, Fiction, Crime}</td>\n",
       "      <td></td>\n",
       "    </tr>\n",
       "    <tr>\n",
       "      <th>13696889</th>\n",
       "      <td>The Gangsters</td>\n",
       "      <td>{Comedy}</td>\n",
       "      <td></td>\n",
       "    </tr>\n",
       "    <tr>\n",
       "      <th>10408933</th>\n",
       "      <td>Alexander's Ragtime Band</td>\n",
       "      <td>{Musical, Comedy}</td>\n",
       "      <td></td>\n",
       "    </tr>\n",
       "    <tr>\n",
       "      <th>9997961</th>\n",
       "      <td>Contigo y aquí</td>\n",
       "      <td>{Musical, Drama, Comedy}</td>\n",
       "      <td></td>\n",
       "    </tr>\n",
       "  </tbody>\n",
       "</table>\n",
       "</div>"
      ],
      "text/plain": [
       "                                                       name  \\\n",
       "wikiID                                                        \n",
       "3196793   Getting Away with Murder: The JonBenét Ramsey ...   \n",
       "28463795                                        Brun bitter   \n",
       "13696889                                      The Gangsters   \n",
       "10408933                           Alexander's Ragtime Band   \n",
       "9997961                                      Contigo y aquí   \n",
       "\n",
       "                                 standard_genre summary  \n",
       "wikiID                                                   \n",
       "3196793   {Drama, Mystery, Biographical, Crime}          \n",
       "28463795                {Drama, Fiction, Crime}          \n",
       "13696889                               {Comedy}          \n",
       "10408933                      {Musical, Comedy}          \n",
       "9997961                {Musical, Drama, Comedy}          "
      ]
     },
     "execution_count": 26,
     "metadata": {},
     "output_type": "execute_result"
    }
   ],
   "source": [
    "print(len(movie_metadata[movie_metadata['summary'] == \"\"]))\n",
    "movie_metadata[movie_metadata['summary'] == \"\"].head()"
   ]
  },
  {
   "cell_type": "markdown",
   "id": "c33766ca",
   "metadata": {},
   "source": [
    "U README.txt pise da ukupno ima 42 306 sazetaka plotova u ovom datasetu, dakle odbacili smo oko 2000 filmova."
   ]
  },
  {
   "cell_type": "code",
   "execution_count": 28,
   "id": "0a6946c3",
   "metadata": {},
   "outputs": [
    {
     "name": "stdout",
     "output_type": "stream",
     "text": [
      "40188\n"
     ]
    }
   ],
   "source": [
    "movie_metadata = movie_metadata[movie_metadata['summary'] != \"\"]\n",
    "print(len(movie_metadata))"
   ]
  },
  {
   "cell_type": "code",
   "execution_count": 29,
   "id": "f2090a90",
   "metadata": {},
   "outputs": [
    {
     "data": {
      "text/html": [
       "<div>\n",
       "<style scoped>\n",
       "    .dataframe tbody tr th:only-of-type {\n",
       "        vertical-align: middle;\n",
       "    }\n",
       "\n",
       "    .dataframe tbody tr th {\n",
       "        vertical-align: top;\n",
       "    }\n",
       "\n",
       "    .dataframe thead th {\n",
       "        text-align: right;\n",
       "    }\n",
       "</style>\n",
       "<table border=\"1\" class=\"dataframe\">\n",
       "  <thead>\n",
       "    <tr style=\"text-align: right;\">\n",
       "      <th></th>\n",
       "      <th>name</th>\n",
       "      <th>standard_genre</th>\n",
       "      <th>summary</th>\n",
       "    </tr>\n",
       "    <tr>\n",
       "      <th>wikiID</th>\n",
       "      <th></th>\n",
       "      <th></th>\n",
       "      <th></th>\n",
       "    </tr>\n",
       "  </thead>\n",
       "  <tbody>\n",
       "    <tr>\n",
       "      <th>975900</th>\n",
       "      <td>Ghosts of Mars</td>\n",
       "      <td>{Adventure, Horror, Science Fiction, Thriller,...</td>\n",
       "      <td>Set in the second half of the 22nd century, th...</td>\n",
       "    </tr>\n",
       "    <tr>\n",
       "      <th>9363483</th>\n",
       "      <td>White Of The Eye</td>\n",
       "      <td>{Psychological, Thriller}</td>\n",
       "      <td>A series of murders of rich young women throug...</td>\n",
       "    </tr>\n",
       "    <tr>\n",
       "      <th>261236</th>\n",
       "      <td>A Woman in Flames</td>\n",
       "      <td>{Drama}</td>\n",
       "      <td>Eva, an upper class housewife, becomes frustra...</td>\n",
       "    </tr>\n",
       "    <tr>\n",
       "      <th>18998739</th>\n",
       "      <td>The Sorcerer's Apprentice</td>\n",
       "      <td>{Adventure, Family, Fantasy}</td>\n",
       "      <td>Every hundred years, the evil Morgana  returns...</td>\n",
       "    </tr>\n",
       "    <tr>\n",
       "      <th>6631279</th>\n",
       "      <td>Little city</td>\n",
       "      <td>{Drama, Romance Film, Romance, Comedy}</td>\n",
       "      <td>Adam, a San Francisco-based artist who works a...</td>\n",
       "    </tr>\n",
       "  </tbody>\n",
       "</table>\n",
       "</div>"
      ],
      "text/plain": [
       "                               name  \\\n",
       "wikiID                                \n",
       "975900               Ghosts of Mars   \n",
       "9363483            White Of The Eye   \n",
       "261236            A Woman in Flames   \n",
       "18998739  The Sorcerer's Apprentice   \n",
       "6631279                 Little city   \n",
       "\n",
       "                                             standard_genre  \\\n",
       "wikiID                                                        \n",
       "975900    {Adventure, Horror, Science Fiction, Thriller,...   \n",
       "9363483                           {Psychological, Thriller}   \n",
       "261236                                              {Drama}   \n",
       "18998739                       {Adventure, Family, Fantasy}   \n",
       "6631279              {Drama, Romance Film, Romance, Comedy}   \n",
       "\n",
       "                                                    summary  \n",
       "wikiID                                                       \n",
       "975900    Set in the second half of the 22nd century, th...  \n",
       "9363483   A series of murders of rich young women throug...  \n",
       "261236    Eva, an upper class housewife, becomes frustra...  \n",
       "18998739  Every hundred years, the evil Morgana  returns...  \n",
       "6631279   Adam, a San Francisco-based artist who works a...  "
      ]
     },
     "execution_count": 29,
     "metadata": {},
     "output_type": "execute_result"
    }
   ],
   "source": [
    "movie_metadata.head()"
   ]
  },
  {
   "cell_type": "code",
   "execution_count": 43,
   "id": "0d92f1ba",
   "metadata": {},
   "outputs": [
    {
     "name": "stdout",
     "output_type": "stream",
     "text": [
      "Set in the second half of the 22nd century, the film depicts Mars as a planet that has been 84% terraformed, allowing humans to walk on the surface without wearing pressure suits. The Martian society has become largely matriarchal, with women in most positions of authority. The story concerns a police officer, Melanie Ballard , second in command of a small team alongside Sergeant Jericho  sent to pick up and transport a prisoner named Desolation Williams . Arriving at the remote mining town where Williams is being held, Ballard finds virtually all of the people missing. She learns that the miners had discovered an underground doorway created by an ancient Martian civilization. When the door was opened it released \"ghosts,\" disembodied spirits which possessed the miners. Violence ensues, as the possessed miners commit horrific acts of death and destruction, as well as self-mutilation. With their team leader Helena Bradock  murdered, Ballard must fight off the attacking miners, escape the town, and destroy the ghosts, if possible. Unfortunately, her intentions are complicated by the fact that killing a possessed human merely releases the Martian spirit to possess another human. The team eventually decides to blow up a nuclear reactor to try and vaporize all of the ghosts. At several points in the film Sergeant Jericho shows a romantic interest in Ballard, mostly unreciprocated. Ballard's crew along with survivors who manage to gather in the jail are eventually wiped out by the miners after many fierce battles and events , leaving only her and Williams after Sergeant Jericho and the other remaining officers and the two operators of the train are killed upon returning from a brief retreat to finish the fight. Not wanting the authorities to blame the massacre on him, he handcuffs Ballard to her cot and escapes from the train, leaving her to return home and deliver her report, which is received with skepticism by her superiors. While Ballard recuperates at a hospital, the released spirits, who weren't destroyed after all, attack the city. The end scene sets the movie up for a sequel as Williams returns to team up with Ballard to fight the possessed.\n",
      "\n",
      "A series of murders of rich young women throughout Arizona bear distinctive signatures of a serial killer. Clues lead Detective Charles Mendoza to visit Paul White, a sound expert installing hi-fi systems in wealthy people's homes. His special talent is to make a noise which echoes through the air cavities in his head and shows him where the sound of the speakers should come from and echo in the room. He is married to Joan, whom, ten years earlier, he had seduced away from Mike DeSantos, her then current boyfriend. Joan is questioned by Mendoza, but does not believe his insinuations that her husband is somehow involved in the murders. Various flashbacks show Joan's previous relationship to Mike and later explain how it came to be that he abandoned her. The couple met Paul and befriended him. At Mike's suggestion, he and Mike go on a deer hunting trip together. Paul shoots a deer and brutally mutilates it, demonstrating his sick fascination with killing. This is partly intended to scare Mike off, which it does. Mike catches Joan and Paul after they've made love, and Paul declares that he will take Mike's place. \"I am the one,\" Paul says. Mike puts his gun at the back of Paul's head but decides not to kill and abandons Joan. By now Joan has run into Mike DeSantos working at a gas station in a neighboring town. Mike tells her he got out of prison after suffering a major head injury; he thinks life is looking up. He makes her promise not to tell Paul that she has seen him. Joan soon discovers Paul has committed adultery. By puncturing Paul's tires she provides him with an alibi for the most recent killing. He begs her forgiveness as the police turn their suspicions away from him. At home, Joan looks into a crawl space in the house, and discovers preserved body parts of Paul's victims wrapped in paper and plastic. Joan confronts Paul, and Paul tries to explain his motivations for killing. He believes he has been \"chosen\" and is expressing the nothingness of the universe, whose heart is female and destructive like a black hole. He is putting women \"out of their misery,\" but he loves Joan. Joan's distrust of Mike over the next night and day agitates him into a fury. First, he tries to imprison her and then kill her and his daughter. He heavily arms himself and paints his face to look like a samurai warrior or an Indian brave. Joan and the little girl escape in different directions and soon Joan has to elude Paul in the abandoned quarry. It turns out Mike has been staying there, armed with a machine gun, certain that he will meet Paul again. He rescues Joan and takes away Paul's gun, leading him to the edge of the quarry. Paul makes the sound he uses in the emptiness of living rooms and savors its echo from the quarry. While incessantly pontificating about his philosophies of life and death, Paul reveals a lighter with which he has lit the fuse of his explosive vest. Mike opens fire on him with a machine gun and Joan dives into the lake in the quarry. Paul and Mike both die instantly, in a hail of destruction. Joan is reunited later with her daughter. She talks with Detective Mendoza about what the ten years with Paul could have meant, whose destructive and nihilistic nature she never understood. Based on the 1983 novel Mrs White by Margaret Tracy .\n",
      "\n",
      "Eva, an upper class housewife, becomes frustrated and leaves her arrogant husband. She is drawn to the idea of becoming a call girl. With the aid of a prostitute named Yvonne, Eva learns the basics and then they both set out looking for Johns together. She meets a charming man who she falls in love with and comes to his house late at night for a romantic tryst. He turns out to be a gigolo. Consequently, they move into his penthouse, large enough for both of them to offer their services separately. Then slowly Eva enters the world of sado-masochism. She finds being a dominatrix extremely satisfying, and begins to take pleasure in controlling others and causing them intense pain. She discovers this in a scene in which a man is hiding under a table. Eva can see that his hands are sticking out from under the table and are clearly visible. Coldly, and with intense inner satisfaction, Eva proceeds to crush the man's hands by slowly walking over them with her stiletto-heeled boots. Chris, the gigolo begins getting jealous of her, wants to know what's going on upstairs and why she's making so much money. She tells him it's from hurting men, and the more she hurts them, the more money she gets. This upsets him greatly. She also becomes jealous of his boyfriend/client, a man who's been coming to him for many years. The scenes in the upstairs room intensify. One day he sneaks up and observers her in a scene dominating a man tied to a chair. He has a look on his face like \"see, this is what you truly are,\" and the look on her face says proudly \"yes, this is what I truly am.\" He tries to whisk her away from all of it, buying her furs, talking about marriage. She tells him that she's been dreaming about hitting him, and in the dream he likes it. The setting is all there for a romantic ending, and yet, he panics, he takes all their money and invests it in a restaurant that she doesn't want to be part of. She tries to walk out on him, and he gets angry, throws her against the wall, hits her, pours alcohol on her, and lights her on fire. But the last scene shows her unscathed, happy with her friend the sex worker/madame, and they're getting thrown out of a bar that Chris owns. The movie thus extols female independence from men, though in its ending stops short of endorsing a female-dominant/male-submissive romance.\n",
      "\n",
      "Every hundred years, the evil Morgana  returns to claim Fingall's talisman from the wizard Merlin, with which she intends to destroy the world. For the last fourteen hundred years she has failed... now she intends to conquer all. Young Ben Clark  moves with his parents to a new town, where he befriends his elderly magician neighbor, Milner . Ben has a natural talent for magic and wants to learn all that he can from this old man. Ben carries the same scar as the original staff-bearer 1,400 years before. Both Morgana and Milner, who is revealed to be Merlin, see this as a sign that this time, the battle between good and evil will be stronger and harder than ever. Ben must make his own choice between good and evil as he is drawn into a battle and must draw on his own spirit and magic to decide which path to follow and hence, the fate of the world as we know it.\n",
      "\n",
      "Adam, a San Francisco-based artist who works as a cab driver on the side, is having a hard time committing to his girlfriend, Nina. She wants to take their relationship to the next level, but he hasn't really gotten over his ex-girlfriend, Kate, who left him for another woman and is reluctant to move forward with Nina because he's still hanging on to the idea that one day Kate will come back to him. Feeling neglected, Nina breaks up with Adam and starts seeing Kevin, a womanizing bartender who is also Adam's best friend. Meanwhile Rebecca, the new girl in town, gets a job in Kevin's bar and begins an affair with Anne, the woman Kate left Adam for. Tired of her infidelities, Kate breaks up with Anne and returns to Adam. However she soon realises that she's not in love with him anymore and breaks up with him for good. Rebecca soon tires of Anne and breaks off their affair. One day she meets Adam, who is finally attempting to move on from Kate once and for all, and they go out on a date. Nina and Kevin's fling turns into something deeper when she finds out that she's pregnant, an event that strains Adam's friendship with Kevin and threatens to ruin his budding relationship with Rebecca before it has a chance to begin.\n",
      "\n"
     ]
    }
   ],
   "source": [
    "for summary in movie_metadata['summary'][:5]:\n",
    "    print(summary)"
   ]
  },
  {
   "cell_type": "code",
   "execution_count": null,
   "id": "e4ac963f",
   "metadata": {},
   "outputs": [],
   "source": []
  }
 ],
 "metadata": {
  "kernelspec": {
   "display_name": "Python 3",
   "language": "python",
   "name": "python3"
  },
  "language_info": {
   "codemirror_mode": {
    "name": "ipython",
    "version": 3
   },
   "file_extension": ".py",
   "mimetype": "text/x-python",
   "name": "python",
   "nbconvert_exporter": "python",
   "pygments_lexer": "ipython3",
   "version": "3.6.13"
  }
 },
 "nbformat": 4,
 "nbformat_minor": 5
}
