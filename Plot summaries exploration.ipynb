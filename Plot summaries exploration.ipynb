{
 "cells": [
  {
   "cell_type": "markdown",
   "id": "56217e25",
   "metadata": {},
   "source": [
    "Download and extract data"
   ]
  },
  {
   "cell_type": "code",
   "execution_count": 1,
   "id": "18b881c1",
   "metadata": {},
   "outputs": [
    {
     "name": "stdout",
     "output_type": "stream",
     "text": [
      "Dataset already downloaded\n",
      "Data size:  127.5914134979248 MB\n"
     ]
    }
   ],
   "source": [
    "import urllib.request\n",
    "import tarfile\n",
    "import os\n",
    "\n",
    "if os.path.isdir('MovieSummaries') == False:\n",
    "    print(\"Downloading and extracting data...\")\n",
    "    data_tar_link = \"http://www.cs.cmu.edu/~ark/personas/data/MovieSummaries.tar.gz\"\n",
    "    ftpstream = urllib.request.urlopen(data_tar_link)\n",
    "\n",
    "    data_tar_file = tarfile.open(fileobj=ftpstream, mode=\"r|gz\")\n",
    "    data_tar_file.extractall()\n",
    "    \n",
    "    print(\"Dataset downloaded and extracted.\")\n",
    "else:\n",
    "    print(\"Dataset already downloaded\")\n",
    "\n",
    "print(\"Data size: \", sum(os.path.getsize(os.path.join('MovieSummaries', f)) / (1024.0*1024.0)\n",
    "          for f in os.listdir('MovieSummaries')\n",
    "          if os.path.isfile(os.path.join('MovieSummaries', f))), \"MB\")\n",
    "# this should take less than two minutes (depends mostly on connection speed), if it takes longer \n",
    "# check if MovieSummaries directory is created in working directory and some files are in it"
   ]
  },
  {
   "cell_type": "code",
   "execution_count": 2,
   "id": "135eca5d",
   "metadata": {},
   "outputs": [
    {
     "name": "stdout",
     "output_type": "stream",
     "text": [
      "42306\n"
     ]
    }
   ],
   "source": [
    "movie_summaries = []\n",
    "\n",
    "with open('MovieSummaries/plot_summaries.txt') as movie_summaries_file:\n",
    "    for line in movie_summaries_file.readlines():\n",
    "        splitted_line = line.split('\\t', 1)\n",
    "        movie_summaries.append((int(splitted_line[0]), splitted_line[1]))\n",
    "        \n",
    "print(len(movie_summaries))"
   ]
  },
  {
   "cell_type": "markdown",
   "id": "88869bf1",
   "metadata": {},
   "source": [
    "Ima manje opisa filmova nego filmova u movie.metadata.tsv ?"
   ]
  },
  {
   "cell_type": "code",
   "execution_count": 3,
   "id": "b020d51d",
   "metadata": {},
   "outputs": [],
   "source": [
    "import pandas as pd\n",
    "import numpy as np\n",
    "import matplotlib.pyplot as plt\n",
    "%matplotlib inline\n",
    "\n",
    "data = pd.read_pickle('movie_metadata.pkl')"
   ]
  },
  {
   "cell_type": "code",
   "execution_count": 4,
   "id": "cd9285f0",
   "metadata": {},
   "outputs": [
    {
     "data": {
      "text/html": [
       "<div>\n",
       "<style scoped>\n",
       "    .dataframe tbody tr th:only-of-type {\n",
       "        vertical-align: middle;\n",
       "    }\n",
       "\n",
       "    .dataframe tbody tr th {\n",
       "        vertical-align: top;\n",
       "    }\n",
       "\n",
       "    .dataframe thead th {\n",
       "        text-align: right;\n",
       "    }\n",
       "</style>\n",
       "<table border=\"1\" class=\"dataframe\">\n",
       "  <thead>\n",
       "    <tr style=\"text-align: right;\">\n",
       "      <th></th>\n",
       "      <th>wikiID</th>\n",
       "      <th>name</th>\n",
       "      <th>standard_genre</th>\n",
       "    </tr>\n",
       "  </thead>\n",
       "  <tbody>\n",
       "    <tr>\n",
       "      <th>0</th>\n",
       "      <td>975900</td>\n",
       "      <td>Ghosts of Mars</td>\n",
       "      <td>{Horror, Adventure, Thriller, Action, Science ...</td>\n",
       "    </tr>\n",
       "    <tr>\n",
       "      <th>1</th>\n",
       "      <td>3196793</td>\n",
       "      <td>Getting Away with Murder: The JonBenét Ramsey ...</td>\n",
       "      <td>{Drama, Crime, Biographical, Mystery}</td>\n",
       "    </tr>\n",
       "    <tr>\n",
       "      <th>2</th>\n",
       "      <td>28463795</td>\n",
       "      <td>Brun bitter</td>\n",
       "      <td>{Drama, Crime, Fiction}</td>\n",
       "    </tr>\n",
       "    <tr>\n",
       "      <th>3</th>\n",
       "      <td>9363483</td>\n",
       "      <td>White Of The Eye</td>\n",
       "      <td>{Psychological, Thriller}</td>\n",
       "    </tr>\n",
       "    <tr>\n",
       "      <th>4</th>\n",
       "      <td>261236</td>\n",
       "      <td>A Woman in Flames</td>\n",
       "      <td>{Drama}</td>\n",
       "    </tr>\n",
       "  </tbody>\n",
       "</table>\n",
       "</div>"
      ],
      "text/plain": [
       "     wikiID                                               name  \\\n",
       "0    975900                                     Ghosts of Mars   \n",
       "1   3196793  Getting Away with Murder: The JonBenét Ramsey ...   \n",
       "2  28463795                                        Brun bitter   \n",
       "3   9363483                                   White Of The Eye   \n",
       "4    261236                                  A Woman in Flames   \n",
       "\n",
       "                                      standard_genre  \n",
       "0  {Horror, Adventure, Thriller, Action, Science ...  \n",
       "1              {Drama, Crime, Biographical, Mystery}  \n",
       "2                            {Drama, Crime, Fiction}  \n",
       "3                          {Psychological, Thriller}  \n",
       "4                                            {Drama}  "
      ]
     },
     "execution_count": 4,
     "metadata": {},
     "output_type": "execute_result"
    }
   ],
   "source": [
    "data.head()"
   ]
  },
  {
   "cell_type": "code",
   "execution_count": 5,
   "id": "44e71308",
   "metadata": {},
   "outputs": [],
   "source": [
    "data['summary'] = \"\""
   ]
  },
  {
   "cell_type": "code",
   "execution_count": 6,
   "id": "2f63cd89",
   "metadata": {},
   "outputs": [
    {
     "data": {
      "text/html": [
       "<div>\n",
       "<style scoped>\n",
       "    .dataframe tbody tr th:only-of-type {\n",
       "        vertical-align: middle;\n",
       "    }\n",
       "\n",
       "    .dataframe tbody tr th {\n",
       "        vertical-align: top;\n",
       "    }\n",
       "\n",
       "    .dataframe thead th {\n",
       "        text-align: right;\n",
       "    }\n",
       "</style>\n",
       "<table border=\"1\" class=\"dataframe\">\n",
       "  <thead>\n",
       "    <tr style=\"text-align: right;\">\n",
       "      <th></th>\n",
       "      <th>name</th>\n",
       "      <th>standard_genre</th>\n",
       "      <th>summary</th>\n",
       "    </tr>\n",
       "    <tr>\n",
       "      <th>wikiID</th>\n",
       "      <th></th>\n",
       "      <th></th>\n",
       "      <th></th>\n",
       "    </tr>\n",
       "  </thead>\n",
       "  <tbody>\n",
       "    <tr>\n",
       "      <th>975900</th>\n",
       "      <td>Ghosts of Mars</td>\n",
       "      <td>{Horror, Adventure, Thriller, Action, Science ...</td>\n",
       "      <td></td>\n",
       "    </tr>\n",
       "    <tr>\n",
       "      <th>3196793</th>\n",
       "      <td>Getting Away with Murder: The JonBenét Ramsey ...</td>\n",
       "      <td>{Drama, Crime, Biographical, Mystery}</td>\n",
       "      <td></td>\n",
       "    </tr>\n",
       "    <tr>\n",
       "      <th>28463795</th>\n",
       "      <td>Brun bitter</td>\n",
       "      <td>{Drama, Crime, Fiction}</td>\n",
       "      <td></td>\n",
       "    </tr>\n",
       "    <tr>\n",
       "      <th>9363483</th>\n",
       "      <td>White Of The Eye</td>\n",
       "      <td>{Psychological, Thriller}</td>\n",
       "      <td></td>\n",
       "    </tr>\n",
       "    <tr>\n",
       "      <th>261236</th>\n",
       "      <td>A Woman in Flames</td>\n",
       "      <td>{Drama}</td>\n",
       "      <td></td>\n",
       "    </tr>\n",
       "  </tbody>\n",
       "</table>\n",
       "</div>"
      ],
      "text/plain": [
       "                                                       name  \\\n",
       "wikiID                                                        \n",
       "975900                                       Ghosts of Mars   \n",
       "3196793   Getting Away with Murder: The JonBenét Ramsey ...   \n",
       "28463795                                        Brun bitter   \n",
       "9363483                                    White Of The Eye   \n",
       "261236                                    A Woman in Flames   \n",
       "\n",
       "                                             standard_genre summary  \n",
       "wikiID                                                               \n",
       "975900    {Horror, Adventure, Thriller, Action, Science ...          \n",
       "3196793               {Drama, Crime, Biographical, Mystery}          \n",
       "28463795                            {Drama, Crime, Fiction}          \n",
       "9363483                           {Psychological, Thriller}          \n",
       "261236                                              {Drama}          "
      ]
     },
     "execution_count": 6,
     "metadata": {},
     "output_type": "execute_result"
    }
   ],
   "source": [
    "data = data.set_index('wikiID')\n",
    "data.head()"
   ]
  },
  {
   "cell_type": "code",
   "execution_count": 7,
   "id": "7970e629",
   "metadata": {},
   "outputs": [
    {
     "name": "stdout",
     "output_type": "stream",
     "text": [
      "40188\n"
     ]
    }
   ],
   "source": [
    "cnt = 0\n",
    "\n",
    "for movie_id, summary in movie_summaries:\n",
    "    if movie_id not in data.index:\n",
    "         continue\n",
    "    \n",
    "    cnt += 1\n",
    "    data.at[movie_id, 'summary'] = summary\n",
    "    \n",
    "print(cnt)"
   ]
  },
  {
   "cell_type": "code",
   "execution_count": 8,
   "id": "5c476528",
   "metadata": {},
   "outputs": [
    {
     "name": "stdout",
     "output_type": "stream",
     "text": [
      "34195\n"
     ]
    },
    {
     "data": {
      "text/html": [
       "<div>\n",
       "<style scoped>\n",
       "    .dataframe tbody tr th:only-of-type {\n",
       "        vertical-align: middle;\n",
       "    }\n",
       "\n",
       "    .dataframe tbody tr th {\n",
       "        vertical-align: top;\n",
       "    }\n",
       "\n",
       "    .dataframe thead th {\n",
       "        text-align: right;\n",
       "    }\n",
       "</style>\n",
       "<table border=\"1\" class=\"dataframe\">\n",
       "  <thead>\n",
       "    <tr style=\"text-align: right;\">\n",
       "      <th></th>\n",
       "      <th>name</th>\n",
       "      <th>standard_genre</th>\n",
       "      <th>summary</th>\n",
       "    </tr>\n",
       "    <tr>\n",
       "      <th>wikiID</th>\n",
       "      <th></th>\n",
       "      <th></th>\n",
       "      <th></th>\n",
       "    </tr>\n",
       "  </thead>\n",
       "  <tbody>\n",
       "    <tr>\n",
       "      <th>3196793</th>\n",
       "      <td>Getting Away with Murder: The JonBenét Ramsey ...</td>\n",
       "      <td>{Drama, Crime, Biographical, Mystery}</td>\n",
       "      <td></td>\n",
       "    </tr>\n",
       "    <tr>\n",
       "      <th>28463795</th>\n",
       "      <td>Brun bitter</td>\n",
       "      <td>{Drama, Crime, Fiction}</td>\n",
       "      <td></td>\n",
       "    </tr>\n",
       "    <tr>\n",
       "      <th>13696889</th>\n",
       "      <td>The Gangsters</td>\n",
       "      <td>{Comedy}</td>\n",
       "      <td></td>\n",
       "    </tr>\n",
       "    <tr>\n",
       "      <th>10408933</th>\n",
       "      <td>Alexander's Ragtime Band</td>\n",
       "      <td>{Comedy, Musical}</td>\n",
       "      <td></td>\n",
       "    </tr>\n",
       "    <tr>\n",
       "      <th>9997961</th>\n",
       "      <td>Contigo y aquí</td>\n",
       "      <td>{Drama, Comedy, Musical}</td>\n",
       "      <td></td>\n",
       "    </tr>\n",
       "  </tbody>\n",
       "</table>\n",
       "</div>"
      ],
      "text/plain": [
       "                                                       name  \\\n",
       "wikiID                                                        \n",
       "3196793   Getting Away with Murder: The JonBenét Ramsey ...   \n",
       "28463795                                        Brun bitter   \n",
       "13696889                                      The Gangsters   \n",
       "10408933                           Alexander's Ragtime Band   \n",
       "9997961                                      Contigo y aquí   \n",
       "\n",
       "                                 standard_genre summary  \n",
       "wikiID                                                   \n",
       "3196793   {Drama, Crime, Biographical, Mystery}          \n",
       "28463795                {Drama, Crime, Fiction}          \n",
       "13696889                               {Comedy}          \n",
       "10408933                      {Comedy, Musical}          \n",
       "9997961                {Drama, Comedy, Musical}          "
      ]
     },
     "execution_count": 8,
     "metadata": {},
     "output_type": "execute_result"
    }
   ],
   "source": [
    "print(len(data[data['summary'] == \"\"]))\n",
    "data[data['summary'] == \"\"].head()"
   ]
  },
  {
   "cell_type": "markdown",
   "id": "968fa0ec",
   "metadata": {},
   "source": [
    "U README.txt pise da ukupno ima 42 306 sazetaka plotova u ovom datasetu, dakle odbacili smo oko 2000 filmova."
   ]
  },
  {
   "cell_type": "code",
   "execution_count": 9,
   "id": "8aa3e04f",
   "metadata": {},
   "outputs": [
    {
     "name": "stdout",
     "output_type": "stream",
     "text": [
      "40188\n"
     ]
    }
   ],
   "source": [
    "data = data[data['summary'] != \"\"]\n",
    "print(len(data))"
   ]
  },
  {
   "cell_type": "code",
   "execution_count": 10,
   "id": "f317383e",
   "metadata": {},
   "outputs": [
    {
     "data": {
      "text/html": [
       "<div>\n",
       "<style scoped>\n",
       "    .dataframe tbody tr th:only-of-type {\n",
       "        vertical-align: middle;\n",
       "    }\n",
       "\n",
       "    .dataframe tbody tr th {\n",
       "        vertical-align: top;\n",
       "    }\n",
       "\n",
       "    .dataframe thead th {\n",
       "        text-align: right;\n",
       "    }\n",
       "</style>\n",
       "<table border=\"1\" class=\"dataframe\">\n",
       "  <thead>\n",
       "    <tr style=\"text-align: right;\">\n",
       "      <th></th>\n",
       "      <th>name</th>\n",
       "      <th>standard_genre</th>\n",
       "      <th>summary</th>\n",
       "    </tr>\n",
       "    <tr>\n",
       "      <th>wikiID</th>\n",
       "      <th></th>\n",
       "      <th></th>\n",
       "      <th></th>\n",
       "    </tr>\n",
       "  </thead>\n",
       "  <tbody>\n",
       "    <tr>\n",
       "      <th>975900</th>\n",
       "      <td>Ghosts of Mars</td>\n",
       "      <td>{Horror, Adventure, Thriller, Action, Science ...</td>\n",
       "      <td>Set in the second half of the 22nd century, th...</td>\n",
       "    </tr>\n",
       "    <tr>\n",
       "      <th>9363483</th>\n",
       "      <td>White Of The Eye</td>\n",
       "      <td>{Psychological, Thriller}</td>\n",
       "      <td>A series of murders of rich young women throug...</td>\n",
       "    </tr>\n",
       "    <tr>\n",
       "      <th>261236</th>\n",
       "      <td>A Woman in Flames</td>\n",
       "      <td>{Drama}</td>\n",
       "      <td>Eva, an upper class housewife, becomes frustra...</td>\n",
       "    </tr>\n",
       "    <tr>\n",
       "      <th>18998739</th>\n",
       "      <td>The Sorcerer's Apprentice</td>\n",
       "      <td>{Fantasy, Adventure, Family}</td>\n",
       "      <td>Every hundred years, the evil Morgana  returns...</td>\n",
       "    </tr>\n",
       "    <tr>\n",
       "      <th>6631279</th>\n",
       "      <td>Little city</td>\n",
       "      <td>{Comedy, Romance, Drama, Romance Film}</td>\n",
       "      <td>Adam, a San Francisco-based artist who works a...</td>\n",
       "    </tr>\n",
       "  </tbody>\n",
       "</table>\n",
       "</div>"
      ],
      "text/plain": [
       "                               name  \\\n",
       "wikiID                                \n",
       "975900               Ghosts of Mars   \n",
       "9363483            White Of The Eye   \n",
       "261236            A Woman in Flames   \n",
       "18998739  The Sorcerer's Apprentice   \n",
       "6631279                 Little city   \n",
       "\n",
       "                                             standard_genre  \\\n",
       "wikiID                                                        \n",
       "975900    {Horror, Adventure, Thriller, Action, Science ...   \n",
       "9363483                           {Psychological, Thriller}   \n",
       "261236                                              {Drama}   \n",
       "18998739                       {Fantasy, Adventure, Family}   \n",
       "6631279              {Comedy, Romance, Drama, Romance Film}   \n",
       "\n",
       "                                                    summary  \n",
       "wikiID                                                       \n",
       "975900    Set in the second half of the 22nd century, th...  \n",
       "9363483   A series of murders of rich young women throug...  \n",
       "261236    Eva, an upper class housewife, becomes frustra...  \n",
       "18998739  Every hundred years, the evil Morgana  returns...  \n",
       "6631279   Adam, a San Francisco-based artist who works a...  "
      ]
     },
     "execution_count": 10,
     "metadata": {},
     "output_type": "execute_result"
    }
   ],
   "source": [
    "data.head()"
   ]
  },
  {
   "cell_type": "code",
   "execution_count": 11,
   "id": "d5a8e9c0",
   "metadata": {},
   "outputs": [
    {
     "name": "stdout",
     "output_type": "stream",
     "text": [
      "Set in the second half of the 22nd century, the film depicts Mars as a planet that has been 84% terraformed, allowing humans to walk on the surface without wearing pressure suits. The Martian society has become largely matriarchal, with women in most positions of authority. The story concerns a police officer, Melanie Ballard , second in command of a small team alongside Sergeant Jericho  sent to pick up and transport a prisoner named Desolation Williams . Arriving at the remote mining town where Williams is being held, Ballard finds virtually all of the people missing. She learns that the miners had discovered an underground doorway created by an ancient Martian civilization. When the door was opened it released \"ghosts,\" disembodied spirits which possessed the miners. Violence ensues, as the possessed miners commit horrific acts of death and destruction, as well as self-mutilation. With their team leader Helena Bradock  murdered, Ballard must fight off the attacking miners, escape the town, and destroy the ghosts, if possible. Unfortunately, her intentions are complicated by the fact that killing a possessed human merely releases the Martian spirit to possess another human. The team eventually decides to blow up a nuclear reactor to try and vaporize all of the ghosts. At several points in the film Sergeant Jericho shows a romantic interest in Ballard, mostly unreciprocated. Ballard's crew along with survivors who manage to gather in the jail are eventually wiped out by the miners after many fierce battles and events , leaving only her and Williams after Sergeant Jericho and the other remaining officers and the two operators of the train are killed upon returning from a brief retreat to finish the fight. Not wanting the authorities to blame the massacre on him, he handcuffs Ballard to her cot and escapes from the train, leaving her to return home and deliver her report, which is received with skepticism by her superiors. While Ballard recuperates at a hospital, the released spirits, who weren't destroyed after all, attack the city. The end scene sets the movie up for a sequel as Williams returns to team up with Ballard to fight the possessed.\n",
      "\n"
     ]
    }
   ],
   "source": [
    "for summary in data['summary'][:1]:\n",
    "    print(summary)"
   ]
  },
  {
   "cell_type": "markdown",
   "id": "6b5dd178",
   "metadata": {},
   "source": [
    "## Expanding contractions"
   ]
  },
  {
   "cell_type": "code",
   "execution_count": 12,
   "id": "9876fdb6",
   "metadata": {},
   "outputs": [
    {
     "name": "stdout",
     "output_type": "stream",
     "text": [
      "İbrahim\n",
      "Ibrahim\n",
      "İbrahim\n",
      "Ibrahim\n",
      "İbrahim\n",
      "Ibrahim\n"
     ]
    },
    {
     "data": {
      "text/html": [
       "<div>\n",
       "<style scoped>\n",
       "    .dataframe tbody tr th:only-of-type {\n",
       "        vertical-align: middle;\n",
       "    }\n",
       "\n",
       "    .dataframe tbody tr th {\n",
       "        vertical-align: top;\n",
       "    }\n",
       "\n",
       "    .dataframe thead th {\n",
       "        text-align: right;\n",
       "    }\n",
       "</style>\n",
       "<table border=\"1\" class=\"dataframe\">\n",
       "  <thead>\n",
       "    <tr style=\"text-align: right;\">\n",
       "      <th></th>\n",
       "      <th>name</th>\n",
       "      <th>standard_genre</th>\n",
       "      <th>summary</th>\n",
       "      <th>no_contract</th>\n",
       "    </tr>\n",
       "    <tr>\n",
       "      <th>wikiID</th>\n",
       "      <th></th>\n",
       "      <th></th>\n",
       "      <th></th>\n",
       "      <th></th>\n",
       "    </tr>\n",
       "  </thead>\n",
       "  <tbody>\n",
       "    <tr>\n",
       "      <th>975900</th>\n",
       "      <td>Ghosts of Mars</td>\n",
       "      <td>{Horror, Adventure, Thriller, Action, Science ...</td>\n",
       "      <td>Set in the second half of the 22nd century, th...</td>\n",
       "      <td>[Set, in, the, second, half, of, the, 22nd, ce...</td>\n",
       "    </tr>\n",
       "    <tr>\n",
       "      <th>9363483</th>\n",
       "      <td>White Of The Eye</td>\n",
       "      <td>{Psychological, Thriller}</td>\n",
       "      <td>A series of murders of rich young women throug...</td>\n",
       "      <td>[A, series, of, murders, of, rich, young, wome...</td>\n",
       "    </tr>\n",
       "    <tr>\n",
       "      <th>261236</th>\n",
       "      <td>A Woman in Flames</td>\n",
       "      <td>{Drama}</td>\n",
       "      <td>Eva, an upper class housewife, becomes frustra...</td>\n",
       "      <td>[Eva,, an, upper, class, housewife,, becomes, ...</td>\n",
       "    </tr>\n",
       "    <tr>\n",
       "      <th>18998739</th>\n",
       "      <td>The Sorcerer's Apprentice</td>\n",
       "      <td>{Fantasy, Adventure, Family}</td>\n",
       "      <td>Every hundred years, the evil Morgana  returns...</td>\n",
       "      <td>[Every, hundred, years,, the, evil, Morgana, r...</td>\n",
       "    </tr>\n",
       "    <tr>\n",
       "      <th>6631279</th>\n",
       "      <td>Little city</td>\n",
       "      <td>{Comedy, Romance, Drama, Romance Film}</td>\n",
       "      <td>Adam, a San Francisco-based artist who works a...</td>\n",
       "      <td>[Adam,, a, San, Francisco-based, artist, who, ...</td>\n",
       "    </tr>\n",
       "  </tbody>\n",
       "</table>\n",
       "</div>"
      ],
      "text/plain": [
       "                               name  \\\n",
       "wikiID                                \n",
       "975900               Ghosts of Mars   \n",
       "9363483            White Of The Eye   \n",
       "261236            A Woman in Flames   \n",
       "18998739  The Sorcerer's Apprentice   \n",
       "6631279                 Little city   \n",
       "\n",
       "                                             standard_genre  \\\n",
       "wikiID                                                        \n",
       "975900    {Horror, Adventure, Thriller, Action, Science ...   \n",
       "9363483                           {Psychological, Thriller}   \n",
       "261236                                              {Drama}   \n",
       "18998739                       {Fantasy, Adventure, Family}   \n",
       "6631279              {Comedy, Romance, Drama, Romance Film}   \n",
       "\n",
       "                                                    summary  \\\n",
       "wikiID                                                        \n",
       "975900    Set in the second half of the 22nd century, th...   \n",
       "9363483   A series of murders of rich young women throug...   \n",
       "261236    Eva, an upper class housewife, becomes frustra...   \n",
       "18998739  Every hundred years, the evil Morgana  returns...   \n",
       "6631279   Adam, a San Francisco-based artist who works a...   \n",
       "\n",
       "                                                no_contract  \n",
       "wikiID                                                       \n",
       "975900    [Set, in, the, second, half, of, the, 22nd, ce...  \n",
       "9363483   [A, series, of, murders, of, rich, young, wome...  \n",
       "261236    [Eva,, an, upper, class, housewife,, becomes, ...  \n",
       "18998739  [Every, hundred, years,, the, evil, Morgana, r...  \n",
       "6631279   [Adam,, a, San, Francisco-based, artist, who, ...  "
      ]
     },
     "execution_count": 12,
     "metadata": {},
     "output_type": "execute_result"
    }
   ],
   "source": [
    "import contractions # instalirao preko pip, ne preko conda\n",
    "from unidecode import unidecode # ima Ibrahim sa tockom na I\n",
    "\n",
    "def contract(text):\n",
    "    ret = []\n",
    "    for word in text.split():\n",
    "        try:\n",
    "            ret.append(contractions.fix(word))\n",
    "        except:\n",
    "            print(word)\n",
    "            print(unidecode(word))\n",
    "            ret.append(contractions.fix(unidecode(word)))\n",
    "    return ret\n",
    "\n",
    "data['no_contract'] = data['summary'].apply(contract)\n",
    "\n",
    "data.head()"
   ]
  },
  {
   "cell_type": "code",
   "execution_count": 13,
   "id": "332c5c97",
   "metadata": {},
   "outputs": [
    {
     "data": {
      "text/html": [
       "<div>\n",
       "<style scoped>\n",
       "    .dataframe tbody tr th:only-of-type {\n",
       "        vertical-align: middle;\n",
       "    }\n",
       "\n",
       "    .dataframe tbody tr th {\n",
       "        vertical-align: top;\n",
       "    }\n",
       "\n",
       "    .dataframe thead th {\n",
       "        text-align: right;\n",
       "    }\n",
       "</style>\n",
       "<table border=\"1\" class=\"dataframe\">\n",
       "  <thead>\n",
       "    <tr style=\"text-align: right;\">\n",
       "      <th></th>\n",
       "      <th>name</th>\n",
       "      <th>standard_genre</th>\n",
       "      <th>summary</th>\n",
       "      <th>summary_str</th>\n",
       "    </tr>\n",
       "    <tr>\n",
       "      <th>wikiID</th>\n",
       "      <th></th>\n",
       "      <th></th>\n",
       "      <th></th>\n",
       "      <th></th>\n",
       "    </tr>\n",
       "  </thead>\n",
       "  <tbody>\n",
       "    <tr>\n",
       "      <th>975900</th>\n",
       "      <td>Ghosts of Mars</td>\n",
       "      <td>{Horror, Adventure, Thriller, Action, Science Fiction, Supernatural}</td>\n",
       "      <td>Set in the second half of the 22nd century, the film depicts Mars as a planet that has been 84% terraformed, allowing humans to walk on the surface without wearing pressure suits. The Martian society has become largely matriarchal, with women in most positions of authority. The story concerns a police officer, Melanie Ballard , second in command of a small team alongside Sergeant Jericho  sent to pick up and transport a prisoner named Desolation Williams . Arriving at the remote mining town where Williams is being held, Ballard finds virtually all of the people missing. She learns that the miners had discovered an underground doorway created by an ancient Martian civilization. When the door was opened it released \"ghosts,\" disembodied spirits which possessed the miners. Violence ensues, as the possessed miners commit horrific acts of death and destruction, as well as self-mutilation. With their team leader Helena Bradock  murdered, Ballard must fight off the attacking miners, escap...</td>\n",
       "      <td>Set in the second half of the 22nd century, the film depicts Mars as a planet that has been 84% terraformed, allowing humans to walk on the surface without wearing pressure suits. The Martian society has become largely matriarchal, with women in most positions of authority. The story concerns a police officer, Melanie Ballard , second in command of a small team alongside Sergeant Jericho sent to pick up and transport a prisoner named Desolation Williams . Arriving at the remote mining town where Williams is being held, Ballard finds virtually all of the people missing. She learns that the miners had discovered an underground doorway created by an ancient Martian civilization. When the door was opened it released \"ghosts,\" disembodied spirits which possessed the miners. Violence ensues, as the possessed miners commit horrific acts of death and destruction, as well as self-mutilation. With their team leader Helena Bradock murdered, Ballard must fight off the attacking miners, escape ...</td>\n",
       "    </tr>\n",
       "    <tr>\n",
       "      <th>9363483</th>\n",
       "      <td>White Of The Eye</td>\n",
       "      <td>{Psychological, Thriller}</td>\n",
       "      <td>A series of murders of rich young women throughout Arizona bear distinctive signatures of a serial killer. Clues lead Detective Charles Mendoza to visit Paul White, a sound expert installing hi-fi systems in wealthy people's homes. His special talent is to make a noise which echoes through the air cavities in his head and shows him where the sound of the speakers should come from and echo in the room. He is married to Joan, whom, ten years earlier, he had seduced away from Mike DeSantos, her then current boyfriend. Joan is questioned by Mendoza, but does not believe his insinuations that her husband is somehow involved in the murders. Various flashbacks show Joan's previous relationship to Mike and later explain how it came to be that he abandoned her. The couple met Paul and befriended him. At Mike's suggestion, he and Mike go on a deer hunting trip together. Paul shoots a deer and brutally mutilates it, demonstrating his sick fascination with killing. This is partly intended to s...</td>\n",
       "      <td>A series of murders of rich young women throughout Arizona bear distinctive signatures of a serial killer. Clues lead Detective Charles Mendoza to visit Paul White, a sound expert installing hi-fi systems in wealthy people's homes. His special talent is to make a noise which echoes through the air cavities in his head and shows him where the sound of the speakers should come from and echo in the room. He is married to Joan, whom, ten years earlier, he had seduced away from Mike DeSantos, her then current boyfriend. Joan is questioned by Mendoza, but does not believe his insinuations that her husband is somehow involved in the murders. Various flashbacks show Joan's previous relationship to Mike and later explain how it came to be that he abandoned her. The couple met Paul and befriended him. At Mike's suggestion, he and Mike go on a deer hunting trip together. Paul shoots a deer and brutally mutilates it, demonstrating his sick fascination with killing. This is partly intended to s...</td>\n",
       "    </tr>\n",
       "    <tr>\n",
       "      <th>261236</th>\n",
       "      <td>A Woman in Flames</td>\n",
       "      <td>{Drama}</td>\n",
       "      <td>Eva, an upper class housewife, becomes frustrated and leaves her arrogant husband. She is drawn to the idea of becoming a call girl. With the aid of a prostitute named Yvonne, Eva learns the basics and then they both set out looking for Johns together. She meets a charming man who she falls in love with and comes to his house late at night for a romantic tryst. He turns out to be a gigolo. Consequently, they move into his penthouse, large enough for both of them to offer their services separately. Then slowly Eva enters the world of sado-masochism. She finds being a dominatrix extremely satisfying, and begins to take pleasure in controlling others and causing them intense pain. She discovers this in a scene in which a man is hiding under a table. Eva can see that his hands are sticking out from under the table and are clearly visible. Coldly, and with intense inner satisfaction, Eva proceeds to crush the man's hands by slowly walking over them with her stiletto-heeled boots. Chris,...</td>\n",
       "      <td>Eva, an upper class housewife, becomes frustrated and leaves her arrogant husband. She is drawn to the idea of becoming a call girl. With the aid of a prostitute named Yvonne, Eva learns the basics and then they both set out looking for Johns together. She meets a charming man who she falls in love with and comes to his house late at night for a romantic tryst. He turns out to be a gigolo. Consequently, they move into his penthouse, large enough for both of them to offer their services separately. Then slowly Eva enters the world of sado-masochism. She finds being a dominatrix extremely satisfying, and begins to take pleasure in controlling others and causing them intense pain. She discovers this in a scene in which a man is hiding under a table. Eva can see that his hands are sticking out from under the table and are clearly visible. Coldly, and with intense inner satisfaction, Eva proceeds to crush the man's hands by slowly walking over them with her stiletto-heeled boots. Chris,...</td>\n",
       "    </tr>\n",
       "    <tr>\n",
       "      <th>18998739</th>\n",
       "      <td>The Sorcerer's Apprentice</td>\n",
       "      <td>{Fantasy, Adventure, Family}</td>\n",
       "      <td>Every hundred years, the evil Morgana  returns to claim Fingall's talisman from the wizard Merlin, with which she intends to destroy the world. For the last fourteen hundred years she has failed... now she intends to conquer all. Young Ben Clark  moves with his parents to a new town, where he befriends his elderly magician neighbor, Milner . Ben has a natural talent for magic and wants to learn all that he can from this old man. Ben carries the same scar as the original staff-bearer 1,400 years before. Both Morgana and Milner, who is revealed to be Merlin, see this as a sign that this time, the battle between good and evil will be stronger and harder than ever. Ben must make his own choice between good and evil as he is drawn into a battle and must draw on his own spirit and magic to decide which path to follow and hence, the fate of the world as we know it.\\n</td>\n",
       "      <td>Every hundred years, the evil Morgana returns to claim Fingall's talisman from the wizard Merlin, with which she intends to destroy the world. For the last fourteen hundred years she has failed... now she intends to conquer all. Young Ben Clark moves with his parents to a new town, where he befriends his elderly magician neighbor, Milner . Ben has a natural talent for magic and wants to learn all that he can from this old man. Ben carries the same scar as the original staff-bearer 1,400 years before. Both Morgana and Milner, who is revealed to be Merlin, see this as a sign that this time, the battle between good and evil will be stronger and harder than ever. Ben must make his own choice between good and evil as he is drawn into a battle and must draw on his own spirit and magic to decide which path to follow and hence, the fate of the world as we know it.</td>\n",
       "    </tr>\n",
       "    <tr>\n",
       "      <th>6631279</th>\n",
       "      <td>Little city</td>\n",
       "      <td>{Comedy, Romance, Drama, Romance Film}</td>\n",
       "      <td>Adam, a San Francisco-based artist who works as a cab driver on the side, is having a hard time committing to his girlfriend, Nina. She wants to take their relationship to the next level, but he hasn't really gotten over his ex-girlfriend, Kate, who left him for another woman and is reluctant to move forward with Nina because he's still hanging on to the idea that one day Kate will come back to him. Feeling neglected, Nina breaks up with Adam and starts seeing Kevin, a womanizing bartender who is also Adam's best friend. Meanwhile Rebecca, the new girl in town, gets a job in Kevin's bar and begins an affair with Anne, the woman Kate left Adam for. Tired of her infidelities, Kate breaks up with Anne and returns to Adam. However she soon realises that she's not in love with him anymore and breaks up with him for good. Rebecca soon tires of Anne and breaks off their affair. One day she meets Adam, who is finally attempting to move on from Kate once and for all, and they go out on a da...</td>\n",
       "      <td>Adam, a San Francisco-based artist who works as a cab driver on the side, is having a hard time committing to his girlfriend, Nina. She wants to take their relationship to the next level, but he has not really gotten over his ex-girlfriend, Kate, who left him for another woman and is reluctant to move forward with Nina because he is still hanging on to the idea that one day Kate will come back to him. Feeling neglected, Nina breaks up with Adam and starts seeing Kevin, a womanizing bartender who is also Adam's best friend. Meanwhile Rebecca, the new girl in town, gets a job in Kevin's bar and begins an affair with Anne, the woman Kate left Adam for. Tired of her infidelities, Kate breaks up with Anne and returns to Adam. However she soon realises that she is not in love with him anymore and breaks up with him for good. Rebecca soon tires of Anne and breaks off their affair. One day she meets Adam, who is finally attempting to move on from Kate once and for all, and they go out on a...</td>\n",
       "    </tr>\n",
       "  </tbody>\n",
       "</table>\n",
       "</div>"
      ],
      "text/plain": [
       "                               name  \\\n",
       "wikiID                                \n",
       "975900               Ghosts of Mars   \n",
       "9363483            White Of The Eye   \n",
       "261236            A Woman in Flames   \n",
       "18998739  The Sorcerer's Apprentice   \n",
       "6631279                 Little city   \n",
       "\n",
       "                                                                standard_genre  \\\n",
       "wikiID                                                                           \n",
       "975900    {Horror, Adventure, Thriller, Action, Science Fiction, Supernatural}   \n",
       "9363483                                              {Psychological, Thriller}   \n",
       "261236                                                                 {Drama}   \n",
       "18998739                                          {Fantasy, Adventure, Family}   \n",
       "6631279                                 {Comedy, Romance, Drama, Romance Film}   \n",
       "\n",
       "                                                                                                                                                                                                                                                                                                                                                                                                                                                                                                                                                                                                                                                                                                                                                                                                                                                                                                                                                                                                                                          summary  \\\n",
       "wikiID                                                                                                                                                                                                                                                                                                                                                                                                                                                                                                                                                                                                                                                                                                                                                                                                                                                                                                                                                                                                                                              \n",
       "975900    Set in the second half of the 22nd century, the film depicts Mars as a planet that has been 84% terraformed, allowing humans to walk on the surface without wearing pressure suits. The Martian society has become largely matriarchal, with women in most positions of authority. The story concerns a police officer, Melanie Ballard , second in command of a small team alongside Sergeant Jericho  sent to pick up and transport a prisoner named Desolation Williams . Arriving at the remote mining town where Williams is being held, Ballard finds virtually all of the people missing. She learns that the miners had discovered an underground doorway created by an ancient Martian civilization. When the door was opened it released \"ghosts,\" disembodied spirits which possessed the miners. Violence ensues, as the possessed miners commit horrific acts of death and destruction, as well as self-mutilation. With their team leader Helena Bradock  murdered, Ballard must fight off the attacking miners, escap...   \n",
       "9363483   A series of murders of rich young women throughout Arizona bear distinctive signatures of a serial killer. Clues lead Detective Charles Mendoza to visit Paul White, a sound expert installing hi-fi systems in wealthy people's homes. His special talent is to make a noise which echoes through the air cavities in his head and shows him where the sound of the speakers should come from and echo in the room. He is married to Joan, whom, ten years earlier, he had seduced away from Mike DeSantos, her then current boyfriend. Joan is questioned by Mendoza, but does not believe his insinuations that her husband is somehow involved in the murders. Various flashbacks show Joan's previous relationship to Mike and later explain how it came to be that he abandoned her. The couple met Paul and befriended him. At Mike's suggestion, he and Mike go on a deer hunting trip together. Paul shoots a deer and brutally mutilates it, demonstrating his sick fascination with killing. This is partly intended to s...   \n",
       "261236    Eva, an upper class housewife, becomes frustrated and leaves her arrogant husband. She is drawn to the idea of becoming a call girl. With the aid of a prostitute named Yvonne, Eva learns the basics and then they both set out looking for Johns together. She meets a charming man who she falls in love with and comes to his house late at night for a romantic tryst. He turns out to be a gigolo. Consequently, they move into his penthouse, large enough for both of them to offer their services separately. Then slowly Eva enters the world of sado-masochism. She finds being a dominatrix extremely satisfying, and begins to take pleasure in controlling others and causing them intense pain. She discovers this in a scene in which a man is hiding under a table. Eva can see that his hands are sticking out from under the table and are clearly visible. Coldly, and with intense inner satisfaction, Eva proceeds to crush the man's hands by slowly walking over them with her stiletto-heeled boots. Chris,...   \n",
       "18998739                                                                                                                                 Every hundred years, the evil Morgana  returns to claim Fingall's talisman from the wizard Merlin, with which she intends to destroy the world. For the last fourteen hundred years she has failed... now she intends to conquer all. Young Ben Clark  moves with his parents to a new town, where he befriends his elderly magician neighbor, Milner . Ben has a natural talent for magic and wants to learn all that he can from this old man. Ben carries the same scar as the original staff-bearer 1,400 years before. Both Morgana and Milner, who is revealed to be Merlin, see this as a sign that this time, the battle between good and evil will be stronger and harder than ever. Ben must make his own choice between good and evil as he is drawn into a battle and must draw on his own spirit and magic to decide which path to follow and hence, the fate of the world as we know it.\\n   \n",
       "6631279   Adam, a San Francisco-based artist who works as a cab driver on the side, is having a hard time committing to his girlfriend, Nina. She wants to take their relationship to the next level, but he hasn't really gotten over his ex-girlfriend, Kate, who left him for another woman and is reluctant to move forward with Nina because he's still hanging on to the idea that one day Kate will come back to him. Feeling neglected, Nina breaks up with Adam and starts seeing Kevin, a womanizing bartender who is also Adam's best friend. Meanwhile Rebecca, the new girl in town, gets a job in Kevin's bar and begins an affair with Anne, the woman Kate left Adam for. Tired of her infidelities, Kate breaks up with Anne and returns to Adam. However she soon realises that she's not in love with him anymore and breaks up with him for good. Rebecca soon tires of Anne and breaks off their affair. One day she meets Adam, who is finally attempting to move on from Kate once and for all, and they go out on a da...   \n",
       "\n",
       "                                                                                                                                                                                                                                                                                                                                                                                                                                                                                                                                                                                                                                                                                                                                                                                                                                                                                                                                                                                                                                      summary_str  \n",
       "wikiID                                                                                                                                                                                                                                                                                                                                                                                                                                                                                                                                                                                                                                                                                                                                                                                                                                                                                                                                                                                                                                             \n",
       "975900    Set in the second half of the 22nd century, the film depicts Mars as a planet that has been 84% terraformed, allowing humans to walk on the surface without wearing pressure suits. The Martian society has become largely matriarchal, with women in most positions of authority. The story concerns a police officer, Melanie Ballard , second in command of a small team alongside Sergeant Jericho sent to pick up and transport a prisoner named Desolation Williams . Arriving at the remote mining town where Williams is being held, Ballard finds virtually all of the people missing. She learns that the miners had discovered an underground doorway created by an ancient Martian civilization. When the door was opened it released \"ghosts,\" disembodied spirits which possessed the miners. Violence ensues, as the possessed miners commit horrific acts of death and destruction, as well as self-mutilation. With their team leader Helena Bradock murdered, Ballard must fight off the attacking miners, escape ...  \n",
       "9363483   A series of murders of rich young women throughout Arizona bear distinctive signatures of a serial killer. Clues lead Detective Charles Mendoza to visit Paul White, a sound expert installing hi-fi systems in wealthy people's homes. His special talent is to make a noise which echoes through the air cavities in his head and shows him where the sound of the speakers should come from and echo in the room. He is married to Joan, whom, ten years earlier, he had seduced away from Mike DeSantos, her then current boyfriend. Joan is questioned by Mendoza, but does not believe his insinuations that her husband is somehow involved in the murders. Various flashbacks show Joan's previous relationship to Mike and later explain how it came to be that he abandoned her. The couple met Paul and befriended him. At Mike's suggestion, he and Mike go on a deer hunting trip together. Paul shoots a deer and brutally mutilates it, demonstrating his sick fascination with killing. This is partly intended to s...  \n",
       "261236    Eva, an upper class housewife, becomes frustrated and leaves her arrogant husband. She is drawn to the idea of becoming a call girl. With the aid of a prostitute named Yvonne, Eva learns the basics and then they both set out looking for Johns together. She meets a charming man who she falls in love with and comes to his house late at night for a romantic tryst. He turns out to be a gigolo. Consequently, they move into his penthouse, large enough for both of them to offer their services separately. Then slowly Eva enters the world of sado-masochism. She finds being a dominatrix extremely satisfying, and begins to take pleasure in controlling others and causing them intense pain. She discovers this in a scene in which a man is hiding under a table. Eva can see that his hands are sticking out from under the table and are clearly visible. Coldly, and with intense inner satisfaction, Eva proceeds to crush the man's hands by slowly walking over them with her stiletto-heeled boots. Chris,...  \n",
       "18998739                                                                                                                                     Every hundred years, the evil Morgana returns to claim Fingall's talisman from the wizard Merlin, with which she intends to destroy the world. For the last fourteen hundred years she has failed... now she intends to conquer all. Young Ben Clark moves with his parents to a new town, where he befriends his elderly magician neighbor, Milner . Ben has a natural talent for magic and wants to learn all that he can from this old man. Ben carries the same scar as the original staff-bearer 1,400 years before. Both Morgana and Milner, who is revealed to be Merlin, see this as a sign that this time, the battle between good and evil will be stronger and harder than ever. Ben must make his own choice between good and evil as he is drawn into a battle and must draw on his own spirit and magic to decide which path to follow and hence, the fate of the world as we know it.  \n",
       "6631279   Adam, a San Francisco-based artist who works as a cab driver on the side, is having a hard time committing to his girlfriend, Nina. She wants to take their relationship to the next level, but he has not really gotten over his ex-girlfriend, Kate, who left him for another woman and is reluctant to move forward with Nina because he is still hanging on to the idea that one day Kate will come back to him. Feeling neglected, Nina breaks up with Adam and starts seeing Kevin, a womanizing bartender who is also Adam's best friend. Meanwhile Rebecca, the new girl in town, gets a job in Kevin's bar and begins an affair with Anne, the woman Kate left Adam for. Tired of her infidelities, Kate breaks up with Anne and returns to Adam. However she soon realises that she is not in love with him anymore and breaks up with him for good. Rebecca soon tires of Anne and breaks off their affair. One day she meets Adam, who is finally attempting to move on from Kate once and for all, and they go out on a...  "
      ]
     },
     "execution_count": 13,
     "metadata": {},
     "output_type": "execute_result"
    }
   ],
   "source": [
    "pd.set_option('display.max_colwidth', 1000)\n",
    "data['summary_str'] = [' '.join(map(str, word)) for word in data['no_contract']]\n",
    "\n",
    "data = data.drop(columns=['no_contract'])\n",
    "\n",
    "data.head()"
   ]
  },
  {
   "cell_type": "markdown",
   "id": "e08c2cf3",
   "metadata": {},
   "source": [
    "## To lower case"
   ]
  },
  {
   "cell_type": "code",
   "execution_count": 14,
   "id": "d7f05aa1",
   "metadata": {},
   "outputs": [
    {
     "data": {
      "text/html": [
       "<div>\n",
       "<style scoped>\n",
       "    .dataframe tbody tr th:only-of-type {\n",
       "        vertical-align: middle;\n",
       "    }\n",
       "\n",
       "    .dataframe tbody tr th {\n",
       "        vertical-align: top;\n",
       "    }\n",
       "\n",
       "    .dataframe thead th {\n",
       "        text-align: right;\n",
       "    }\n",
       "</style>\n",
       "<table border=\"1\" class=\"dataframe\">\n",
       "  <thead>\n",
       "    <tr style=\"text-align: right;\">\n",
       "      <th></th>\n",
       "      <th>name</th>\n",
       "      <th>standard_genre</th>\n",
       "      <th>summary</th>\n",
       "      <th>summary_str</th>\n",
       "    </tr>\n",
       "    <tr>\n",
       "      <th>wikiID</th>\n",
       "      <th></th>\n",
       "      <th></th>\n",
       "      <th></th>\n",
       "      <th></th>\n",
       "    </tr>\n",
       "  </thead>\n",
       "  <tbody>\n",
       "    <tr>\n",
       "      <th>975900</th>\n",
       "      <td>Ghosts of Mars</td>\n",
       "      <td>{Horror, Adventure, Thriller, Action, Science Fiction, Supernatural}</td>\n",
       "      <td>Set in the second half of the 22nd century, the film depicts Mars as a planet that has been 84% terraformed, allowing humans to walk on the surface without wearing pressure suits. The Martian society has become largely matriarchal, with women in most positions of authority. The story concerns a police officer, Melanie Ballard , second in command of a small team alongside Sergeant Jericho  sent to pick up and transport a prisoner named Desolation Williams . Arriving at the remote mining town where Williams is being held, Ballard finds virtually all of the people missing. She learns that the miners had discovered an underground doorway created by an ancient Martian civilization. When the door was opened it released \"ghosts,\" disembodied spirits which possessed the miners. Violence ensues, as the possessed miners commit horrific acts of death and destruction, as well as self-mutilation. With their team leader Helena Bradock  murdered, Ballard must fight off the attacking miners, escap...</td>\n",
       "      <td>set in the second half of the 22nd century, the film depicts mars as a planet that has been 84% terraformed, allowing humans to walk on the surface without wearing pressure suits. the martian society has become largely matriarchal, with women in most positions of authority. the story concerns a police officer, melanie ballard , second in command of a small team alongside sergeant jericho sent to pick up and transport a prisoner named desolation williams . arriving at the remote mining town where williams is being held, ballard finds virtually all of the people missing. she learns that the miners had discovered an underground doorway created by an ancient martian civilization. when the door was opened it released \"ghosts,\" disembodied spirits which possessed the miners. violence ensues, as the possessed miners commit horrific acts of death and destruction, as well as self-mutilation. with their team leader helena bradock murdered, ballard must fight off the attacking miners, escape ...</td>\n",
       "    </tr>\n",
       "  </tbody>\n",
       "</table>\n",
       "</div>"
      ],
      "text/plain": [
       "                  name  \\\n",
       "wikiID                   \n",
       "975900  Ghosts of Mars   \n",
       "\n",
       "                                                              standard_genre  \\\n",
       "wikiID                                                                         \n",
       "975900  {Horror, Adventure, Thriller, Action, Science Fiction, Supernatural}   \n",
       "\n",
       "                                                                                                                                                                                                                                                                                                                                                                                                                                                                                                                                                                                                                                                                                                                                                                                                                                                                                                                                                                                                                                        summary  \\\n",
       "wikiID                                                                                                                                                                                                                                                                                                                                                                                                                                                                                                                                                                                                                                                                                                                                                                                                                                                                                                                                                                                                                                            \n",
       "975900  Set in the second half of the 22nd century, the film depicts Mars as a planet that has been 84% terraformed, allowing humans to walk on the surface without wearing pressure suits. The Martian society has become largely matriarchal, with women in most positions of authority. The story concerns a police officer, Melanie Ballard , second in command of a small team alongside Sergeant Jericho  sent to pick up and transport a prisoner named Desolation Williams . Arriving at the remote mining town where Williams is being held, Ballard finds virtually all of the people missing. She learns that the miners had discovered an underground doorway created by an ancient Martian civilization. When the door was opened it released \"ghosts,\" disembodied spirits which possessed the miners. Violence ensues, as the possessed miners commit horrific acts of death and destruction, as well as self-mutilation. With their team leader Helena Bradock  murdered, Ballard must fight off the attacking miners, escap...   \n",
       "\n",
       "                                                                                                                                                                                                                                                                                                                                                                                                                                                                                                                                                                                                                                                                                                                                                                                                                                                                                                                                                                                                                                    summary_str  \n",
       "wikiID                                                                                                                                                                                                                                                                                                                                                                                                                                                                                                                                                                                                                                                                                                                                                                                                                                                                                                                                                                                                                                           \n",
       "975900  set in the second half of the 22nd century, the film depicts mars as a planet that has been 84% terraformed, allowing humans to walk on the surface without wearing pressure suits. the martian society has become largely matriarchal, with women in most positions of authority. the story concerns a police officer, melanie ballard , second in command of a small team alongside sergeant jericho sent to pick up and transport a prisoner named desolation williams . arriving at the remote mining town where williams is being held, ballard finds virtually all of the people missing. she learns that the miners had discovered an underground doorway created by an ancient martian civilization. when the door was opened it released \"ghosts,\" disembodied spirits which possessed the miners. violence ensues, as the possessed miners commit horrific acts of death and destruction, as well as self-mutilation. with their team leader helena bradock murdered, ballard must fight off the attacking miners, escape ...  "
      ]
     },
     "execution_count": 14,
     "metadata": {},
     "output_type": "execute_result"
    }
   ],
   "source": [
    "data['summary_str'] = data['summary_str'].str.lower()\n",
    "\n",
    "data.head()[:1]"
   ]
  },
  {
   "cell_type": "markdown",
   "id": "9233d076",
   "metadata": {},
   "source": [
    "## Tokenizacija"
   ]
  },
  {
   "cell_type": "code",
   "execution_count": 15,
   "id": "71f9ddd5",
   "metadata": {},
   "outputs": [
    {
     "name": "stderr",
     "output_type": "stream",
     "text": [
      "[nltk_data] Downloading package punkt to /home/ltomic/nltk_data...\n",
      "[nltk_data]   Package punkt is already up-to-date!\n"
     ]
    },
    {
     "data": {
      "text/html": [
       "<div>\n",
       "<style scoped>\n",
       "    .dataframe tbody tr th:only-of-type {\n",
       "        vertical-align: middle;\n",
       "    }\n",
       "\n",
       "    .dataframe tbody tr th {\n",
       "        vertical-align: top;\n",
       "    }\n",
       "\n",
       "    .dataframe thead th {\n",
       "        text-align: right;\n",
       "    }\n",
       "</style>\n",
       "<table border=\"1\" class=\"dataframe\">\n",
       "  <thead>\n",
       "    <tr style=\"text-align: right;\">\n",
       "      <th></th>\n",
       "      <th>name</th>\n",
       "      <th>standard_genre</th>\n",
       "      <th>summary</th>\n",
       "      <th>summary_str</th>\n",
       "      <th>tokenized</th>\n",
       "    </tr>\n",
       "    <tr>\n",
       "      <th>wikiID</th>\n",
       "      <th></th>\n",
       "      <th></th>\n",
       "      <th></th>\n",
       "      <th></th>\n",
       "      <th></th>\n",
       "    </tr>\n",
       "  </thead>\n",
       "  <tbody>\n",
       "    <tr>\n",
       "      <th>975900</th>\n",
       "      <td>Ghosts of Mars</td>\n",
       "      <td>{Horror, Adventure, Thriller, Action, Science Fiction, Supernatural}</td>\n",
       "      <td>Set in the second half of the 22nd century, the film depicts Mars as a planet that has been 84% terraformed, allowing humans to walk on the surface without wearing pressure suits. The Martian society has become largely matriarchal, with women in most positions of authority. The story concerns a police officer, Melanie Ballard , second in command of a small team alongside Sergeant Jericho  sent to pick up and transport a prisoner named Desolation Williams . Arriving at the remote mining town where Williams is being held, Ballard finds virtually all of the people missing. She learns that the miners had discovered an underground doorway created by an ancient Martian civilization. When the door was opened it released \"ghosts,\" disembodied spirits which possessed the miners. Violence ensues, as the possessed miners commit horrific acts of death and destruction, as well as self-mutilation. With their team leader Helena Bradock  murdered, Ballard must fight off the attacking miners, escap...</td>\n",
       "      <td>set in the second half of the 22nd century, the film depicts mars as a planet that has been 84% terraformed, allowing humans to walk on the surface without wearing pressure suits. the martian society has become largely matriarchal, with women in most positions of authority. the story concerns a police officer, melanie ballard , second in command of a small team alongside sergeant jericho sent to pick up and transport a prisoner named desolation williams . arriving at the remote mining town where williams is being held, ballard finds virtually all of the people missing. she learns that the miners had discovered an underground doorway created by an ancient martian civilization. when the door was opened it released \"ghosts,\" disembodied spirits which possessed the miners. violence ensues, as the possessed miners commit horrific acts of death and destruction, as well as self-mutilation. with their team leader helena bradock murdered, ballard must fight off the attacking miners, escape ...</td>\n",
       "      <td>[set, in, the, second, half, of, the, 22nd, century, ,, the, film, depicts, mars, as, a, planet, that, has, been, 84, %, terraformed, ,, allowing, humans, to, walk, on, the, surface, without, wearing, pressure, suits, ., the, martian, society, has, become, largely, matriarchal, ,, with, women, in, most, positions, of, authority, ., the, story, concerns, a, police, officer, ,, melanie, ballard, ,, second, in, command, of, a, small, team, alongside, sergeant, jericho, sent, to, pick, up, and, transport, a, prisoner, named, desolation, williams, ., arriving, at, the, remote, mining, town, where, williams, is, being, held, ,, ballard, finds, virtually, all, ...]</td>\n",
       "    </tr>\n",
       "  </tbody>\n",
       "</table>\n",
       "</div>"
      ],
      "text/plain": [
       "                  name  \\\n",
       "wikiID                   \n",
       "975900  Ghosts of Mars   \n",
       "\n",
       "                                                              standard_genre  \\\n",
       "wikiID                                                                         \n",
       "975900  {Horror, Adventure, Thriller, Action, Science Fiction, Supernatural}   \n",
       "\n",
       "                                                                                                                                                                                                                                                                                                                                                                                                                                                                                                                                                                                                                                                                                                                                                                                                                                                                                                                                                                                                                                        summary  \\\n",
       "wikiID                                                                                                                                                                                                                                                                                                                                                                                                                                                                                                                                                                                                                                                                                                                                                                                                                                                                                                                                                                                                                                            \n",
       "975900  Set in the second half of the 22nd century, the film depicts Mars as a planet that has been 84% terraformed, allowing humans to walk on the surface without wearing pressure suits. The Martian society has become largely matriarchal, with women in most positions of authority. The story concerns a police officer, Melanie Ballard , second in command of a small team alongside Sergeant Jericho  sent to pick up and transport a prisoner named Desolation Williams . Arriving at the remote mining town where Williams is being held, Ballard finds virtually all of the people missing. She learns that the miners had discovered an underground doorway created by an ancient Martian civilization. When the door was opened it released \"ghosts,\" disembodied spirits which possessed the miners. Violence ensues, as the possessed miners commit horrific acts of death and destruction, as well as self-mutilation. With their team leader Helena Bradock  murdered, Ballard must fight off the attacking miners, escap...   \n",
       "\n",
       "                                                                                                                                                                                                                                                                                                                                                                                                                                                                                                                                                                                                                                                                                                                                                                                                                                                                                                                                                                                                                                    summary_str  \\\n",
       "wikiID                                                                                                                                                                                                                                                                                                                                                                                                                                                                                                                                                                                                                                                                                                                                                                                                                                                                                                                                                                                                                                            \n",
       "975900  set in the second half of the 22nd century, the film depicts mars as a planet that has been 84% terraformed, allowing humans to walk on the surface without wearing pressure suits. the martian society has become largely matriarchal, with women in most positions of authority. the story concerns a police officer, melanie ballard , second in command of a small team alongside sergeant jericho sent to pick up and transport a prisoner named desolation williams . arriving at the remote mining town where williams is being held, ballard finds virtually all of the people missing. she learns that the miners had discovered an underground doorway created by an ancient martian civilization. when the door was opened it released \"ghosts,\" disembodied spirits which possessed the miners. violence ensues, as the possessed miners commit horrific acts of death and destruction, as well as self-mutilation. with their team leader helena bradock murdered, ballard must fight off the attacking miners, escape ...   \n",
       "\n",
       "                                                                                                                                                                                                                                                                                                                                                                                                                                                                                                                                                                                                                                                                                         tokenized  \n",
       "wikiID                                                                                                                                                                                                                                                                                                                                                                                                                                                                                                                                                                                                                                                                                              \n",
       "975900  [set, in, the, second, half, of, the, 22nd, century, ,, the, film, depicts, mars, as, a, planet, that, has, been, 84, %, terraformed, ,, allowing, humans, to, walk, on, the, surface, without, wearing, pressure, suits, ., the, martian, society, has, become, largely, matriarchal, ,, with, women, in, most, positions, of, authority, ., the, story, concerns, a, police, officer, ,, melanie, ballard, ,, second, in, command, of, a, small, team, alongside, sergeant, jericho, sent, to, pick, up, and, transport, a, prisoner, named, desolation, williams, ., arriving, at, the, remote, mining, town, where, williams, is, being, held, ,, ballard, finds, virtually, all, ...]  "
      ]
     },
     "execution_count": 15,
     "metadata": {},
     "output_type": "execute_result"
    }
   ],
   "source": [
    "import nltk\n",
    "from nltk.tokenize import word_tokenize\n",
    "\n",
    "nltk.download('punkt')\n",
    "\n",
    "data['tokenized'] = data['summary_str'].apply(word_tokenize)\n",
    "\n",
    "data.head()[:1]"
   ]
  },
  {
   "cell_type": "markdown",
   "id": "791b2af9",
   "metadata": {},
   "source": [
    "## Micanje interpunkcije"
   ]
  },
  {
   "cell_type": "code",
   "execution_count": 16,
   "id": "b3a968ed",
   "metadata": {},
   "outputs": [
    {
     "data": {
      "text/html": [
       "<div>\n",
       "<style scoped>\n",
       "    .dataframe tbody tr th:only-of-type {\n",
       "        vertical-align: middle;\n",
       "    }\n",
       "\n",
       "    .dataframe tbody tr th {\n",
       "        vertical-align: top;\n",
       "    }\n",
       "\n",
       "    .dataframe thead th {\n",
       "        text-align: right;\n",
       "    }\n",
       "</style>\n",
       "<table border=\"1\" class=\"dataframe\">\n",
       "  <thead>\n",
       "    <tr style=\"text-align: right;\">\n",
       "      <th></th>\n",
       "      <th>name</th>\n",
       "      <th>standard_genre</th>\n",
       "      <th>summary</th>\n",
       "      <th>summary_str</th>\n",
       "      <th>tokenized</th>\n",
       "      <th>bez_interpunkcije</th>\n",
       "    </tr>\n",
       "    <tr>\n",
       "      <th>wikiID</th>\n",
       "      <th></th>\n",
       "      <th></th>\n",
       "      <th></th>\n",
       "      <th></th>\n",
       "      <th></th>\n",
       "      <th></th>\n",
       "    </tr>\n",
       "  </thead>\n",
       "  <tbody>\n",
       "    <tr>\n",
       "      <th>975900</th>\n",
       "      <td>Ghosts of Mars</td>\n",
       "      <td>{Horror, Adventure, Thriller, Action, Science Fiction, Supernatural}</td>\n",
       "      <td>Set in the second half of the 22nd century, the film depicts Mars as a planet that has been 84% terraformed, allowing humans to walk on the surface without wearing pressure suits. The Martian society has become largely matriarchal, with women in most positions of authority. The story concerns a police officer, Melanie Ballard , second in command of a small team alongside Sergeant Jericho  sent to pick up and transport a prisoner named Desolation Williams . Arriving at the remote mining town where Williams is being held, Ballard finds virtually all of the people missing. She learns that the miners had discovered an underground doorway created by an ancient Martian civilization. When the door was opened it released \"ghosts,\" disembodied spirits which possessed the miners. Violence ensues, as the possessed miners commit horrific acts of death and destruction, as well as self-mutilation. With their team leader Helena Bradock  murdered, Ballard must fight off the attacking miners, escap...</td>\n",
       "      <td>set in the second half of the 22nd century, the film depicts mars as a planet that has been 84% terraformed, allowing humans to walk on the surface without wearing pressure suits. the martian society has become largely matriarchal, with women in most positions of authority. the story concerns a police officer, melanie ballard , second in command of a small team alongside sergeant jericho sent to pick up and transport a prisoner named desolation williams . arriving at the remote mining town where williams is being held, ballard finds virtually all of the people missing. she learns that the miners had discovered an underground doorway created by an ancient martian civilization. when the door was opened it released \"ghosts,\" disembodied spirits which possessed the miners. violence ensues, as the possessed miners commit horrific acts of death and destruction, as well as self-mutilation. with their team leader helena bradock murdered, ballard must fight off the attacking miners, escape ...</td>\n",
       "      <td>[set, in, the, second, half, of, the, 22nd, century, ,, the, film, depicts, mars, as, a, planet, that, has, been, 84, %, terraformed, ,, allowing, humans, to, walk, on, the, surface, without, wearing, pressure, suits, ., the, martian, society, has, become, largely, matriarchal, ,, with, women, in, most, positions, of, authority, ., the, story, concerns, a, police, officer, ,, melanie, ballard, ,, second, in, command, of, a, small, team, alongside, sergeant, jericho, sent, to, pick, up, and, transport, a, prisoner, named, desolation, williams, ., arriving, at, the, remote, mining, town, where, williams, is, being, held, ,, ballard, finds, virtually, all, ...]</td>\n",
       "      <td>[set, in, the, second, half, of, the, 22nd, century, the, film, depicts, mars, as, a, planet, that, has, been, 84, terraformed, allowing, humans, to, walk, on, the, surface, without, wearing, pressure, suits, the, martian, society, has, become, largely, matriarchal, with, women, in, most, positions, of, authority, the, story, concerns, a, police, officer, melanie, ballard, second, in, command, of, a, small, team, alongside, sergeant, jericho, sent, to, pick, up, and, transport, a, prisoner, named, desolation, williams, arriving, at, the, remote, mining, town, where, williams, is, being, held, ballard, finds, virtually, all, of, the, people, missing, she, learns, that, the, miners, had, ...]</td>\n",
       "    </tr>\n",
       "  </tbody>\n",
       "</table>\n",
       "</div>"
      ],
      "text/plain": [
       "                  name  \\\n",
       "wikiID                   \n",
       "975900  Ghosts of Mars   \n",
       "\n",
       "                                                              standard_genre  \\\n",
       "wikiID                                                                         \n",
       "975900  {Horror, Adventure, Thriller, Action, Science Fiction, Supernatural}   \n",
       "\n",
       "                                                                                                                                                                                                                                                                                                                                                                                                                                                                                                                                                                                                                                                                                                                                                                                                                                                                                                                                                                                                                                        summary  \\\n",
       "wikiID                                                                                                                                                                                                                                                                                                                                                                                                                                                                                                                                                                                                                                                                                                                                                                                                                                                                                                                                                                                                                                            \n",
       "975900  Set in the second half of the 22nd century, the film depicts Mars as a planet that has been 84% terraformed, allowing humans to walk on the surface without wearing pressure suits. The Martian society has become largely matriarchal, with women in most positions of authority. The story concerns a police officer, Melanie Ballard , second in command of a small team alongside Sergeant Jericho  sent to pick up and transport a prisoner named Desolation Williams . Arriving at the remote mining town where Williams is being held, Ballard finds virtually all of the people missing. She learns that the miners had discovered an underground doorway created by an ancient Martian civilization. When the door was opened it released \"ghosts,\" disembodied spirits which possessed the miners. Violence ensues, as the possessed miners commit horrific acts of death and destruction, as well as self-mutilation. With their team leader Helena Bradock  murdered, Ballard must fight off the attacking miners, escap...   \n",
       "\n",
       "                                                                                                                                                                                                                                                                                                                                                                                                                                                                                                                                                                                                                                                                                                                                                                                                                                                                                                                                                                                                                                    summary_str  \\\n",
       "wikiID                                                                                                                                                                                                                                                                                                                                                                                                                                                                                                                                                                                                                                                                                                                                                                                                                                                                                                                                                                                                                                            \n",
       "975900  set in the second half of the 22nd century, the film depicts mars as a planet that has been 84% terraformed, allowing humans to walk on the surface without wearing pressure suits. the martian society has become largely matriarchal, with women in most positions of authority. the story concerns a police officer, melanie ballard , second in command of a small team alongside sergeant jericho sent to pick up and transport a prisoner named desolation williams . arriving at the remote mining town where williams is being held, ballard finds virtually all of the people missing. she learns that the miners had discovered an underground doorway created by an ancient martian civilization. when the door was opened it released \"ghosts,\" disembodied spirits which possessed the miners. violence ensues, as the possessed miners commit horrific acts of death and destruction, as well as self-mutilation. with their team leader helena bradock murdered, ballard must fight off the attacking miners, escape ...   \n",
       "\n",
       "                                                                                                                                                                                                                                                                                                                                                                                                                                                                                                                                                                                                                                                                                         tokenized  \\\n",
       "wikiID                                                                                                                                                                                                                                                                                                                                                                                                                                                                                                                                                                                                                                                                                               \n",
       "975900  [set, in, the, second, half, of, the, 22nd, century, ,, the, film, depicts, mars, as, a, planet, that, has, been, 84, %, terraformed, ,, allowing, humans, to, walk, on, the, surface, without, wearing, pressure, suits, ., the, martian, society, has, become, largely, matriarchal, ,, with, women, in, most, positions, of, authority, ., the, story, concerns, a, police, officer, ,, melanie, ballard, ,, second, in, command, of, a, small, team, alongside, sergeant, jericho, sent, to, pick, up, and, transport, a, prisoner, named, desolation, williams, ., arriving, at, the, remote, mining, town, where, williams, is, being, held, ,, ballard, finds, virtually, all, ...]   \n",
       "\n",
       "                                                                                                                                                                                                                                                                                                                                                                                                                                                                                                                                                                                                                                                                                                                  bez_interpunkcije  \n",
       "wikiID                                                                                                                                                                                                                                                                                                                                                                                                                                                                                                                                                                                                                                                                                                                               \n",
       "975900  [set, in, the, second, half, of, the, 22nd, century, the, film, depicts, mars, as, a, planet, that, has, been, 84, terraformed, allowing, humans, to, walk, on, the, surface, without, wearing, pressure, suits, the, martian, society, has, become, largely, matriarchal, with, women, in, most, positions, of, authority, the, story, concerns, a, police, officer, melanie, ballard, second, in, command, of, a, small, team, alongside, sergeant, jericho, sent, to, pick, up, and, transport, a, prisoner, named, desolation, williams, arriving, at, the, remote, mining, town, where, williams, is, being, held, ballard, finds, virtually, all, of, the, people, missing, she, learns, that, the, miners, had, ...]  "
      ]
     },
     "execution_count": 16,
     "metadata": {},
     "output_type": "execute_result"
    }
   ],
   "source": [
    "import string\n",
    "\n",
    "data['bez_interpunkcije'] = data['tokenized'].apply(\n",
    "    lambda x: [word for word in x if word not in string.punctuation])\n",
    "\n",
    "data.head()[:1]"
   ]
  },
  {
   "cell_type": "code",
   "execution_count": 17,
   "id": "53b5edc1",
   "metadata": {},
   "outputs": [
    {
     "data": {
      "text/html": [
       "<div>\n",
       "<style scoped>\n",
       "    .dataframe tbody tr th:only-of-type {\n",
       "        vertical-align: middle;\n",
       "    }\n",
       "\n",
       "    .dataframe tbody tr th {\n",
       "        vertical-align: top;\n",
       "    }\n",
       "\n",
       "    .dataframe thead th {\n",
       "        text-align: right;\n",
       "    }\n",
       "</style>\n",
       "<table border=\"1\" class=\"dataframe\">\n",
       "  <thead>\n",
       "    <tr style=\"text-align: right;\">\n",
       "      <th></th>\n",
       "      <th>name</th>\n",
       "      <th>standard_genre</th>\n",
       "      <th>summary</th>\n",
       "      <th>summary_str</th>\n",
       "      <th>tokenized</th>\n",
       "    </tr>\n",
       "    <tr>\n",
       "      <th>wikiID</th>\n",
       "      <th></th>\n",
       "      <th></th>\n",
       "      <th></th>\n",
       "      <th></th>\n",
       "      <th></th>\n",
       "    </tr>\n",
       "  </thead>\n",
       "  <tbody>\n",
       "    <tr>\n",
       "      <th>975900</th>\n",
       "      <td>Ghosts of Mars</td>\n",
       "      <td>{Horror, Adventure, Thriller, Action, Science Fiction, Supernatural}</td>\n",
       "      <td>Set in the second half of the 22nd century, the film depicts Mars as a planet that has been 84% terraformed, allowing humans to walk on the surface without wearing pressure suits. The Martian society has become largely matriarchal, with women in most positions of authority. The story concerns a police officer, Melanie Ballard , second in command of a small team alongside Sergeant Jericho  sent to pick up and transport a prisoner named Desolation Williams . Arriving at the remote mining town where Williams is being held, Ballard finds virtually all of the people missing. She learns that the miners had discovered an underground doorway created by an ancient Martian civilization. When the door was opened it released \"ghosts,\" disembodied spirits which possessed the miners. Violence ensues, as the possessed miners commit horrific acts of death and destruction, as well as self-mutilation. With their team leader Helena Bradock  murdered, Ballard must fight off the attacking miners, escap...</td>\n",
       "      <td>set in the second half of the 22nd century, the film depicts mars as a planet that has been 84% terraformed, allowing humans to walk on the surface without wearing pressure suits. the martian society has become largely matriarchal, with women in most positions of authority. the story concerns a police officer, melanie ballard , second in command of a small team alongside sergeant jericho sent to pick up and transport a prisoner named desolation williams . arriving at the remote mining town where williams is being held, ballard finds virtually all of the people missing. she learns that the miners had discovered an underground doorway created by an ancient martian civilization. when the door was opened it released \"ghosts,\" disembodied spirits which possessed the miners. violence ensues, as the possessed miners commit horrific acts of death and destruction, as well as self-mutilation. with their team leader helena bradock murdered, ballard must fight off the attacking miners, escape ...</td>\n",
       "      <td>[set, in, the, second, half, of, the, 22nd, century, the, film, depicts, mars, as, a, planet, that, has, been, 84, terraformed, allowing, humans, to, walk, on, the, surface, without, wearing, pressure, suits, the, martian, society, has, become, largely, matriarchal, with, women, in, most, positions, of, authority, the, story, concerns, a, police, officer, melanie, ballard, second, in, command, of, a, small, team, alongside, sergeant, jericho, sent, to, pick, up, and, transport, a, prisoner, named, desolation, williams, arriving, at, the, remote, mining, town, where, williams, is, being, held, ballard, finds, virtually, all, of, the, people, missing, she, learns, that, the, miners, had, ...]</td>\n",
       "    </tr>\n",
       "  </tbody>\n",
       "</table>\n",
       "</div>"
      ],
      "text/plain": [
       "                  name  \\\n",
       "wikiID                   \n",
       "975900  Ghosts of Mars   \n",
       "\n",
       "                                                              standard_genre  \\\n",
       "wikiID                                                                         \n",
       "975900  {Horror, Adventure, Thriller, Action, Science Fiction, Supernatural}   \n",
       "\n",
       "                                                                                                                                                                                                                                                                                                                                                                                                                                                                                                                                                                                                                                                                                                                                                                                                                                                                                                                                                                                                                                        summary  \\\n",
       "wikiID                                                                                                                                                                                                                                                                                                                                                                                                                                                                                                                                                                                                                                                                                                                                                                                                                                                                                                                                                                                                                                            \n",
       "975900  Set in the second half of the 22nd century, the film depicts Mars as a planet that has been 84% terraformed, allowing humans to walk on the surface without wearing pressure suits. The Martian society has become largely matriarchal, with women in most positions of authority. The story concerns a police officer, Melanie Ballard , second in command of a small team alongside Sergeant Jericho  sent to pick up and transport a prisoner named Desolation Williams . Arriving at the remote mining town where Williams is being held, Ballard finds virtually all of the people missing. She learns that the miners had discovered an underground doorway created by an ancient Martian civilization. When the door was opened it released \"ghosts,\" disembodied spirits which possessed the miners. Violence ensues, as the possessed miners commit horrific acts of death and destruction, as well as self-mutilation. With their team leader Helena Bradock  murdered, Ballard must fight off the attacking miners, escap...   \n",
       "\n",
       "                                                                                                                                                                                                                                                                                                                                                                                                                                                                                                                                                                                                                                                                                                                                                                                                                                                                                                                                                                                                                                    summary_str  \\\n",
       "wikiID                                                                                                                                                                                                                                                                                                                                                                                                                                                                                                                                                                                                                                                                                                                                                                                                                                                                                                                                                                                                                                            \n",
       "975900  set in the second half of the 22nd century, the film depicts mars as a planet that has been 84% terraformed, allowing humans to walk on the surface without wearing pressure suits. the martian society has become largely matriarchal, with women in most positions of authority. the story concerns a police officer, melanie ballard , second in command of a small team alongside sergeant jericho sent to pick up and transport a prisoner named desolation williams . arriving at the remote mining town where williams is being held, ballard finds virtually all of the people missing. she learns that the miners had discovered an underground doorway created by an ancient martian civilization. when the door was opened it released \"ghosts,\" disembodied spirits which possessed the miners. violence ensues, as the possessed miners commit horrific acts of death and destruction, as well as self-mutilation. with their team leader helena bradock murdered, ballard must fight off the attacking miners, escape ...   \n",
       "\n",
       "                                                                                                                                                                                                                                                                                                                                                                                                                                                                                                                                                                                                                                                                                                                          tokenized  \n",
       "wikiID                                                                                                                                                                                                                                                                                                                                                                                                                                                                                                                                                                                                                                                                                                                               \n",
       "975900  [set, in, the, second, half, of, the, 22nd, century, the, film, depicts, mars, as, a, planet, that, has, been, 84, terraformed, allowing, humans, to, walk, on, the, surface, without, wearing, pressure, suits, the, martian, society, has, become, largely, matriarchal, with, women, in, most, positions, of, authority, the, story, concerns, a, police, officer, melanie, ballard, second, in, command, of, a, small, team, alongside, sergeant, jericho, sent, to, pick, up, and, transport, a, prisoner, named, desolation, williams, arriving, at, the, remote, mining, town, where, williams, is, being, held, ballard, finds, virtually, all, of, the, people, missing, she, learns, that, the, miners, had, ...]  "
      ]
     },
     "execution_count": 17,
     "metadata": {},
     "output_type": "execute_result"
    }
   ],
   "source": [
    "data['tokenized'] = data['bez_interpunkcije']\n",
    "data = data.drop(columns=['bez_interpunkcije'])\n",
    "\n",
    "data.head()[:1]"
   ]
  },
  {
   "cell_type": "code",
   "execution_count": 18,
   "id": "20ba4279",
   "metadata": {},
   "outputs": [
    {
     "data": {
      "text/html": [
       "<div>\n",
       "<style scoped>\n",
       "    .dataframe tbody tr th:only-of-type {\n",
       "        vertical-align: middle;\n",
       "    }\n",
       "\n",
       "    .dataframe tbody tr th {\n",
       "        vertical-align: top;\n",
       "    }\n",
       "\n",
       "    .dataframe thead th {\n",
       "        text-align: right;\n",
       "    }\n",
       "</style>\n",
       "<table border=\"1\" class=\"dataframe\">\n",
       "  <thead>\n",
       "    <tr style=\"text-align: right;\">\n",
       "      <th></th>\n",
       "      <th>name</th>\n",
       "      <th>standard_genre</th>\n",
       "      <th>summary</th>\n",
       "      <th>summary_str</th>\n",
       "      <th>tokenized</th>\n",
       "      <th>stopwords_removed</th>\n",
       "    </tr>\n",
       "    <tr>\n",
       "      <th>wikiID</th>\n",
       "      <th></th>\n",
       "      <th></th>\n",
       "      <th></th>\n",
       "      <th></th>\n",
       "      <th></th>\n",
       "      <th></th>\n",
       "    </tr>\n",
       "  </thead>\n",
       "  <tbody>\n",
       "    <tr>\n",
       "      <th>975900</th>\n",
       "      <td>Ghosts of Mars</td>\n",
       "      <td>{Horror, Adventure, Thriller, Action, Science Fiction, Supernatural}</td>\n",
       "      <td>Set in the second half of the 22nd century, the film depicts Mars as a planet that has been 84% terraformed, allowing humans to walk on the surface without wearing pressure suits. The Martian society has become largely matriarchal, with women in most positions of authority. The story concerns a police officer, Melanie Ballard , second in command of a small team alongside Sergeant Jericho  sent to pick up and transport a prisoner named Desolation Williams . Arriving at the remote mining town where Williams is being held, Ballard finds virtually all of the people missing. She learns that the miners had discovered an underground doorway created by an ancient Martian civilization. When the door was opened it released \"ghosts,\" disembodied spirits which possessed the miners. Violence ensues, as the possessed miners commit horrific acts of death and destruction, as well as self-mutilation. With their team leader Helena Bradock  murdered, Ballard must fight off the attacking miners, escap...</td>\n",
       "      <td>set in the second half of the 22nd century, the film depicts mars as a planet that has been 84% terraformed, allowing humans to walk on the surface without wearing pressure suits. the martian society has become largely matriarchal, with women in most positions of authority. the story concerns a police officer, melanie ballard , second in command of a small team alongside sergeant jericho sent to pick up and transport a prisoner named desolation williams . arriving at the remote mining town where williams is being held, ballard finds virtually all of the people missing. she learns that the miners had discovered an underground doorway created by an ancient martian civilization. when the door was opened it released \"ghosts,\" disembodied spirits which possessed the miners. violence ensues, as the possessed miners commit horrific acts of death and destruction, as well as self-mutilation. with their team leader helena bradock murdered, ballard must fight off the attacking miners, escape ...</td>\n",
       "      <td>[set, in, the, second, half, of, the, 22nd, century, the, film, depicts, mars, as, a, planet, that, has, been, 84, terraformed, allowing, humans, to, walk, on, the, surface, without, wearing, pressure, suits, the, martian, society, has, become, largely, matriarchal, with, women, in, most, positions, of, authority, the, story, concerns, a, police, officer, melanie, ballard, second, in, command, of, a, small, team, alongside, sergeant, jericho, sent, to, pick, up, and, transport, a, prisoner, named, desolation, williams, arriving, at, the, remote, mining, town, where, williams, is, being, held, ballard, finds, virtually, all, of, the, people, missing, she, learns, that, the, miners, had, ...]</td>\n",
       "      <td>[set, second, half, 22nd, century, film, depicts, mars, planet, 84, terraformed, allowing, humans, walk, surface, without, wearing, pressure, suits, martian, society, become, largely, matriarchal, women, positions, authority, story, concerns, police, officer, melanie, ballard, second, command, small, team, alongside, sergeant, jericho, sent, pick, transport, prisoner, named, desolation, williams, arriving, remote, mining, town, williams, held, ballard, finds, virtually, people, missing, learns, miners, discovered, underground, doorway, created, ancient, martian, civilization, door, opened, released, ``, ghosts, '', disembodied, spirits, possessed, miners, violence, ensues, possessed, miners, commit, horrific, acts, death, destruction, well, self-mutilation, team, leader, helena, bradock, murdered, ballard, must, fight, attacking, miners, escape, town, ...]</td>\n",
       "    </tr>\n",
       "  </tbody>\n",
       "</table>\n",
       "</div>"
      ],
      "text/plain": [
       "                  name  \\\n",
       "wikiID                   \n",
       "975900  Ghosts of Mars   \n",
       "\n",
       "                                                              standard_genre  \\\n",
       "wikiID                                                                         \n",
       "975900  {Horror, Adventure, Thriller, Action, Science Fiction, Supernatural}   \n",
       "\n",
       "                                                                                                                                                                                                                                                                                                                                                                                                                                                                                                                                                                                                                                                                                                                                                                                                                                                                                                                                                                                                                                        summary  \\\n",
       "wikiID                                                                                                                                                                                                                                                                                                                                                                                                                                                                                                                                                                                                                                                                                                                                                                                                                                                                                                                                                                                                                                            \n",
       "975900  Set in the second half of the 22nd century, the film depicts Mars as a planet that has been 84% terraformed, allowing humans to walk on the surface without wearing pressure suits. The Martian society has become largely matriarchal, with women in most positions of authority. The story concerns a police officer, Melanie Ballard , second in command of a small team alongside Sergeant Jericho  sent to pick up and transport a prisoner named Desolation Williams . Arriving at the remote mining town where Williams is being held, Ballard finds virtually all of the people missing. She learns that the miners had discovered an underground doorway created by an ancient Martian civilization. When the door was opened it released \"ghosts,\" disembodied spirits which possessed the miners. Violence ensues, as the possessed miners commit horrific acts of death and destruction, as well as self-mutilation. With their team leader Helena Bradock  murdered, Ballard must fight off the attacking miners, escap...   \n",
       "\n",
       "                                                                                                                                                                                                                                                                                                                                                                                                                                                                                                                                                                                                                                                                                                                                                                                                                                                                                                                                                                                                                                    summary_str  \\\n",
       "wikiID                                                                                                                                                                                                                                                                                                                                                                                                                                                                                                                                                                                                                                                                                                                                                                                                                                                                                                                                                                                                                                            \n",
       "975900  set in the second half of the 22nd century, the film depicts mars as a planet that has been 84% terraformed, allowing humans to walk on the surface without wearing pressure suits. the martian society has become largely matriarchal, with women in most positions of authority. the story concerns a police officer, melanie ballard , second in command of a small team alongside sergeant jericho sent to pick up and transport a prisoner named desolation williams . arriving at the remote mining town where williams is being held, ballard finds virtually all of the people missing. she learns that the miners had discovered an underground doorway created by an ancient martian civilization. when the door was opened it released \"ghosts,\" disembodied spirits which possessed the miners. violence ensues, as the possessed miners commit horrific acts of death and destruction, as well as self-mutilation. with their team leader helena bradock murdered, ballard must fight off the attacking miners, escape ...   \n",
       "\n",
       "                                                                                                                                                                                                                                                                                                                                                                                                                                                                                                                                                                                                                                                                                                                          tokenized  \\\n",
       "wikiID                                                                                                                                                                                                                                                                                                                                                                                                                                                                                                                                                                                                                                                                                                                                \n",
       "975900  [set, in, the, second, half, of, the, 22nd, century, the, film, depicts, mars, as, a, planet, that, has, been, 84, terraformed, allowing, humans, to, walk, on, the, surface, without, wearing, pressure, suits, the, martian, society, has, become, largely, matriarchal, with, women, in, most, positions, of, authority, the, story, concerns, a, police, officer, melanie, ballard, second, in, command, of, a, small, team, alongside, sergeant, jericho, sent, to, pick, up, and, transport, a, prisoner, named, desolation, williams, arriving, at, the, remote, mining, town, where, williams, is, being, held, ballard, finds, virtually, all, of, the, people, missing, she, learns, that, the, miners, had, ...]   \n",
       "\n",
       "                                                                                                                                                                                                                                                                                                                                                                                                                                                                                                                                                                                                                                                                                                                                                                                                                                                                                           stopwords_removed  \n",
       "wikiID                                                                                                                                                                                                                                                                                                                                                                                                                                                                                                                                                                                                                                                                                                                                                                                                                                                                                                        \n",
       "975900  [set, second, half, 22nd, century, film, depicts, mars, planet, 84, terraformed, allowing, humans, walk, surface, without, wearing, pressure, suits, martian, society, become, largely, matriarchal, women, positions, authority, story, concerns, police, officer, melanie, ballard, second, command, small, team, alongside, sergeant, jericho, sent, pick, transport, prisoner, named, desolation, williams, arriving, remote, mining, town, williams, held, ballard, finds, virtually, people, missing, learns, miners, discovered, underground, doorway, created, ancient, martian, civilization, door, opened, released, ``, ghosts, '', disembodied, spirits, possessed, miners, violence, ensues, possessed, miners, commit, horrific, acts, death, destruction, well, self-mutilation, team, leader, helena, bradock, murdered, ballard, must, fight, attacking, miners, escape, town, ...]  "
      ]
     },
     "execution_count": 18,
     "metadata": {},
     "output_type": "execute_result"
    }
   ],
   "source": [
    "from nltk.corpus import stopwords, wordnet\n",
    "from nltk.stem import WordNetLemmatizer\n",
    "\n",
    "stop_words = set(stopwords.words('english'))\n",
    "data['stopwords_removed'] = data['tokenized'].apply(lambda x: [word for word in x if word not in stop_words])\n",
    "\n",
    "data.head()[:1]"
   ]
  },
  {
   "cell_type": "code",
   "execution_count": 19,
   "id": "eb9c22b3",
   "metadata": {},
   "outputs": [
    {
     "data": {
      "text/html": [
       "<div>\n",
       "<style scoped>\n",
       "    .dataframe tbody tr th:only-of-type {\n",
       "        vertical-align: middle;\n",
       "    }\n",
       "\n",
       "    .dataframe tbody tr th {\n",
       "        vertical-align: top;\n",
       "    }\n",
       "\n",
       "    .dataframe thead th {\n",
       "        text-align: right;\n",
       "    }\n",
       "</style>\n",
       "<table border=\"1\" class=\"dataframe\">\n",
       "  <thead>\n",
       "    <tr style=\"text-align: right;\">\n",
       "      <th></th>\n",
       "      <th>name</th>\n",
       "      <th>standard_genre</th>\n",
       "      <th>summary</th>\n",
       "      <th>summary_str</th>\n",
       "      <th>tokenized</th>\n",
       "    </tr>\n",
       "    <tr>\n",
       "      <th>wikiID</th>\n",
       "      <th></th>\n",
       "      <th></th>\n",
       "      <th></th>\n",
       "      <th></th>\n",
       "      <th></th>\n",
       "    </tr>\n",
       "  </thead>\n",
       "  <tbody>\n",
       "    <tr>\n",
       "      <th>975900</th>\n",
       "      <td>Ghosts of Mars</td>\n",
       "      <td>{Horror, Adventure, Thriller, Action, Science Fiction, Supernatural}</td>\n",
       "      <td>Set in the second half of the 22nd century, the film depicts Mars as a planet that has been 84% terraformed, allowing humans to walk on the surface without wearing pressure suits. The Martian society has become largely matriarchal, with women in most positions of authority. The story concerns a police officer, Melanie Ballard , second in command of a small team alongside Sergeant Jericho  sent to pick up and transport a prisoner named Desolation Williams . Arriving at the remote mining town where Williams is being held, Ballard finds virtually all of the people missing. She learns that the miners had discovered an underground doorway created by an ancient Martian civilization. When the door was opened it released \"ghosts,\" disembodied spirits which possessed the miners. Violence ensues, as the possessed miners commit horrific acts of death and destruction, as well as self-mutilation. With their team leader Helena Bradock  murdered, Ballard must fight off the attacking miners, escap...</td>\n",
       "      <td>set in the second half of the 22nd century, the film depicts mars as a planet that has been 84% terraformed, allowing humans to walk on the surface without wearing pressure suits. the martian society has become largely matriarchal, with women in most positions of authority. the story concerns a police officer, melanie ballard , second in command of a small team alongside sergeant jericho sent to pick up and transport a prisoner named desolation williams . arriving at the remote mining town where williams is being held, ballard finds virtually all of the people missing. she learns that the miners had discovered an underground doorway created by an ancient martian civilization. when the door was opened it released \"ghosts,\" disembodied spirits which possessed the miners. violence ensues, as the possessed miners commit horrific acts of death and destruction, as well as self-mutilation. with their team leader helena bradock murdered, ballard must fight off the attacking miners, escape ...</td>\n",
       "      <td>[set, second, half, 22nd, century, film, depicts, mars, planet, 84, terraformed, allowing, humans, walk, surface, without, wearing, pressure, suits, martian, society, become, largely, matriarchal, women, positions, authority, story, concerns, police, officer, melanie, ballard, second, command, small, team, alongside, sergeant, jericho, sent, pick, transport, prisoner, named, desolation, williams, arriving, remote, mining, town, williams, held, ballard, finds, virtually, people, missing, learns, miners, discovered, underground, doorway, created, ancient, martian, civilization, door, opened, released, ``, ghosts, '', disembodied, spirits, possessed, miners, violence, ensues, possessed, miners, commit, horrific, acts, death, destruction, well, self-mutilation, team, leader, helena, bradock, murdered, ballard, must, fight, attacking, miners, escape, town, ...]</td>\n",
       "    </tr>\n",
       "  </tbody>\n",
       "</table>\n",
       "</div>"
      ],
      "text/plain": [
       "                  name  \\\n",
       "wikiID                   \n",
       "975900  Ghosts of Mars   \n",
       "\n",
       "                                                              standard_genre  \\\n",
       "wikiID                                                                         \n",
       "975900  {Horror, Adventure, Thriller, Action, Science Fiction, Supernatural}   \n",
       "\n",
       "                                                                                                                                                                                                                                                                                                                                                                                                                                                                                                                                                                                                                                                                                                                                                                                                                                                                                                                                                                                                                                        summary  \\\n",
       "wikiID                                                                                                                                                                                                                                                                                                                                                                                                                                                                                                                                                                                                                                                                                                                                                                                                                                                                                                                                                                                                                                            \n",
       "975900  Set in the second half of the 22nd century, the film depicts Mars as a planet that has been 84% terraformed, allowing humans to walk on the surface without wearing pressure suits. The Martian society has become largely matriarchal, with women in most positions of authority. The story concerns a police officer, Melanie Ballard , second in command of a small team alongside Sergeant Jericho  sent to pick up and transport a prisoner named Desolation Williams . Arriving at the remote mining town where Williams is being held, Ballard finds virtually all of the people missing. She learns that the miners had discovered an underground doorway created by an ancient Martian civilization. When the door was opened it released \"ghosts,\" disembodied spirits which possessed the miners. Violence ensues, as the possessed miners commit horrific acts of death and destruction, as well as self-mutilation. With their team leader Helena Bradock  murdered, Ballard must fight off the attacking miners, escap...   \n",
       "\n",
       "                                                                                                                                                                                                                                                                                                                                                                                                                                                                                                                                                                                                                                                                                                                                                                                                                                                                                                                                                                                                                                    summary_str  \\\n",
       "wikiID                                                                                                                                                                                                                                                                                                                                                                                                                                                                                                                                                                                                                                                                                                                                                                                                                                                                                                                                                                                                                                            \n",
       "975900  set in the second half of the 22nd century, the film depicts mars as a planet that has been 84% terraformed, allowing humans to walk on the surface without wearing pressure suits. the martian society has become largely matriarchal, with women in most positions of authority. the story concerns a police officer, melanie ballard , second in command of a small team alongside sergeant jericho sent to pick up and transport a prisoner named desolation williams . arriving at the remote mining town where williams is being held, ballard finds virtually all of the people missing. she learns that the miners had discovered an underground doorway created by an ancient martian civilization. when the door was opened it released \"ghosts,\" disembodied spirits which possessed the miners. violence ensues, as the possessed miners commit horrific acts of death and destruction, as well as self-mutilation. with their team leader helena bradock murdered, ballard must fight off the attacking miners, escape ...   \n",
       "\n",
       "                                                                                                                                                                                                                                                                                                                                                                                                                                                                                                                                                                                                                                                                                                                                                                                                                                                                                                   tokenized  \n",
       "wikiID                                                                                                                                                                                                                                                                                                                                                                                                                                                                                                                                                                                                                                                                                                                                                                                                                                                                                                        \n",
       "975900  [set, second, half, 22nd, century, film, depicts, mars, planet, 84, terraformed, allowing, humans, walk, surface, without, wearing, pressure, suits, martian, society, become, largely, matriarchal, women, positions, authority, story, concerns, police, officer, melanie, ballard, second, command, small, team, alongside, sergeant, jericho, sent, pick, transport, prisoner, named, desolation, williams, arriving, remote, mining, town, williams, held, ballard, finds, virtually, people, missing, learns, miners, discovered, underground, doorway, created, ancient, martian, civilization, door, opened, released, ``, ghosts, '', disembodied, spirits, possessed, miners, violence, ensues, possessed, miners, commit, horrific, acts, death, destruction, well, self-mutilation, team, leader, helena, bradock, murdered, ballard, must, fight, attacking, miners, escape, town, ...]  "
      ]
     },
     "execution_count": 19,
     "metadata": {},
     "output_type": "execute_result"
    }
   ],
   "source": [
    "data['tokenized'] = data['stopwords_removed']\n",
    "data = data.drop(columns=['stopwords_removed'])\n",
    "\n",
    "data.head()[:1]"
   ]
  },
  {
   "cell_type": "markdown",
   "id": "079a4e96",
   "metadata": {},
   "source": [
    "TODO: treba maknuti \"'s\" iz tokenized dijela"
   ]
  },
  {
   "cell_type": "markdown",
   "id": "4767821b",
   "metadata": {},
   "source": [
    "Treba maknuti 's `` i \""
   ]
  },
  {
   "cell_type": "code",
   "execution_count": 20,
   "id": "1c8a6acb",
   "metadata": {},
   "outputs": [
    {
     "data": {
      "text/html": [
       "<div>\n",
       "<style scoped>\n",
       "    .dataframe tbody tr th:only-of-type {\n",
       "        vertical-align: middle;\n",
       "    }\n",
       "\n",
       "    .dataframe tbody tr th {\n",
       "        vertical-align: top;\n",
       "    }\n",
       "\n",
       "    .dataframe thead th {\n",
       "        text-align: right;\n",
       "    }\n",
       "</style>\n",
       "<table border=\"1\" class=\"dataframe\">\n",
       "  <thead>\n",
       "    <tr style=\"text-align: right;\">\n",
       "      <th></th>\n",
       "      <th>name</th>\n",
       "      <th>standard_genre</th>\n",
       "      <th>summary</th>\n",
       "      <th>summary_str</th>\n",
       "      <th>tokenized</th>\n",
       "      <th>bez_interpunkcije2</th>\n",
       "    </tr>\n",
       "    <tr>\n",
       "      <th>wikiID</th>\n",
       "      <th></th>\n",
       "      <th></th>\n",
       "      <th></th>\n",
       "      <th></th>\n",
       "      <th></th>\n",
       "      <th></th>\n",
       "    </tr>\n",
       "  </thead>\n",
       "  <tbody>\n",
       "    <tr>\n",
       "      <th>975900</th>\n",
       "      <td>Ghosts of Mars</td>\n",
       "      <td>{Horror, Adventure, Thriller, Action, Science Fiction, Supernatural}</td>\n",
       "      <td>Set in the second half of the 22nd century, the film depicts Mars as a planet that has been 84% terraformed, allowing humans to walk on the surface without wearing pressure suits. The Martian society has become largely matriarchal, with women in most positions of authority. The story concerns a police officer, Melanie Ballard , second in command of a small team alongside Sergeant Jericho  sent to pick up and transport a prisoner named Desolation Williams . Arriving at the remote mining town where Williams is being held, Ballard finds virtually all of the people missing. She learns that the miners had discovered an underground doorway created by an ancient Martian civilization. When the door was opened it released \"ghosts,\" disembodied spirits which possessed the miners. Violence ensues, as the possessed miners commit horrific acts of death and destruction, as well as self-mutilation. With their team leader Helena Bradock  murdered, Ballard must fight off the attacking miners, escap...</td>\n",
       "      <td>set in the second half of the 22nd century, the film depicts mars as a planet that has been 84% terraformed, allowing humans to walk on the surface without wearing pressure suits. the martian society has become largely matriarchal, with women in most positions of authority. the story concerns a police officer, melanie ballard , second in command of a small team alongside sergeant jericho sent to pick up and transport a prisoner named desolation williams . arriving at the remote mining town where williams is being held, ballard finds virtually all of the people missing. she learns that the miners had discovered an underground doorway created by an ancient martian civilization. when the door was opened it released \"ghosts,\" disembodied spirits which possessed the miners. violence ensues, as the possessed miners commit horrific acts of death and destruction, as well as self-mutilation. with their team leader helena bradock murdered, ballard must fight off the attacking miners, escape ...</td>\n",
       "      <td>[set, second, half, 22nd, century, film, depicts, mars, planet, 84, terraformed, allowing, humans, walk, surface, without, wearing, pressure, suits, martian, society, become, largely, matriarchal, women, positions, authority, story, concerns, police, officer, melanie, ballard, second, command, small, team, alongside, sergeant, jericho, sent, pick, transport, prisoner, named, desolation, williams, arriving, remote, mining, town, williams, held, ballard, finds, virtually, people, missing, learns, miners, discovered, underground, doorway, created, ancient, martian, civilization, door, opened, released, ``, ghosts, '', disembodied, spirits, possessed, miners, violence, ensues, possessed, miners, commit, horrific, acts, death, destruction, well, self-mutilation, team, leader, helena, bradock, murdered, ballard, must, fight, attacking, miners, escape, town, ...]</td>\n",
       "      <td>[set, second, half, 22nd, century, film, depicts, mars, planet, 84, terraformed, allowing, humans, walk, surface, without, wearing, pressure, suits, martian, society, become, largely, matriarchal, women, positions, authority, story, concerns, police, officer, melanie, ballard, second, command, small, team, alongside, sergeant, jericho, sent, pick, transport, prisoner, named, desolation, williams, arriving, remote, mining, town, williams, held, ballard, finds, virtually, people, missing, learns, miners, discovered, underground, doorway, created, ancient, martian, civilization, door, opened, released, ghosts, disembodied, spirits, possessed, miners, violence, ensues, possessed, miners, commit, horrific, acts, death, destruction, well, self-mutilation, team, leader, helena, bradock, murdered, ballard, must, fight, attacking, miners, escape, town, destroy, ghosts, ...]</td>\n",
       "    </tr>\n",
       "  </tbody>\n",
       "</table>\n",
       "</div>"
      ],
      "text/plain": [
       "                  name  \\\n",
       "wikiID                   \n",
       "975900  Ghosts of Mars   \n",
       "\n",
       "                                                              standard_genre  \\\n",
       "wikiID                                                                         \n",
       "975900  {Horror, Adventure, Thriller, Action, Science Fiction, Supernatural}   \n",
       "\n",
       "                                                                                                                                                                                                                                                                                                                                                                                                                                                                                                                                                                                                                                                                                                                                                                                                                                                                                                                                                                                                                                        summary  \\\n",
       "wikiID                                                                                                                                                                                                                                                                                                                                                                                                                                                                                                                                                                                                                                                                                                                                                                                                                                                                                                                                                                                                                                            \n",
       "975900  Set in the second half of the 22nd century, the film depicts Mars as a planet that has been 84% terraformed, allowing humans to walk on the surface without wearing pressure suits. The Martian society has become largely matriarchal, with women in most positions of authority. The story concerns a police officer, Melanie Ballard , second in command of a small team alongside Sergeant Jericho  sent to pick up and transport a prisoner named Desolation Williams . Arriving at the remote mining town where Williams is being held, Ballard finds virtually all of the people missing. She learns that the miners had discovered an underground doorway created by an ancient Martian civilization. When the door was opened it released \"ghosts,\" disembodied spirits which possessed the miners. Violence ensues, as the possessed miners commit horrific acts of death and destruction, as well as self-mutilation. With their team leader Helena Bradock  murdered, Ballard must fight off the attacking miners, escap...   \n",
       "\n",
       "                                                                                                                                                                                                                                                                                                                                                                                                                                                                                                                                                                                                                                                                                                                                                                                                                                                                                                                                                                                                                                    summary_str  \\\n",
       "wikiID                                                                                                                                                                                                                                                                                                                                                                                                                                                                                                                                                                                                                                                                                                                                                                                                                                                                                                                                                                                                                                            \n",
       "975900  set in the second half of the 22nd century, the film depicts mars as a planet that has been 84% terraformed, allowing humans to walk on the surface without wearing pressure suits. the martian society has become largely matriarchal, with women in most positions of authority. the story concerns a police officer, melanie ballard , second in command of a small team alongside sergeant jericho sent to pick up and transport a prisoner named desolation williams . arriving at the remote mining town where williams is being held, ballard finds virtually all of the people missing. she learns that the miners had discovered an underground doorway created by an ancient martian civilization. when the door was opened it released \"ghosts,\" disembodied spirits which possessed the miners. violence ensues, as the possessed miners commit horrific acts of death and destruction, as well as self-mutilation. with their team leader helena bradock murdered, ballard must fight off the attacking miners, escape ...   \n",
       "\n",
       "                                                                                                                                                                                                                                                                                                                                                                                                                                                                                                                                                                                                                                                                                                                                                                                                                                                                                                   tokenized  \\\n",
       "wikiID                                                                                                                                                                                                                                                                                                                                                                                                                                                                                                                                                                                                                                                                                                                                                                                                                                                                                                         \n",
       "975900  [set, second, half, 22nd, century, film, depicts, mars, planet, 84, terraformed, allowing, humans, walk, surface, without, wearing, pressure, suits, martian, society, become, largely, matriarchal, women, positions, authority, story, concerns, police, officer, melanie, ballard, second, command, small, team, alongside, sergeant, jericho, sent, pick, transport, prisoner, named, desolation, williams, arriving, remote, mining, town, williams, held, ballard, finds, virtually, people, missing, learns, miners, discovered, underground, doorway, created, ancient, martian, civilization, door, opened, released, ``, ghosts, '', disembodied, spirits, possessed, miners, violence, ensues, possessed, miners, commit, horrific, acts, death, destruction, well, self-mutilation, team, leader, helena, bradock, murdered, ballard, must, fight, attacking, miners, escape, town, ...]   \n",
       "\n",
       "                                                                                                                                                                                                                                                                                                                                                                                                                                                                                                                                                                                                                                                                                                                                                                                                                                                                                                   bez_interpunkcije2  \n",
       "wikiID                                                                                                                                                                                                                                                                                                                                                                                                                                                                                                                                                                                                                                                                                                                                                                                                                                                                                                                 \n",
       "975900  [set, second, half, 22nd, century, film, depicts, mars, planet, 84, terraformed, allowing, humans, walk, surface, without, wearing, pressure, suits, martian, society, become, largely, matriarchal, women, positions, authority, story, concerns, police, officer, melanie, ballard, second, command, small, team, alongside, sergeant, jericho, sent, pick, transport, prisoner, named, desolation, williams, arriving, remote, mining, town, williams, held, ballard, finds, virtually, people, missing, learns, miners, discovered, underground, doorway, created, ancient, martian, civilization, door, opened, released, ghosts, disembodied, spirits, possessed, miners, violence, ensues, possessed, miners, commit, horrific, acts, death, destruction, well, self-mutilation, team, leader, helena, bradock, murdered, ballard, must, fight, attacking, miners, escape, town, destroy, ghosts, ...]  "
      ]
     },
     "execution_count": 20,
     "metadata": {},
     "output_type": "execute_result"
    }
   ],
   "source": [
    "data['bez_interpunkcije2'] = data['tokenized'].apply(\n",
    "    lambda x: [word for word in x if word not in {\"'s\", \"``\", \"''\"}])\n",
    "\n",
    "data.head()[:1]"
   ]
  },
  {
   "cell_type": "code",
   "execution_count": 21,
   "id": "2285bc76",
   "metadata": {},
   "outputs": [
    {
     "data": {
      "text/html": [
       "<div>\n",
       "<style scoped>\n",
       "    .dataframe tbody tr th:only-of-type {\n",
       "        vertical-align: middle;\n",
       "    }\n",
       "\n",
       "    .dataframe tbody tr th {\n",
       "        vertical-align: top;\n",
       "    }\n",
       "\n",
       "    .dataframe thead th {\n",
       "        text-align: right;\n",
       "    }\n",
       "</style>\n",
       "<table border=\"1\" class=\"dataframe\">\n",
       "  <thead>\n",
       "    <tr style=\"text-align: right;\">\n",
       "      <th></th>\n",
       "      <th>name</th>\n",
       "      <th>standard_genre</th>\n",
       "      <th>summary</th>\n",
       "      <th>summary_str</th>\n",
       "      <th>tokenized</th>\n",
       "    </tr>\n",
       "    <tr>\n",
       "      <th>wikiID</th>\n",
       "      <th></th>\n",
       "      <th></th>\n",
       "      <th></th>\n",
       "      <th></th>\n",
       "      <th></th>\n",
       "    </tr>\n",
       "  </thead>\n",
       "  <tbody>\n",
       "    <tr>\n",
       "      <th>975900</th>\n",
       "      <td>Ghosts of Mars</td>\n",
       "      <td>{Horror, Adventure, Thriller, Action, Science Fiction, Supernatural}</td>\n",
       "      <td>Set in the second half of the 22nd century, the film depicts Mars as a planet that has been 84% terraformed, allowing humans to walk on the surface without wearing pressure suits. The Martian society has become largely matriarchal, with women in most positions of authority. The story concerns a police officer, Melanie Ballard , second in command of a small team alongside Sergeant Jericho  sent to pick up and transport a prisoner named Desolation Williams . Arriving at the remote mining town where Williams is being held, Ballard finds virtually all of the people missing. She learns that the miners had discovered an underground doorway created by an ancient Martian civilization. When the door was opened it released \"ghosts,\" disembodied spirits which possessed the miners. Violence ensues, as the possessed miners commit horrific acts of death and destruction, as well as self-mutilation. With their team leader Helena Bradock  murdered, Ballard must fight off the attacking miners, escap...</td>\n",
       "      <td>set in the second half of the 22nd century, the film depicts mars as a planet that has been 84% terraformed, allowing humans to walk on the surface without wearing pressure suits. the martian society has become largely matriarchal, with women in most positions of authority. the story concerns a police officer, melanie ballard , second in command of a small team alongside sergeant jericho sent to pick up and transport a prisoner named desolation williams . arriving at the remote mining town where williams is being held, ballard finds virtually all of the people missing. she learns that the miners had discovered an underground doorway created by an ancient martian civilization. when the door was opened it released \"ghosts,\" disembodied spirits which possessed the miners. violence ensues, as the possessed miners commit horrific acts of death and destruction, as well as self-mutilation. with their team leader helena bradock murdered, ballard must fight off the attacking miners, escape ...</td>\n",
       "      <td>[set, second, half, 22nd, century, film, depicts, mars, planet, 84, terraformed, allowing, humans, walk, surface, without, wearing, pressure, suits, martian, society, become, largely, matriarchal, women, positions, authority, story, concerns, police, officer, melanie, ballard, second, command, small, team, alongside, sergeant, jericho, sent, pick, transport, prisoner, named, desolation, williams, arriving, remote, mining, town, williams, held, ballard, finds, virtually, people, missing, learns, miners, discovered, underground, doorway, created, ancient, martian, civilization, door, opened, released, ghosts, disembodied, spirits, possessed, miners, violence, ensues, possessed, miners, commit, horrific, acts, death, destruction, well, self-mutilation, team, leader, helena, bradock, murdered, ballard, must, fight, attacking, miners, escape, town, destroy, ghosts, ...]</td>\n",
       "    </tr>\n",
       "  </tbody>\n",
       "</table>\n",
       "</div>"
      ],
      "text/plain": [
       "                  name  \\\n",
       "wikiID                   \n",
       "975900  Ghosts of Mars   \n",
       "\n",
       "                                                              standard_genre  \\\n",
       "wikiID                                                                         \n",
       "975900  {Horror, Adventure, Thriller, Action, Science Fiction, Supernatural}   \n",
       "\n",
       "                                                                                                                                                                                                                                                                                                                                                                                                                                                                                                                                                                                                                                                                                                                                                                                                                                                                                                                                                                                                                                        summary  \\\n",
       "wikiID                                                                                                                                                                                                                                                                                                                                                                                                                                                                                                                                                                                                                                                                                                                                                                                                                                                                                                                                                                                                                                            \n",
       "975900  Set in the second half of the 22nd century, the film depicts Mars as a planet that has been 84% terraformed, allowing humans to walk on the surface without wearing pressure suits. The Martian society has become largely matriarchal, with women in most positions of authority. The story concerns a police officer, Melanie Ballard , second in command of a small team alongside Sergeant Jericho  sent to pick up and transport a prisoner named Desolation Williams . Arriving at the remote mining town where Williams is being held, Ballard finds virtually all of the people missing. She learns that the miners had discovered an underground doorway created by an ancient Martian civilization. When the door was opened it released \"ghosts,\" disembodied spirits which possessed the miners. Violence ensues, as the possessed miners commit horrific acts of death and destruction, as well as self-mutilation. With their team leader Helena Bradock  murdered, Ballard must fight off the attacking miners, escap...   \n",
       "\n",
       "                                                                                                                                                                                                                                                                                                                                                                                                                                                                                                                                                                                                                                                                                                                                                                                                                                                                                                                                                                                                                                    summary_str  \\\n",
       "wikiID                                                                                                                                                                                                                                                                                                                                                                                                                                                                                                                                                                                                                                                                                                                                                                                                                                                                                                                                                                                                                                            \n",
       "975900  set in the second half of the 22nd century, the film depicts mars as a planet that has been 84% terraformed, allowing humans to walk on the surface without wearing pressure suits. the martian society has become largely matriarchal, with women in most positions of authority. the story concerns a police officer, melanie ballard , second in command of a small team alongside sergeant jericho sent to pick up and transport a prisoner named desolation williams . arriving at the remote mining town where williams is being held, ballard finds virtually all of the people missing. she learns that the miners had discovered an underground doorway created by an ancient martian civilization. when the door was opened it released \"ghosts,\" disembodied spirits which possessed the miners. violence ensues, as the possessed miners commit horrific acts of death and destruction, as well as self-mutilation. with their team leader helena bradock murdered, ballard must fight off the attacking miners, escape ...   \n",
       "\n",
       "                                                                                                                                                                                                                                                                                                                                                                                                                                                                                                                                                                                                                                                                                                                                                                                                                                                                                                            tokenized  \n",
       "wikiID                                                                                                                                                                                                                                                                                                                                                                                                                                                                                                                                                                                                                                                                                                                                                                                                                                                                                                                 \n",
       "975900  [set, second, half, 22nd, century, film, depicts, mars, planet, 84, terraformed, allowing, humans, walk, surface, without, wearing, pressure, suits, martian, society, become, largely, matriarchal, women, positions, authority, story, concerns, police, officer, melanie, ballard, second, command, small, team, alongside, sergeant, jericho, sent, pick, transport, prisoner, named, desolation, williams, arriving, remote, mining, town, williams, held, ballard, finds, virtually, people, missing, learns, miners, discovered, underground, doorway, created, ancient, martian, civilization, door, opened, released, ghosts, disembodied, spirits, possessed, miners, violence, ensues, possessed, miners, commit, horrific, acts, death, destruction, well, self-mutilation, team, leader, helena, bradock, murdered, ballard, must, fight, attacking, miners, escape, town, destroy, ghosts, ...]  "
      ]
     },
     "execution_count": 21,
     "metadata": {},
     "output_type": "execute_result"
    }
   ],
   "source": [
    "data['tokenized'] = data['bez_interpunkcije2']\n",
    "data = data.drop(columns=['bez_interpunkcije2'])\n",
    "\n",
    "data.head()[:1]"
   ]
  },
  {
   "cell_type": "code",
   "execution_count": 22,
   "id": "1b9e70ba",
   "metadata": {},
   "outputs": [
    {
     "data": {
      "text/html": [
       "<div>\n",
       "<style scoped>\n",
       "    .dataframe tbody tr th:only-of-type {\n",
       "        vertical-align: middle;\n",
       "    }\n",
       "\n",
       "    .dataframe tbody tr th {\n",
       "        vertical-align: top;\n",
       "    }\n",
       "\n",
       "    .dataframe thead th {\n",
       "        text-align: right;\n",
       "    }\n",
       "</style>\n",
       "<table border=\"1\" class=\"dataframe\">\n",
       "  <thead>\n",
       "    <tr style=\"text-align: right;\">\n",
       "      <th></th>\n",
       "      <th>name</th>\n",
       "      <th>standard_genre</th>\n",
       "      <th>summary</th>\n",
       "      <th>summary_str</th>\n",
       "      <th>tokenized</th>\n",
       "      <th>tokenized_len</th>\n",
       "    </tr>\n",
       "    <tr>\n",
       "      <th>wikiID</th>\n",
       "      <th></th>\n",
       "      <th></th>\n",
       "      <th></th>\n",
       "      <th></th>\n",
       "      <th></th>\n",
       "      <th></th>\n",
       "    </tr>\n",
       "  </thead>\n",
       "  <tbody>\n",
       "    <tr>\n",
       "      <th>975900</th>\n",
       "      <td>Ghosts of Mars</td>\n",
       "      <td>{Horror, Adventure, Thriller, Action, Science Fiction, Supernatural}</td>\n",
       "      <td>Set in the second half of the 22nd century, the film depicts Mars as a planet that has been 84% terraformed, allowing humans to walk on the surface without wearing pressure suits. The Martian society has become largely matriarchal, with women in most positions of authority. The story concerns a police officer, Melanie Ballard , second in command of a small team alongside Sergeant Jericho  sent to pick up and transport a prisoner named Desolation Williams . Arriving at the remote mining town where Williams is being held, Ballard finds virtually all of the people missing. She learns that the miners had discovered an underground doorway created by an ancient Martian civilization. When the door was opened it released \"ghosts,\" disembodied spirits which possessed the miners. Violence ensues, as the possessed miners commit horrific acts of death and destruction, as well as self-mutilation. With their team leader Helena Bradock  murdered, Ballard must fight off the attacking miners, escap...</td>\n",
       "      <td>set in the second half of the 22nd century, the film depicts mars as a planet that has been 84% terraformed, allowing humans to walk on the surface without wearing pressure suits. the martian society has become largely matriarchal, with women in most positions of authority. the story concerns a police officer, melanie ballard , second in command of a small team alongside sergeant jericho sent to pick up and transport a prisoner named desolation williams . arriving at the remote mining town where williams is being held, ballard finds virtually all of the people missing. she learns that the miners had discovered an underground doorway created by an ancient martian civilization. when the door was opened it released \"ghosts,\" disembodied spirits which possessed the miners. violence ensues, as the possessed miners commit horrific acts of death and destruction, as well as self-mutilation. with their team leader helena bradock murdered, ballard must fight off the attacking miners, escape ...</td>\n",
       "      <td>[set, second, half, 22nd, century, film, depicts, mars, planet, 84, terraformed, allowing, humans, walk, surface, without, wearing, pressure, suits, martian, society, become, largely, matriarchal, women, positions, authority, story, concerns, police, officer, melanie, ballard, second, command, small, team, alongside, sergeant, jericho, sent, pick, transport, prisoner, named, desolation, williams, arriving, remote, mining, town, williams, held, ballard, finds, virtually, people, missing, learns, miners, discovered, underground, doorway, created, ancient, martian, civilization, door, opened, released, ghosts, disembodied, spirits, possessed, miners, violence, ensues, possessed, miners, commit, horrific, acts, death, destruction, well, self-mutilation, team, leader, helena, bradock, murdered, ballard, must, fight, attacking, miners, escape, town, destroy, ghosts, ...]</td>\n",
       "      <td>201</td>\n",
       "    </tr>\n",
       "  </tbody>\n",
       "</table>\n",
       "</div>"
      ],
      "text/plain": [
       "                  name  \\\n",
       "wikiID                   \n",
       "975900  Ghosts of Mars   \n",
       "\n",
       "                                                              standard_genre  \\\n",
       "wikiID                                                                         \n",
       "975900  {Horror, Adventure, Thriller, Action, Science Fiction, Supernatural}   \n",
       "\n",
       "                                                                                                                                                                                                                                                                                                                                                                                                                                                                                                                                                                                                                                                                                                                                                                                                                                                                                                                                                                                                                                        summary  \\\n",
       "wikiID                                                                                                                                                                                                                                                                                                                                                                                                                                                                                                                                                                                                                                                                                                                                                                                                                                                                                                                                                                                                                                            \n",
       "975900  Set in the second half of the 22nd century, the film depicts Mars as a planet that has been 84% terraformed, allowing humans to walk on the surface without wearing pressure suits. The Martian society has become largely matriarchal, with women in most positions of authority. The story concerns a police officer, Melanie Ballard , second in command of a small team alongside Sergeant Jericho  sent to pick up and transport a prisoner named Desolation Williams . Arriving at the remote mining town where Williams is being held, Ballard finds virtually all of the people missing. She learns that the miners had discovered an underground doorway created by an ancient Martian civilization. When the door was opened it released \"ghosts,\" disembodied spirits which possessed the miners. Violence ensues, as the possessed miners commit horrific acts of death and destruction, as well as self-mutilation. With their team leader Helena Bradock  murdered, Ballard must fight off the attacking miners, escap...   \n",
       "\n",
       "                                                                                                                                                                                                                                                                                                                                                                                                                                                                                                                                                                                                                                                                                                                                                                                                                                                                                                                                                                                                                                    summary_str  \\\n",
       "wikiID                                                                                                                                                                                                                                                                                                                                                                                                                                                                                                                                                                                                                                                                                                                                                                                                                                                                                                                                                                                                                                            \n",
       "975900  set in the second half of the 22nd century, the film depicts mars as a planet that has been 84% terraformed, allowing humans to walk on the surface without wearing pressure suits. the martian society has become largely matriarchal, with women in most positions of authority. the story concerns a police officer, melanie ballard , second in command of a small team alongside sergeant jericho sent to pick up and transport a prisoner named desolation williams . arriving at the remote mining town where williams is being held, ballard finds virtually all of the people missing. she learns that the miners had discovered an underground doorway created by an ancient martian civilization. when the door was opened it released \"ghosts,\" disembodied spirits which possessed the miners. violence ensues, as the possessed miners commit horrific acts of death and destruction, as well as self-mutilation. with their team leader helena bradock murdered, ballard must fight off the attacking miners, escape ...   \n",
       "\n",
       "                                                                                                                                                                                                                                                                                                                                                                                                                                                                                                                                                                                                                                                                                                                                                                                                                                                                                                            tokenized  \\\n",
       "wikiID                                                                                                                                                                                                                                                                                                                                                                                                                                                                                                                                                                                                                                                                                                                                                                                                                                                                                                                  \n",
       "975900  [set, second, half, 22nd, century, film, depicts, mars, planet, 84, terraformed, allowing, humans, walk, surface, without, wearing, pressure, suits, martian, society, become, largely, matriarchal, women, positions, authority, story, concerns, police, officer, melanie, ballard, second, command, small, team, alongside, sergeant, jericho, sent, pick, transport, prisoner, named, desolation, williams, arriving, remote, mining, town, williams, held, ballard, finds, virtually, people, missing, learns, miners, discovered, underground, doorway, created, ancient, martian, civilization, door, opened, released, ghosts, disembodied, spirits, possessed, miners, violence, ensues, possessed, miners, commit, horrific, acts, death, destruction, well, self-mutilation, team, leader, helena, bradock, murdered, ballard, must, fight, attacking, miners, escape, town, destroy, ghosts, ...]   \n",
       "\n",
       "        tokenized_len  \n",
       "wikiID                 \n",
       "975900            201  "
      ]
     },
     "execution_count": 22,
     "metadata": {},
     "output_type": "execute_result"
    }
   ],
   "source": [
    "data['tokenized_len'] = data['tokenized'].apply(len)\n",
    "\n",
    "data.head()[:1]"
   ]
  },
  {
   "cell_type": "code",
   "execution_count": 23,
   "id": "b2c8b7a4",
   "metadata": {},
   "outputs": [
    {
     "data": {
      "text/plain": [
       "count    40188.000000\n",
       "mean       172.269309\n",
       "std        171.950447\n",
       "min          6.000000\n",
       "25%         50.000000\n",
       "50%        105.000000\n",
       "75%        252.000000\n",
       "max       2566.000000\n",
       "Name: tokenized_len, dtype: float64"
      ]
     },
     "execution_count": 23,
     "metadata": {},
     "output_type": "execute_result"
    }
   ],
   "source": [
    "data['tokenized_len'].describe()"
   ]
  },
  {
   "cell_type": "code",
   "execution_count": 24,
   "id": "fa1d30a6",
   "metadata": {},
   "outputs": [
    {
     "data": {
      "image/png": "[encoded data removed]",
      "text/plain": [
       "<Figure size 1200x800 with 2 Axes>"
      ]
     },
     "metadata": {
      "needs_background": "light"
     },
     "output_type": "display_data"
    }
   ],
   "source": [
    "plt.figure(figsize=(15, 10), dpi=80)\n",
    "\n",
    "plt.subplot(211)\n",
    "n, bins, patches = plt.hist(data['tokenized_len'], bins=100)\n",
    "plt.xticks(bins[::5])\n",
    "\n",
    "plt.subplot(212)\n",
    "n, bins, patches = plt.hist(data[data['tokenized_len'] < 1000]['tokenized_len'], bins=100)\n",
    "plt.xticks(bins[::5])\n",
    "\n",
    "plt.show()"
   ]
  },
  {
   "cell_type": "code",
   "execution_count": 25,
   "id": "53d34ec6",
   "metadata": {},
   "outputs": [],
   "source": [
    "from sklearn.feature_extraction.text import CountVectorizer\n",
    "\n",
    "def get_top_n_words(corpus, n=None):\n",
    "    vec = CountVectorizer(stop_words='english').fit(corpus)\n",
    "    bag_of_words = vec.transform(corpus)\n",
    "    sum_words = bag_of_words.sum(axis=0) \n",
    "    words_freq = [(word, sum_words[0, idx]) for word, idx in vec.vocabulary_.items()]\n",
    "    words_freq =sorted(words_freq, key = lambda x: x[1], reverse=True)\n",
    "    return words_freq[:n]"
   ]
  },
  {
   "cell_type": "code",
   "execution_count": 26,
   "id": "24d521a8",
   "metadata": {},
   "outputs": [
    {
     "name": "stderr",
     "output_type": "stream",
     "text": [
      "/home/ltomic/anaconda3/envs/strojno/lib/python3.6/site-packages/ipykernel_launcher.py:11: UserWarning: FixedFormatter should only be used together with FixedLocator\n",
      "  # This is added back by InteractiveShellApp.init_path()\n"
     ]
    },
    {
     "data": {
      "image/png": "[encoded data removed]",
      "text/plain": [
       "<Figure size 1200x560 with 1 Axes>"
      ]
     },
     "metadata": {
      "needs_background": "light"
     },
     "output_type": "display_data"
    }
   ],
   "source": [
    "common_grams = get_top_n_words(data['summary_str'], 40)\n",
    "    \n",
    "plt.figure(figsize=(15, 7), dpi=80)\n",
    "plt.bar([x[0] for x in common_grams], [x[1] for x in common_grams])\n",
    "\n",
    "plt.xlabel(\"Rijeci\")\n",
    "plt.ylabel(\"Frekvencija\")\n",
    "plt.title('Frekvencija rijeci bez stopwordova')\n",
    "\n",
    "ax = plt.gca()\n",
    "ax.set_xticklabels([x[0] for x in common_grams], rotation = 90)\n",
    "\n",
    "plt.show()"
   ]
  },
  {
   "cell_type": "code",
   "execution_count": 27,
   "id": "0893ccc4",
   "metadata": {},
   "outputs": [
    {
     "name": "stderr",
     "output_type": "stream",
     "text": [
      "/home/ltomic/anaconda3/envs/strojno/lib/python3.6/site-packages/ipykernel_launcher.py:19: UserWarning: FixedFormatter should only be used together with FixedLocator\n"
     ]
    },
    {
     "data": {
      "image/png": "[encoded data removed]",
      "text/plain": [
       "<Figure size 1200x560 with 1 Axes>"
      ]
     },
     "metadata": {
      "needs_background": "light"
     },
     "output_type": "display_data"
    }
   ],
   "source": [
    "def get_top_n_bigram(corpus, n=None):\n",
    "    vec = CountVectorizer(ngram_range=(2, 2), stop_words='english').fit(corpus)\n",
    "    bag_of_words = vec.transform(corpus)\n",
    "    sum_words = bag_of_words.sum(axis=0) \n",
    "    words_freq = [(word, sum_words[0, idx]) for word, idx in vec.vocabulary_.items()]\n",
    "    words_freq =sorted(words_freq, key = lambda x: x[1], reverse=True)\n",
    "    return words_freq[:n]\n",
    "\n",
    "common_grams = get_top_n_bigram(data['summary_str'], 40)\n",
    "    \n",
    "plt.figure(figsize=(15, 7), dpi=80)\n",
    "plt.bar([x[0] for x in common_grams], [x[1] for x in common_grams])\n",
    "\n",
    "plt.xlabel(\"Bigrami\")\n",
    "plt.ylabel(\"Frekvencija\")\n",
    "plt.title('Frekvencija bigrama bez stopwordova')\n",
    "\n",
    "ax = plt.gca()\n",
    "ax.set_xticklabels([x[0] for x in common_grams], rotation = 90)\n",
    "\n",
    "plt.show()"
   ]
  },
  {
   "cell_type": "markdown",
   "id": "5086e3b8",
   "metadata": {},
   "source": [
    "Vidimo neke potencijalne bigrame koji bi mogli (barem ovako intuitivno) indicirati o kojem zanru filma se radi :<br />\n",
    "falls love ili fall love -> romantic (vidimo da trebamo napraviti lemminizaciju ili stemminizaciju) <br />\n",
    "high school -> teen <br />\n",
    "world war -> historic ili war <br />\n",
    "police officer -> crime  <br />\n",
    "\n",
    "Ali tako mozemo primjetiti i da nije potreban bigram u ovim slucajevima jer je dovoljna jedna rijec  <br />\n",
    "falls love -> love -> romantic  <br />\n",
    "high school -> school -> teen  <br />\n",
    "world war -> war -> war  <br />\n",
    "police officer -> police -> crime  <br />\n",
    "\n",
    "Mozda je bolje pogledati s tfidf vectorizerom"
   ]
  },
  {
   "cell_type": "code",
   "execution_count": 28,
   "id": "e44fabc3",
   "metadata": {},
   "outputs": [
    {
     "name": "stderr",
     "output_type": "stream",
     "text": [
      "/home/ltomic/anaconda3/envs/strojno/lib/python3.6/site-packages/ipykernel_launcher.py:19: UserWarning: FixedFormatter should only be used together with FixedLocator\n"
     ]
    },
    {
     "data": {
      "image/png": "[encoded data removed]",
      "text/plain": [
       "<Figure size 1200x560 with 1 Axes>"
      ]
     },
     "metadata": {
      "needs_background": "light"
     },
     "output_type": "display_data"
    }
   ],
   "source": [
    "def get_top_n_trigram(corpus, n=None):\n",
    "    vec = CountVectorizer(ngram_range=(3, 3), stop_words='english').fit(corpus)\n",
    "    bag_of_words = vec.transform(corpus)\n",
    "    sum_words = bag_of_words.sum(axis=0) \n",
    "    words_freq = [(word, sum_words[0, idx]) for word, idx in vec.vocabulary_.items()]\n",
    "    words_freq =sorted(words_freq, key = lambda x: x[1], reverse=True)\n",
    "    return words_freq[:n]\n",
    "\n",
    "common_grams = get_top_n_trigram(data['summary_str'], 40)\n",
    "    \n",
    "plt.figure(figsize=(15, 7), dpi=80)\n",
    "plt.bar([x[0] for x in common_grams], [x[1] for x in common_grams])\n",
    "\n",
    "plt.xlabel(\"Trigrami\")\n",
    "plt.ylabel(\"Frekvencija\")\n",
    "plt.title('Frekvencija Trigrama bez stopwordova')\n",
    "\n",
    "ax = plt.gca()\n",
    "ax.set_xticklabels([x[0] for x in common_grams], rotation = 90)\n",
    "\n",
    "plt.show()"
   ]
  },
  {
   "cell_type": "markdown",
   "id": "315a8894",
   "metadata": {},
   "source": [
    "www imdb com -> izgleda da cemo jos malo morat cistiti <br/>\n"
   ]
  },
  {
   "cell_type": "code",
   "execution_count": null,
   "id": "eeb3c352",
   "metadata": {},
   "outputs": [],
   "source": []
  }
 ],
 "metadata": {
  "kernelspec": {
   "display_name": "Python 3",
   "language": "python",
   "name": "python3"
  },
  "language_info": {
   "codemirror_mode": {
    "name": "ipython",
    "version": 3
   },
   "file_extension": ".py",
   "mimetype": "text/x-python",
   "name": "python",
   "nbconvert_exporter": "python",
   "pygments_lexer": "ipython3",
   "version": "3.6.13"
  }
 },
 "nbformat": 4,
 "nbformat_minor": 5
}
